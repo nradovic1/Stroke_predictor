{
 "cells": [
  {
   "cell_type": "markdown",
   "id": "e7c4f2b7",
   "metadata": {},
   "source": [
    "#Model Testing"
   ]
  },
  {
   "cell_type": "code",
   "execution_count": 1,
   "id": "0e2a759a",
   "metadata": {
    "id": "0e2a759a"
   },
   "outputs": [],
   "source": [
    "import numpy as np\n",
    "import pandas as pd\n",
    "from pathlib import Path\n",
    "from sklearn.model_selection import train_test_split\n",
    "from sklearn.preprocessing import StandardScaler, MinMaxScaler, LabelEncoder\n",
    "from sklearn.metrics import confusion_matrix, classification_report\n",
    "from sklearn.decomposition import PCA\n",
    "from sklearn.pipeline import Pipeline\n",
    "from sklearn.model_selection import GridSearchCV\n",
    "from sklearn.linear_model import LogisticRegression\n",
    "from sklearn.ensemble import RandomForestClassifier\n",
    "from sklearn.ensemble import ExtraTreesClassifier\n",
    "from matplotlib import pyplot as plt\n",
    "from sklearn.cluster import KMeans\n",
    "from sklearn.neighbors import KNeighborsClassifier\n",
    "import tensorflow as tf\n",
    "from imblearn.ensemble import BalancedRandomForestClassifier\n",
    "from sklearn.ensemble import AdaBoostClassifier\n",
    "from sklearn.metrics import balanced_accuracy_score\n",
    "from sklearn import tree\n",
    "from numpy import mean\n",
    "from sklearn.datasets import make_classification\n",
    "from sklearn.model_selection import cross_val_score\n",
    "from sklearn.model_selection import RepeatedStratifiedKFold\n",
    "from sklearn.tree import DecisionTreeClassifier\n",
    "from imblearn.pipeline import Pipeline\n",
    "from imblearn.over_sampling import RandomOverSampler\n",
    "from imblearn.under_sampling import RandomUnderSampler \n",
    "from imblearn.ensemble import BalancedRandomForestClassifier, RUSBoostClassifier, BalancedBaggingClassifier\n",
    "from sklearn.svm import SVC\n",
    "from sklearn.naive_bayes import GaussianNB\n",
    "from imblearn.metrics import classification_report_imbalanced\n",
    "from imblearn.combine import SMOTEENN\n"
   ]
  },
  {
   "cell_type": "code",
   "execution_count": 2,
   "id": "8edc953b",
   "metadata": {
    "colab": {
     "base_uri": "https://localhost:8080/",
     "height": 419
    },
    "id": "8edc953b",
    "outputId": "0007315c-7039-4b8f-ead5-280390eab19a",
    "scrolled": true
   },
   "outputs": [
    {
     "data": {
      "text/html": [
       "<div>\n",
       "<style scoped>\n",
       "    .dataframe tbody tr th:only-of-type {\n",
       "        vertical-align: middle;\n",
       "    }\n",
       "\n",
       "    .dataframe tbody tr th {\n",
       "        vertical-align: top;\n",
       "    }\n",
       "\n",
       "    .dataframe thead th {\n",
       "        text-align: right;\n",
       "    }\n",
       "</style>\n",
       "<table border=\"1\" class=\"dataframe\">\n",
       "  <thead>\n",
       "    <tr style=\"text-align: right;\">\n",
       "      <th></th>\n",
       "      <th>gender</th>\n",
       "      <th>age</th>\n",
       "      <th>hypertension</th>\n",
       "      <th>heart_disease</th>\n",
       "      <th>ever_married</th>\n",
       "      <th>work_type</th>\n",
       "      <th>residence_type</th>\n",
       "      <th>avg_glucose_level</th>\n",
       "      <th>bmi</th>\n",
       "      <th>smoking_status</th>\n",
       "      <th>stroke</th>\n",
       "    </tr>\n",
       "  </thead>\n",
       "  <tbody>\n",
       "    <tr>\n",
       "      <th>0</th>\n",
       "      <td>0</td>\n",
       "      <td>26.0</td>\n",
       "      <td>0</td>\n",
       "      <td>0</td>\n",
       "      <td>0</td>\n",
       "      <td>2</td>\n",
       "      <td>0</td>\n",
       "      <td>78.05</td>\n",
       "      <td>30.8</td>\n",
       "      <td>1</td>\n",
       "      <td>0</td>\n",
       "    </tr>\n",
       "    <tr>\n",
       "      <th>1</th>\n",
       "      <td>1</td>\n",
       "      <td>71.0</td>\n",
       "      <td>1</td>\n",
       "      <td>0</td>\n",
       "      <td>1</td>\n",
       "      <td>2</td>\n",
       "      <td>1</td>\n",
       "      <td>108.70</td>\n",
       "      <td>31.2</td>\n",
       "      <td>2</td>\n",
       "      <td>0</td>\n",
       "    </tr>\n",
       "    <tr>\n",
       "      <th>2</th>\n",
       "      <td>0</td>\n",
       "      <td>46.0</td>\n",
       "      <td>0</td>\n",
       "      <td>0</td>\n",
       "      <td>1</td>\n",
       "      <td>2</td>\n",
       "      <td>1</td>\n",
       "      <td>201.42</td>\n",
       "      <td>50.8</td>\n",
       "      <td>2</td>\n",
       "      <td>0</td>\n",
       "    </tr>\n",
       "    <tr>\n",
       "      <th>3</th>\n",
       "      <td>0</td>\n",
       "      <td>52.0</td>\n",
       "      <td>0</td>\n",
       "      <td>0</td>\n",
       "      <td>1</td>\n",
       "      <td>2</td>\n",
       "      <td>0</td>\n",
       "      <td>124.27</td>\n",
       "      <td>22.2</td>\n",
       "      <td>2</td>\n",
       "      <td>0</td>\n",
       "    </tr>\n",
       "    <tr>\n",
       "      <th>4</th>\n",
       "      <td>1</td>\n",
       "      <td>67.0</td>\n",
       "      <td>0</td>\n",
       "      <td>0</td>\n",
       "      <td>1</td>\n",
       "      <td>2</td>\n",
       "      <td>0</td>\n",
       "      <td>95.48</td>\n",
       "      <td>30.1</td>\n",
       "      <td>0</td>\n",
       "      <td>0</td>\n",
       "    </tr>\n",
       "    <tr>\n",
       "      <th>...</th>\n",
       "      <td>...</td>\n",
       "      <td>...</td>\n",
       "      <td>...</td>\n",
       "      <td>...</td>\n",
       "      <td>...</td>\n",
       "      <td>...</td>\n",
       "      <td>...</td>\n",
       "      <td>...</td>\n",
       "      <td>...</td>\n",
       "      <td>...</td>\n",
       "      <td>...</td>\n",
       "    </tr>\n",
       "    <tr>\n",
       "      <th>29060</th>\n",
       "      <td>0</td>\n",
       "      <td>51.0</td>\n",
       "      <td>0</td>\n",
       "      <td>0</td>\n",
       "      <td>1</td>\n",
       "      <td>0</td>\n",
       "      <td>1</td>\n",
       "      <td>226.04</td>\n",
       "      <td>27.1</td>\n",
       "      <td>1</td>\n",
       "      <td>0</td>\n",
       "    </tr>\n",
       "    <tr>\n",
       "      <th>29061</th>\n",
       "      <td>0</td>\n",
       "      <td>60.0</td>\n",
       "      <td>0</td>\n",
       "      <td>0</td>\n",
       "      <td>1</td>\n",
       "      <td>2</td>\n",
       "      <td>0</td>\n",
       "      <td>71.98</td>\n",
       "      <td>33.4</td>\n",
       "      <td>1</td>\n",
       "      <td>0</td>\n",
       "    </tr>\n",
       "    <tr>\n",
       "      <th>29062</th>\n",
       "      <td>0</td>\n",
       "      <td>45.0</td>\n",
       "      <td>0</td>\n",
       "      <td>0</td>\n",
       "      <td>0</td>\n",
       "      <td>0</td>\n",
       "      <td>0</td>\n",
       "      <td>77.45</td>\n",
       "      <td>42.2</td>\n",
       "      <td>0</td>\n",
       "      <td>0</td>\n",
       "    </tr>\n",
       "    <tr>\n",
       "      <th>29063</th>\n",
       "      <td>1</td>\n",
       "      <td>21.0</td>\n",
       "      <td>0</td>\n",
       "      <td>0</td>\n",
       "      <td>1</td>\n",
       "      <td>2</td>\n",
       "      <td>0</td>\n",
       "      <td>88.31</td>\n",
       "      <td>46.6</td>\n",
       "      <td>1</td>\n",
       "      <td>0</td>\n",
       "    </tr>\n",
       "    <tr>\n",
       "      <th>29064</th>\n",
       "      <td>0</td>\n",
       "      <td>75.0</td>\n",
       "      <td>0</td>\n",
       "      <td>0</td>\n",
       "      <td>1</td>\n",
       "      <td>0</td>\n",
       "      <td>0</td>\n",
       "      <td>56.23</td>\n",
       "      <td>25.3</td>\n",
       "      <td>1</td>\n",
       "      <td>0</td>\n",
       "    </tr>\n",
       "  </tbody>\n",
       "</table>\n",
       "<p>29065 rows × 11 columns</p>\n",
       "</div>"
      ],
      "text/plain": [
       "       gender   age  hypertension  heart_disease  ever_married  work_type  \\\n",
       "0           0  26.0             0              0             0          2   \n",
       "1           1  71.0             1              0             1          2   \n",
       "2           0  46.0             0              0             1          2   \n",
       "3           0  52.0             0              0             1          2   \n",
       "4           1  67.0             0              0             1          2   \n",
       "...       ...   ...           ...            ...           ...        ...   \n",
       "29060       0  51.0             0              0             1          0   \n",
       "29061       0  60.0             0              0             1          2   \n",
       "29062       0  45.0             0              0             0          0   \n",
       "29063       1  21.0             0              0             1          2   \n",
       "29064       0  75.0             0              0             1          0   \n",
       "\n",
       "       residence_type  avg_glucose_level   bmi  smoking_status  stroke  \n",
       "0                   0              78.05  30.8               1       0  \n",
       "1                   1             108.70  31.2               2       0  \n",
       "2                   1             201.42  50.8               2       0  \n",
       "3                   0             124.27  22.2               2       0  \n",
       "4                   0              95.48  30.1               0       0  \n",
       "...               ...                ...   ...             ...     ...  \n",
       "29060               1             226.04  27.1               1       0  \n",
       "29061               0              71.98  33.4               1       0  \n",
       "29062               0              77.45  42.2               0       0  \n",
       "29063               0              88.31  46.6               1       0  \n",
       "29064               0              56.23  25.3               1       0  \n",
       "\n",
       "[29065 rows x 11 columns]"
      ]
     },
     "execution_count": 2,
     "metadata": {},
     "output_type": "execute_result"
    }
   ],
   "source": [
    "df = pd.read_csv('Resources/model_clean_data.csv')\n",
    "df"
   ]
  },
  {
   "cell_type": "code",
   "execution_count": 3,
   "id": "L-8WRDGv8rjd",
   "metadata": {
    "id": "L-8WRDGv8rjd"
   },
   "outputs": [],
   "source": [
    "# Randomize the data frame\n",
    "df = df.sample(frac=1).reset_index(drop=True)"
   ]
  },
  {
   "cell_type": "code",
   "execution_count": 4,
   "id": "cadbd772",
   "metadata": {
    "id": "cadbd772"
   },
   "outputs": [],
   "source": [
    "#Divide the target column and the features column\n",
    "y = df['stroke']\n",
    "X = df.drop(['stroke'], axis = 1)"
   ]
  },
  {
   "cell_type": "code",
   "execution_count": 5,
   "id": "e98b8703",
   "metadata": {
    "id": "e98b8703"
   },
   "outputs": [],
   "source": [
    "# Split the data in training and testing using sklearn\n",
    "X_train, X_test, y_train, y_test = train_test_split(X, y, train_size=.85, random_state=12)"
   ]
  },
  {
   "cell_type": "code",
   "execution_count": 6,
   "id": "12b05429",
   "metadata": {
    "id": "12b05429"
   },
   "outputs": [],
   "source": [
    "#Scale the data using StandardScaler\n",
    "scaler = StandardScaler().fit(X_train)\n",
    "X_train_scaled = scaler.transform(X_train)\n",
    "X_test_scaled = scaler.transform(X_test)"
   ]
  },
  {
   "cell_type": "code",
   "execution_count": 7,
   "id": "i0HNs8t3Vu5r",
   "metadata": {
    "id": "i0HNs8t3Vu5r"
   },
   "outputs": [],
   "source": [
    "#Scale the data using MinMaxScaler\n",
    "scaler = MinMaxScaler().fit(X_train)\n",
    "X_train_mscaled = scaler.transform(X_train)\n",
    "X_test_mscaled = scaler.transform(X_test)"
   ]
  },
  {
   "cell_type": "code",
   "execution_count": 8,
   "id": "42ed42af",
   "metadata": {
    "id": "42ed42af"
   },
   "outputs": [],
   "source": [
    "#Define test_model function that will test multiple smoteenn models.\n",
    "\n",
    "def test_model_smot(model, data):\n",
    "    X_train_smot, X_test_smot, y_train_smot, y_test_smot = data\n",
    "    reg = model.fit(X_train_smot, y_train_smot)\n",
    "    \n",
    "    print(f'Model: {type(reg).__name__}')\n",
    "    print(f'Train score: {reg.score(X_train_smot, y_train_smot)}')\n",
    "    print(f'Test Score: {reg.score(X_test, y_test)}\\n')\n",
    "    y_pred = reg.predict(X_test)\n",
    "    y_true = y_test\n",
    "    print(confusion_matrix(y_true, y_pred))\n",
    "    print(classification_report(y_true, y_pred))\n",
    "    print('----------------------------------------------------------------')\n",
    "    print(classification_report_imbalanced(y_true, y_pred))\n",
    "    print(f'Balanced Accuracy: {balanced_accuracy_score(y_true, y_pred)}')\n",
    "    print('----------------------------------------------------------------')\n",
    "       "
   ]
  },
  {
   "cell_type": "code",
   "execution_count": 9,
   "id": "mnfMlLCKXGA8",
   "metadata": {
    "id": "mnfMlLCKXGA8"
   },
   "outputs": [],
   "source": [
    "#Define test_model function that will test multiple oversampled models.\n",
    "\n",
    "def test_model_over(model, data):\n",
    "    oversample = RandomOverSampler(sampling_strategy=0.5)\n",
    "    X_over, y_over = oversample.fit_resample(X_train_scaled, y_train)\n",
    "    data = X_over, X_test_scaled, y_over, y_test\n",
    "    reg = model.fit(X_over, y_over)\n",
    "    \n",
    "    print(f'Model: {type(reg).__name__}')\n",
    "    print(f'Train score: {reg.score(X_train_scaled, y_train)}')\n",
    "    print(f'Test Score: {reg.score(X_test_scaled, y_test)}\\n')\n",
    "    y_pred = reg.predict(X_test_scaled)\n",
    "    y_true = y_test\n",
    "    print(confusion_matrix(y_true, y_pred))\n",
    "    print(classification_report(y_test, y_pred))\n",
    "    print(f'Balanced Accuracy: {balanced_accuracy_score(y_test, y_pred)}')\n",
    "    print('----------------------------------------------------------------')\n"
   ]
  },
  {
   "cell_type": "code",
   "execution_count": 10,
   "id": "vH0YBujRWxNR",
   "metadata": {
    "id": "vH0YBujRWxNR"
   },
   "outputs": [],
   "source": [
    "#Define test_model function that will test multiple oversampled models.\n",
    "\n",
    "def test_model_under(model, data):\n",
    "    undersample = RandomUnderSampler(sampling_strategy=0.5)\n",
    "    X_under, y_under = undersample.fit_resample(X_train_scaled, y_train)\n",
    "    data = X_under, X_test_scaled, y_under, y_test\n",
    "    reg = model.fit(X_under, y_under)\n",
    "\n",
    "    print(f'Model: {type(reg).__name__}')\n",
    "    print(f'Train score: {reg.score(X_train_scaled, y_train)}')\n",
    "    print(f'Test Score: {reg.score(X_test_scaled, y_test)}\\n')\n",
    "    y_pred = reg.predict(X_test_scaled)\n",
    "    y_true = y_test\n",
    "    print(confusion_matrix(y_true, y_pred))\n",
    "    print(classification_report(y_test, y_pred))\n",
    "    print(f'Balanced Accuracy: {balanced_accuracy_score(y_test, y_pred)}')\n",
    "    print('----------------------------------------------------------------')\n"
   ]
  },
  {
   "cell_type": "code",
   "execution_count": 71,
   "id": "77679c4b",
   "metadata": {
    "colab": {
     "base_uri": "https://localhost:8080/"
    },
    "id": "77679c4b",
    "outputId": "02d7cf49-ad44-42a8-9a03-6c488b9a5b3e"
   },
   "outputs": [
    {
     "name": "stdout",
     "output_type": "stream",
     "text": [
      "Model: LogisticRegression\n",
      "Train score: 0.8395871281117183\n",
      "Test Score: 0.846788990825688\n",
      "\n",
      "[[3635  632]\n",
      " [  36   57]]\n",
      "              precision    recall  f1-score   support\n",
      "\n",
      "           0       0.99      0.85      0.92      4267\n",
      "           1       0.08      0.61      0.15        93\n",
      "\n",
      "    accuracy                           0.85      4360\n",
      "   macro avg       0.54      0.73      0.53      4360\n",
      "weighted avg       0.97      0.85      0.90      4360\n",
      "\n",
      "Balanced Accuracy: 0.7323948985840321\n",
      "----------------------------------------------------------------\n",
      "Model: GaussianNB\n",
      "Train score: 0.8216555353167375\n",
      "Test Score: 0.8247706422018348\n",
      "\n",
      "[[3548  719]\n",
      " [  45   48]]\n",
      "              precision    recall  f1-score   support\n",
      "\n",
      "           0       0.99      0.83      0.90      4267\n",
      "           1       0.06      0.52      0.11        93\n",
      "\n",
      "    accuracy                           0.82      4360\n",
      "   macro avg       0.53      0.67      0.51      4360\n",
      "weighted avg       0.97      0.82      0.89      4360\n",
      "\n",
      "Balanced Accuracy: 0.6738132857564051\n",
      "----------------------------------------------------------------\n",
      "Model: KNeighborsClassifier\n",
      "Train score: 0.9673345476624166\n",
      "Test Score: 0.9337155963302752\n",
      "\n",
      "[[4059  208]\n",
      " [  81   12]]\n",
      "              precision    recall  f1-score   support\n",
      "\n",
      "           0       0.98      0.95      0.97      4267\n",
      "           1       0.05      0.13      0.08        93\n",
      "\n",
      "    accuracy                           0.93      4360\n",
      "   macro avg       0.52      0.54      0.52      4360\n",
      "weighted avg       0.96      0.93      0.95      4360\n",
      "\n",
      "Balanced Accuracy: 0.5401430331803715\n",
      "----------------------------------------------------------------\n",
      "Model: AdaBoostClassifier\n",
      "Train score: 0.8490993725966404\n",
      "Test Score: 0.8573394495412844\n",
      "\n",
      "[[3683  584]\n",
      " [  38   55]]\n",
      "              precision    recall  f1-score   support\n",
      "\n",
      "           0       0.99      0.86      0.92      4267\n",
      "           1       0.09      0.59      0.15        93\n",
      "\n",
      "    accuracy                           0.86      4360\n",
      "   macro avg       0.54      0.73      0.54      4360\n",
      "weighted avg       0.97      0.86      0.91      4360\n",
      "\n",
      "Balanced Accuracy: 0.7272667709931936\n",
      "----------------------------------------------------------------\n",
      "Model: SVC\n",
      "Train score: 0.8771503744181339\n",
      "Test Score: 0.8694954128440368\n",
      "\n",
      "[[3753  514]\n",
      " [  55   38]]\n",
      "              precision    recall  f1-score   support\n",
      "\n",
      "           0       0.99      0.88      0.93      4267\n",
      "           1       0.07      0.41      0.12        93\n",
      "\n",
      "    accuracy                           0.87      4360\n",
      "   macro avg       0.53      0.64      0.52      4360\n",
      "weighted avg       0.97      0.87      0.91      4360\n",
      "\n",
      "Balanced Accuracy: 0.6440714057117514\n",
      "----------------------------------------------------------------\n",
      "Model: RandomForestClassifier\n",
      "Train score: 1.0\n",
      "Test Score: 0.9777522935779817\n",
      "\n",
      "[[4263    4]\n",
      " [  93    0]]\n",
      "              precision    recall  f1-score   support\n",
      "\n",
      "           0       0.98      1.00      0.99      4267\n",
      "           1       0.00      0.00      0.00        93\n",
      "\n",
      "    accuracy                           0.98      4360\n",
      "   macro avg       0.49      0.50      0.49      4360\n",
      "weighted avg       0.96      0.98      0.97      4360\n",
      "\n",
      "Balanced Accuracy: 0.49953128661823293\n",
      "----------------------------------------------------------------\n",
      "Model: ExtraTreesClassifier\n",
      "Train score: 1.0\n",
      "Test Score: 0.9772935779816514\n",
      "\n",
      "[[4261    6]\n",
      " [  93    0]]\n",
      "              precision    recall  f1-score   support\n",
      "\n",
      "           0       0.98      1.00      0.99      4267\n",
      "           1       0.00      0.00      0.00        93\n",
      "\n",
      "    accuracy                           0.98      4360\n",
      "   macro avg       0.49      0.50      0.49      4360\n",
      "weighted avg       0.96      0.98      0.97      4360\n",
      "\n",
      "Balanced Accuracy: 0.4992969299273494\n",
      "----------------------------------------------------------------\n"
     ]
    }
   ],
   "source": [
    "# Test oversampled\n",
    "oversample = RandomOverSampler(sampling_strategy=0.5)\n",
    "X_over, y_over = oversample.fit_resample(X_train_scaled, y_train)\n",
    "data = X_over, X_test_scaled, y_over, y_test\n",
    "\n",
    "\n",
    "test_model_over(LogisticRegression(), data)\n",
    "test_model_over(GaussianNB(), data)\n",
    "test_model_over(KNeighborsClassifier(), data)\n",
    "test_model_over(AdaBoostClassifier(), data)\n",
    "test_model_over(SVC(), data)\n",
    "test_model_over(RandomForestClassifier(), data)\n",
    "test_model_over(ExtraTreesClassifier(), data)"
   ]
  },
  {
   "cell_type": "code",
   "execution_count": 72,
   "id": "fhpZ2Dq-lOaO",
   "metadata": {
    "colab": {
     "base_uri": "https://localhost:8080/"
    },
    "id": "fhpZ2Dq-lOaO",
    "outputId": "21863261-9b26-4be5-e72b-db6d9b64bb40"
   },
   "outputs": [
    {
     "name": "stdout",
     "output_type": "stream",
     "text": [
      "Model: LogisticRegression\n",
      "Train score: 0.8397895162922485\n",
      "Test Score: 0.8483944954128441\n",
      "\n",
      "[[3640  627]\n",
      " [  34   59]]\n",
      "              precision    recall  f1-score   support\n",
      "\n",
      "           0       0.99      0.85      0.92      4267\n",
      "           1       0.09      0.63      0.15        93\n",
      "\n",
      "    accuracy                           0.85      4360\n",
      "   macro avg       0.54      0.74      0.53      4360\n",
      "weighted avg       0.97      0.85      0.90      4360\n",
      "\n",
      "Balanced Accuracy: 0.7437334784832839\n",
      "----------------------------------------------------------------\n",
      "Model: GaussianNB\n",
      "Train score: 0.8252580449301761\n",
      "Test Score: 0.828440366972477\n",
      "\n",
      "[[3565  702]\n",
      " [  46   47]]\n",
      "              precision    recall  f1-score   support\n",
      "\n",
      "           0       0.99      0.84      0.91      4267\n",
      "           1       0.06      0.51      0.11        93\n",
      "\n",
      "    accuracy                           0.83      4360\n",
      "   macro avg       0.53      0.67      0.51      4360\n",
      "weighted avg       0.97      0.83      0.89      4360\n",
      "\n",
      "Balanced Accuracy: 0.6704289735428935\n",
      "----------------------------------------------------------------\n",
      "Model: KNeighborsClassifier\n",
      "Train score: 0.8072454968629832\n",
      "Test Score: 0.8105504587155963\n",
      "\n",
      "[[3485  782]\n",
      " [  44   49]]\n",
      "              precision    recall  f1-score   support\n",
      "\n",
      "           0       0.99      0.82      0.89      4267\n",
      "           1       0.06      0.53      0.11        93\n",
      "\n",
      "    accuracy                           0.81      4360\n",
      "   macro avg       0.52      0.67      0.50      4360\n",
      "weighted avg       0.97      0.81      0.88      4360\n",
      "\n",
      "Balanced Accuracy: 0.6718073940795957\n",
      "----------------------------------------------------------------\n",
      "Model: AdaBoostClassifier\n",
      "Train score: 0.8329892734264319\n",
      "Test Score: 0.8392201834862385\n",
      "\n",
      "[[3603  664]\n",
      " [  37   56]]\n",
      "              precision    recall  f1-score   support\n",
      "\n",
      "           0       0.99      0.84      0.91      4267\n",
      "           1       0.08      0.60      0.14        93\n",
      "\n",
      "    accuracy                           0.84      4360\n",
      "   macro avg       0.53      0.72      0.52      4360\n",
      "weighted avg       0.97      0.84      0.89      4360\n",
      "\n",
      "Balanced Accuracy: 0.7232688474438741\n",
      "----------------------------------------------------------------\n",
      "Model: SVC\n",
      "Train score: 0.8381299332119004\n",
      "Test Score: 0.8426605504587156\n",
      "\n",
      "[[3619  648]\n",
      " [  38   55]]\n",
      "              precision    recall  f1-score   support\n",
      "\n",
      "           0       0.99      0.85      0.91      4267\n",
      "           1       0.08      0.59      0.14        93\n",
      "\n",
      "    accuracy                           0.84      4360\n",
      "   macro avg       0.53      0.72      0.53      4360\n",
      "weighted avg       0.97      0.84      0.90      4360\n",
      "\n",
      "Balanced Accuracy: 0.7197673568849208\n",
      "----------------------------------------------------------------\n",
      "Model: RandomForestClassifier\n",
      "Train score: 0.8391013964784456\n",
      "Test Score: 0.8362385321100917\n",
      "\n",
      "[[3588  679]\n",
      " [  35   58]]\n",
      "              precision    recall  f1-score   support\n",
      "\n",
      "           0       0.99      0.84      0.91      4267\n",
      "           1       0.08      0.62      0.14        93\n",
      "\n",
      "    accuracy                           0.84      4360\n",
      "   macro avg       0.53      0.73      0.52      4360\n",
      "weighted avg       0.97      0.84      0.89      4360\n",
      "\n",
      "Balanced Accuracy: 0.7322638604342906\n",
      "----------------------------------------------------------------\n",
      "Model: ExtraTreesClassifier\n",
      "Train score: 0.8336773932402348\n",
      "Test Score: 0.8245412844036697\n",
      "\n",
      "[[3546  721]\n",
      " [  44   49]]\n",
      "              precision    recall  f1-score   support\n",
      "\n",
      "           0       0.99      0.83      0.90      4267\n",
      "           1       0.06      0.53      0.11        93\n",
      "\n",
      "    accuracy                           0.82      4360\n",
      "   macro avg       0.53      0.68      0.51      4360\n",
      "weighted avg       0.97      0.82      0.89      4360\n",
      "\n",
      "Balanced Accuracy: 0.6789552731515431\n",
      "----------------------------------------------------------------\n"
     ]
    }
   ],
   "source": [
    "#Test undersampled \n",
    "undersample = RandomUnderSampler(sampling_strategy=0.5)\n",
    "X_under, y_under = undersample.fit_resample(X_train_scaled, y_train)\n",
    "data = X_under, X_test_scaled, y_under, y_test\n",
    "test_model_under(LogisticRegression(), data)\n",
    "test_model_under(GaussianNB(), data)\n",
    "test_model_under(KNeighborsClassifier(), data)\n",
    "test_model_under(AdaBoostClassifier(), data)\n",
    "test_model_under(SVC(), data)\n",
    "test_model_under(RandomForestClassifier(), data)\n",
    "test_model_under(ExtraTreesClassifier(), data)"
   ]
  },
  {
   "cell_type": "code",
   "execution_count": 58,
   "id": "hLlbe188ftud",
   "metadata": {
    "colab": {
     "base_uri": "https://localhost:8080/"
    },
    "id": "hLlbe188ftud",
    "outputId": "b2e894d4-7964-44ac-ccb8-586eb3060e33",
    "scrolled": true
   },
   "outputs": [
    {
     "name": "stdout",
     "output_type": "stream",
     "text": [
      "(29065, 10)\n",
      "(29065,)\n",
      "(51087, 10)\n",
      "(51087,)\n"
     ]
    }
   ],
   "source": [
    "print(X.shape)\n",
    "print(y.shape)\n",
    "print(X_smoteenn.shape)\n",
    "print(y_smoteenn.shape)"
   ]
  },
  {
   "cell_type": "code",
   "execution_count": 11,
   "id": "xUmhjlLmfQ3n",
   "metadata": {
    "id": "xUmhjlLmfQ3n"
   },
   "outputs": [],
   "source": [
    "def test_model2(model, data):\n",
    "    X_train, X_test, y_train, y_test = data\n",
    "    reg = model.fit(X_train, y_train)\n",
    "    \n",
    "    print(f'Model: {type(reg).__name__}')\n",
    "    print(f'Train score: {reg.score(X_train, y_train)}')\n",
    "    print(f'Test Score: {reg.score(X_test, y_test)}\\n')\n",
    "    y_pred = reg.predict(X_test)\n",
    "    y_true = y_test\n",
    "    print(confusion_matrix(y_true, y_pred))\n",
    "    print(classification_report(y_test, y_pred))\n",
    "    print(balanced_accuracy_score(y_test, y_pred))"
   ]
  },
  {
   "cell_type": "code",
   "execution_count": 135,
   "id": "FOZ6FsXBffGc",
   "metadata": {
    "colab": {
     "base_uri": "https://localhost:8080/",
     "height": 885
    },
    "id": "FOZ6FsXBffGc",
    "outputId": "e93a6259-d189-4d2d-9488-e7c10ac6a664"
   },
   "outputs": [
    {
     "name": "stdout",
     "output_type": "stream",
     "text": [
      "Model: RUSBoostClassifier\n",
      "Train score: 0.74802671523983\n",
      "Test Score: 0.75\n",
      "\n",
      "[[3198 1070]\n",
      " [  20   72]]\n",
      "              precision    recall  f1-score   support\n",
      "\n",
      "           0       0.99      0.75      0.85      4268\n",
      "           1       0.06      0.78      0.12        92\n",
      "\n",
      "    accuracy                           0.75      4360\n",
      "   macro avg       0.53      0.77      0.49      4360\n",
      "weighted avg       0.97      0.75      0.84      4360\n",
      "\n",
      "0.7659528951550467\n",
      "Model: BalancedRandomForestClassifier\n",
      "Train score: 0.6667880995749849\n",
      "Test Score: 0.6630733944954128\n",
      "\n",
      "[[2814 1454]\n",
      " [  15   77]]\n",
      "              precision    recall  f1-score   support\n",
      "\n",
      "           0       0.99      0.66      0.79      4268\n",
      "           1       0.05      0.84      0.09        92\n",
      "\n",
      "    accuracy                           0.66      4360\n",
      "   macro avg       0.52      0.75      0.44      4360\n",
      "weighted avg       0.97      0.66      0.78      4360\n",
      "\n",
      "0.7481408663053666\n"
     ]
    },
    {
     "ename": "AttributeError",
     "evalue": "ignored",
     "output_type": "error",
     "traceback": [
      "\u001b[0;31m---------------------------------------------------------------------------\u001b[0m",
      "\u001b[0;31mAttributeError\u001b[0m                            Traceback (most recent call last)",
      "\u001b[0;32m<ipython-input-135-e3ee0a7371ef>\u001b[0m in \u001b[0;36m<module>\u001b[0;34m()\u001b[0m\n\u001b[1;32m      2\u001b[0m \u001b[0mtest_model2\u001b[0m\u001b[0;34m(\u001b[0m\u001b[0mRUSBoostClassifier\u001b[0m\u001b[0;34m(\u001b[0m\u001b[0;34m)\u001b[0m\u001b[0;34m,\u001b[0m \u001b[0mdata\u001b[0m\u001b[0;34m)\u001b[0m\u001b[0;34m\u001b[0m\u001b[0;34m\u001b[0m\u001b[0m\n\u001b[1;32m      3\u001b[0m \u001b[0mtest_model2\u001b[0m\u001b[0;34m(\u001b[0m\u001b[0mBalancedRandomForestClassifier\u001b[0m\u001b[0;34m(\u001b[0m\u001b[0mmax_depth\u001b[0m\u001b[0;34m=\u001b[0m\u001b[0;36m2\u001b[0m\u001b[0;34m,\u001b[0m \u001b[0mrandom_state\u001b[0m\u001b[0;34m=\u001b[0m\u001b[0;36m12\u001b[0m\u001b[0;34m)\u001b[0m\u001b[0;34m,\u001b[0m \u001b[0mdata\u001b[0m\u001b[0;34m)\u001b[0m\u001b[0;34m\u001b[0m\u001b[0;34m\u001b[0m\u001b[0m\n\u001b[0;32m----> 4\u001b[0;31m \u001b[0mtest_model2\u001b[0m\u001b[0;34m(\u001b[0m\u001b[0mBalancedBaggingClassifier\u001b[0m\u001b[0;34m(\u001b[0m\u001b[0;34m)\u001b[0m\u001b[0;34m,\u001b[0m \u001b[0mdata\u001b[0m\u001b[0;34m)\u001b[0m\u001b[0;34m\u001b[0m\u001b[0;34m\u001b[0m\u001b[0m\n\u001b[0m",
      "\u001b[0;32m<ipython-input-134-83ee2624691d>\u001b[0m in \u001b[0;36mtest_model2\u001b[0;34m(model, data)\u001b[0m\n\u001b[1;32m      1\u001b[0m \u001b[0;32mdef\u001b[0m \u001b[0mtest_model2\u001b[0m\u001b[0;34m(\u001b[0m\u001b[0mmodel\u001b[0m\u001b[0;34m,\u001b[0m \u001b[0mdata\u001b[0m\u001b[0;34m)\u001b[0m\u001b[0;34m:\u001b[0m\u001b[0;34m\u001b[0m\u001b[0;34m\u001b[0m\u001b[0m\n\u001b[1;32m      2\u001b[0m     \u001b[0mX_train\u001b[0m\u001b[0;34m,\u001b[0m \u001b[0mX_test\u001b[0m\u001b[0;34m,\u001b[0m \u001b[0my_train\u001b[0m\u001b[0;34m,\u001b[0m \u001b[0my_test\u001b[0m \u001b[0;34m=\u001b[0m \u001b[0mdata\u001b[0m\u001b[0;34m\u001b[0m\u001b[0;34m\u001b[0m\u001b[0m\n\u001b[0;32m----> 3\u001b[0;31m     \u001b[0mreg\u001b[0m \u001b[0;34m=\u001b[0m \u001b[0mmodel\u001b[0m\u001b[0;34m.\u001b[0m\u001b[0mfit\u001b[0m\u001b[0;34m(\u001b[0m\u001b[0mX_train\u001b[0m\u001b[0;34m,\u001b[0m \u001b[0my_train\u001b[0m\u001b[0;34m)\u001b[0m\u001b[0;34m\u001b[0m\u001b[0;34m\u001b[0m\u001b[0m\n\u001b[0m\u001b[1;32m      4\u001b[0m \u001b[0;34m\u001b[0m\u001b[0m\n\u001b[1;32m      5\u001b[0m     \u001b[0mprint\u001b[0m\u001b[0;34m(\u001b[0m\u001b[0;34mf'Model: {type(reg).__name__}'\u001b[0m\u001b[0;34m)\u001b[0m\u001b[0;34m\u001b[0m\u001b[0;34m\u001b[0m\u001b[0m\n",
      "\u001b[0;32m/usr/local/lib/python3.7/dist-packages/imblearn/ensemble/_bagging.py\u001b[0m in \u001b[0;36mfit\u001b[0;34m(self, X, y)\u001b[0m\n\u001b[1;32m    319\u001b[0m         \u001b[0;31m# RandomUnderSampler is not supporting sample_weight. We need to pass\u001b[0m\u001b[0;34m\u001b[0m\u001b[0;34m\u001b[0m\u001b[0;34m\u001b[0m\u001b[0m\n\u001b[1;32m    320\u001b[0m         \u001b[0;31m# None.\u001b[0m\u001b[0;34m\u001b[0m\u001b[0;34m\u001b[0m\u001b[0;34m\u001b[0m\u001b[0m\n\u001b[0;32m--> 321\u001b[0;31m         \u001b[0;32mreturn\u001b[0m \u001b[0mself\u001b[0m\u001b[0;34m.\u001b[0m\u001b[0m_fit\u001b[0m\u001b[0;34m(\u001b[0m\u001b[0mX\u001b[0m\u001b[0;34m,\u001b[0m \u001b[0my\u001b[0m\u001b[0;34m,\u001b[0m \u001b[0mself\u001b[0m\u001b[0;34m.\u001b[0m\u001b[0mmax_samples\u001b[0m\u001b[0;34m,\u001b[0m \u001b[0msample_weight\u001b[0m\u001b[0;34m=\u001b[0m\u001b[0;32mNone\u001b[0m\u001b[0;34m)\u001b[0m\u001b[0;34m\u001b[0m\u001b[0;34m\u001b[0m\u001b[0m\n\u001b[0m\u001b[1;32m    322\u001b[0m \u001b[0;34m\u001b[0m\u001b[0m\n\u001b[1;32m    323\u001b[0m     \u001b[0;32mdef\u001b[0m \u001b[0m_more_tags\u001b[0m\u001b[0;34m(\u001b[0m\u001b[0mself\u001b[0m\u001b[0;34m)\u001b[0m\u001b[0;34m:\u001b[0m\u001b[0;34m\u001b[0m\u001b[0;34m\u001b[0m\u001b[0m\n",
      "\u001b[0;32m/usr/local/lib/python3.7/dist-packages/sklearn/ensemble/_bagging.py\u001b[0m in \u001b[0;36m_fit\u001b[0;34m(self, X, y, max_samples, max_depth, sample_weight)\u001b[0m\n\u001b[1;32m    335\u001b[0m             \u001b[0mmax_features\u001b[0m \u001b[0;34m=\u001b[0m \u001b[0mself\u001b[0m\u001b[0;34m.\u001b[0m\u001b[0mmax_features\u001b[0m\u001b[0;34m\u001b[0m\u001b[0;34m\u001b[0m\u001b[0m\n\u001b[1;32m    336\u001b[0m         \u001b[0;32melif\u001b[0m \u001b[0misinstance\u001b[0m\u001b[0;34m(\u001b[0m\u001b[0mself\u001b[0m\u001b[0;34m.\u001b[0m\u001b[0mmax_features\u001b[0m\u001b[0;34m,\u001b[0m \u001b[0mfloat\u001b[0m\u001b[0;34m)\u001b[0m\u001b[0;34m:\u001b[0m\u001b[0;34m\u001b[0m\u001b[0;34m\u001b[0m\u001b[0m\n\u001b[0;32m--> 337\u001b[0;31m             \u001b[0mmax_features\u001b[0m \u001b[0;34m=\u001b[0m \u001b[0mself\u001b[0m\u001b[0;34m.\u001b[0m\u001b[0mmax_features\u001b[0m \u001b[0;34m*\u001b[0m \u001b[0mself\u001b[0m\u001b[0;34m.\u001b[0m\u001b[0mn_features_in_\u001b[0m\u001b[0;34m\u001b[0m\u001b[0;34m\u001b[0m\u001b[0m\n\u001b[0m\u001b[1;32m    338\u001b[0m         \u001b[0;32melse\u001b[0m\u001b[0;34m:\u001b[0m\u001b[0;34m\u001b[0m\u001b[0;34m\u001b[0m\u001b[0m\n\u001b[1;32m    339\u001b[0m             \u001b[0;32mraise\u001b[0m \u001b[0mValueError\u001b[0m\u001b[0;34m(\u001b[0m\u001b[0;34m\"max_features must be int or float\"\u001b[0m\u001b[0;34m)\u001b[0m\u001b[0;34m\u001b[0m\u001b[0;34m\u001b[0m\u001b[0m\n",
      "\u001b[0;31mAttributeError\u001b[0m: 'BalancedBaggingClassifier' object has no attribute 'n_features_in_'"
     ]
    }
   ],
   "source": [
    "data = X_train, X_test, y_train, y_test\n",
    "test_model2(RUSBoostClassifier(), data)\n",
    "test_model2(BalancedRandomForestClassifier(max_depth=2, random_state=12), data)\n",
    "test_model2(BalancedBaggingClassifier(), data)\n"
   ]
  },
  {
   "cell_type": "code",
   "execution_count": 6,
   "id": "Madq5JLMMk9u",
   "metadata": {
    "id": "Madq5JLMMk9u"
   },
   "outputs": [],
   "source": [
    "# Use a combination of over and under sampling called SMOTEENN\n",
    "smote_enn = SMOTEENN(random_state=12)\n",
    "X_smoteenn, y_smoteenn = smote_enn.fit_resample(X, y)\n",
    "X_train_smot, X_test_smot, y_train_smot, y_test_smot = train_test_split(X_smoteenn, y_smoteenn, train_size=.85 , random_state=12)"
   ]
  },
  {
   "cell_type": "code",
   "execution_count": 132,
   "id": "hPOkjwbgacUH",
   "metadata": {
    "colab": {
     "base_uri": "https://localhost:8080/"
    },
    "id": "hPOkjwbgacUH",
    "outputId": "016ea489-a8af-4d61-d91c-86d50cc5f012"
   },
   "outputs": [
    {
     "name": "stdout",
     "output_type": "stream",
     "text": [
      "Model: LogisticRegression\n",
      "Train score: 0.8246781659489211\n",
      "Test Score: 0.7256880733944954\n",
      "\n",
      "[[3096 1172]\n",
      " [  24   68]]\n",
      "              precision    recall  f1-score   support\n",
      "\n",
      "           0       0.99      0.73      0.84      4268\n",
      "           1       0.05      0.74      0.10        92\n",
      "\n",
      "    accuracy                           0.73      4360\n",
      "   macro avg       0.52      0.73      0.47      4360\n",
      "weighted avg       0.97      0.73      0.82      4360\n",
      "\n",
      "----------------------------------------------------------------\n",
      "                   pre       rec       spe        f1       geo       iba       sup\n",
      "\n",
      "          0       0.99      0.73      0.74      0.84      0.73      0.54      4268\n",
      "          1       0.05      0.74      0.73      0.10      0.73      0.54        92\n",
      "\n",
      "avg / total       0.97      0.73      0.74      0.82      0.73      0.54      4360\n",
      "\n",
      "Balanced Accuracy: 0.7322643739048939\n",
      "----------------------------------------------------------------\n",
      "Model: GaussianNB\n",
      "Train score: 0.8110678672592866\n",
      "Test Score: 0.710091743119266\n",
      "\n",
      "[[3026 1242]\n",
      " [  22   70]]\n",
      "              precision    recall  f1-score   support\n",
      "\n",
      "           0       0.99      0.71      0.83      4268\n",
      "           1       0.05      0.76      0.10        92\n",
      "\n",
      "    accuracy                           0.71      4360\n",
      "   macro avg       0.52      0.73      0.46      4360\n",
      "weighted avg       0.97      0.71      0.81      4360\n",
      "\n",
      "----------------------------------------------------------------\n",
      "                   pre       rec       spe        f1       geo       iba       sup\n",
      "\n",
      "          0       0.99      0.71      0.76      0.83      0.73      0.54      4268\n",
      "          1       0.05      0.76      0.71      0.10      0.73      0.54        92\n",
      "\n",
      "avg / total       0.97      0.71      0.76      0.81      0.73      0.54      4360\n",
      "\n",
      "Balanced Accuracy: 0.7349333767980115\n",
      "----------------------------------------------------------------\n",
      "Model: KNeighborsClassifier\n",
      "Train score: 1.0\n",
      "Test Score: 0.8405963302752294\n",
      "\n",
      "[[3573  695]\n",
      " [   0   92]]\n",
      "              precision    recall  f1-score   support\n",
      "\n",
      "           0       1.00      0.84      0.91      4268\n",
      "           1       0.12      1.00      0.21        92\n",
      "\n",
      "    accuracy                           0.84      4360\n",
      "   macro avg       0.56      0.92      0.56      4360\n",
      "weighted avg       0.98      0.84      0.90      4360\n",
      "\n",
      "----------------------------------------------------------------\n",
      "                   pre       rec       spe        f1       geo       iba       sup\n",
      "\n",
      "          0       1.00      0.84      1.00      0.91      0.91      0.82      4268\n",
      "          1       0.12      1.00      0.84      0.21      0.91      0.85        92\n",
      "\n",
      "avg / total       0.98      0.84      1.00      0.90      0.91      0.82      4360\n",
      "\n",
      "Balanced Accuracy: 0.9185801312089972\n",
      "----------------------------------------------------------------\n",
      "Model: AdaBoostClassifier\n",
      "Train score: 0.85275084632568\n",
      "Test Score: 0.736697247706422\n",
      "\n",
      "[[3154 1114]\n",
      " [  34   58]]\n",
      "              precision    recall  f1-score   support\n",
      "\n",
      "           0       0.99      0.74      0.85      4268\n",
      "           1       0.05      0.63      0.09        92\n",
      "\n",
      "    accuracy                           0.74      4360\n",
      "   macro avg       0.52      0.68      0.47      4360\n",
      "weighted avg       0.97      0.74      0.83      4360\n",
      "\n",
      "----------------------------------------------------------------\n",
      "                   pre       rec       spe        f1       geo       iba       sup\n",
      "\n",
      "          0       0.99      0.74      0.63      0.85      0.68      0.47      4268\n",
      "          1       0.05      0.63      0.74      0.09      0.68      0.46        92\n",
      "\n",
      "avg / total       0.97      0.74      0.63      0.83      0.68      0.47      4360\n",
      "\n",
      "Balanced Accuracy: 0.6847112994580498\n",
      "----------------------------------------------------------------\n",
      "Model: SVC\n",
      "Train score: 0.8132556479285171\n",
      "Test Score: 0.6449541284403669\n",
      "\n",
      "[[2731 1537]\n",
      " [  11   81]]\n",
      "              precision    recall  f1-score   support\n",
      "\n",
      "           0       1.00      0.64      0.78      4268\n",
      "           1       0.05      0.88      0.09        92\n",
      "\n",
      "    accuracy                           0.64      4360\n",
      "   macro avg       0.52      0.76      0.44      4360\n",
      "weighted avg       0.98      0.64      0.76      4360\n",
      "\n",
      "----------------------------------------------------------------\n",
      "                   pre       rec       spe        f1       geo       iba       sup\n",
      "\n",
      "          0       1.00      0.64      0.88      0.78      0.75      0.55      4268\n",
      "          1       0.05      0.88      0.64      0.09      0.75      0.58        92\n",
      "\n",
      "avg / total       0.98      0.64      0.88      0.76      0.75      0.55      4360\n",
      "\n",
      "Balanced Accuracy: 0.7601564728413674\n",
      "----------------------------------------------------------------\n",
      "Model: RandomForestClassifier\n",
      "Train score: 0.8545931879418741\n",
      "Test Score: 0.7211009174311926\n",
      "\n",
      "[[3073 1195]\n",
      " [  21   71]]\n",
      "              precision    recall  f1-score   support\n",
      "\n",
      "           0       0.99      0.72      0.83      4268\n",
      "           1       0.06      0.77      0.10        92\n",
      "\n",
      "    accuracy                           0.72      4360\n",
      "   macro avg       0.52      0.75      0.47      4360\n",
      "weighted avg       0.97      0.72      0.82      4360\n",
      "\n",
      "----------------------------------------------------------------\n",
      "                   pre       rec       spe        f1       geo       iba       sup\n",
      "\n",
      "          0       0.99      0.72      0.77      0.83      0.75      0.55      4268\n",
      "          1       0.06      0.77      0.72      0.10      0.75      0.56        92\n",
      "\n",
      "avg / total       0.97      0.72      0.77      0.82      0.75      0.55      4360\n",
      "\n",
      "Balanced Accuracy: 0.7458742512530052\n",
      "----------------------------------------------------------------\n",
      "Model: ExtraTreesClassifier\n",
      "Train score: 0.8349952789996085\n",
      "Test Score: 0.6910550458715596\n",
      "\n",
      "[[2946 1322]\n",
      " [  25   67]]\n",
      "              precision    recall  f1-score   support\n",
      "\n",
      "           0       0.99      0.69      0.81      4268\n",
      "           1       0.05      0.73      0.09        92\n",
      "\n",
      "    accuracy                           0.69      4360\n",
      "   macro avg       0.52      0.71      0.45      4360\n",
      "weighted avg       0.97      0.69      0.80      4360\n",
      "\n",
      "----------------------------------------------------------------\n",
      "                   pre       rec       spe        f1       geo       iba       sup\n",
      "\n",
      "          0       0.99      0.69      0.73      0.81      0.71      0.50      4268\n",
      "          1       0.05      0.73      0.69      0.09      0.71      0.50        92\n",
      "\n",
      "avg / total       0.97      0.69      0.73      0.80      0.71      0.50      4360\n",
      "\n",
      "Balanced Accuracy: 0.7092569577441832\n",
      "----------------------------------------------------------------\n",
      "Model: XGBClassifier\n",
      "Train score: 0.8823895170762038\n",
      "Test Score: 0.7412844036697248\n",
      "\n",
      "[[3161 1107]\n",
      " [  21   71]]\n",
      "              precision    recall  f1-score   support\n",
      "\n",
      "           0       0.99      0.74      0.85      4268\n",
      "           1       0.06      0.77      0.11        92\n",
      "\n",
      "    accuracy                           0.74      4360\n",
      "   macro avg       0.53      0.76      0.48      4360\n",
      "weighted avg       0.97      0.74      0.83      4360\n",
      "\n",
      "----------------------------------------------------------------\n",
      "                   pre       rec       spe        f1       geo       iba       sup\n",
      "\n",
      "          0       0.99      0.74      0.77      0.85      0.76      0.57      4268\n",
      "          1       0.06      0.77      0.74      0.11      0.76      0.57        92\n",
      "\n",
      "avg / total       0.97      0.74      0.77      0.83      0.76      0.57      4360\n",
      "\n",
      "Balanced Accuracy: 0.7561835296035206\n",
      "----------------------------------------------------------------\n"
     ]
    }
   ],
   "source": [
    "# Test the SMOTEENN sampled models\n",
    "data = X_train_smot, X_test, y_train_smot, y_test\n",
    "test_model_smot(LogisticRegression(max_iter=100000), data)\n",
    "test_model_smot(GaussianNB(), data)\n",
    "test_model_smot(KNeighborsClassifier(n_neighbors=7, weights='distance'), data)\n",
    "test_model_smot(AdaBoostClassifier(), data)\n",
    "test_model_smot(SVC(), data)\n",
    "test_model_smot(RandomForestClassifier(max_depth=6, random_state=0), data)\n",
    "test_model_smot(ExtraTreesClassifier(max_depth=6, random_state=0), data)\n",
    "test_model_smot(XGBClassifier(objective='binary:logistic',n_estimators=10000,max_depth=6, learning_rate=.0001, n_jobs=-1), data)"
   ]
  },
  {
   "cell_type": "code",
   "execution_count": 23,
   "id": "bcliEj-2oVjC",
   "metadata": {
    "id": "bcliEj-2oVjC"
   },
   "outputs": [],
   "source": [
    "# KNeighborsClassifier is a clear winner!\n",
    "knn = KNeighborsClassifier(n_neighbors=3, weights='distance')\n",
    "model = knn.fit(X_train_smot, y_train_smot)"
   ]
  },
  {
   "cell_type": "code",
   "execution_count": 12,
   "id": "17a3eda3",
   "metadata": {},
   "outputs": [
    {
     "ename": "NameError",
     "evalue": "name 'X_train_scaled' is not defined",
     "output_type": "error",
     "traceback": [
      "\u001b[0;31m---------------------------------------------------------------------------\u001b[0m",
      "\u001b[0;31mNameError\u001b[0m                                 Traceback (most recent call last)",
      "\u001b[0;32m<ipython-input-12-b6483f2cdc41>\u001b[0m in \u001b[0;36m<module>\u001b[0;34m\u001b[0m\n\u001b[1;32m      1\u001b[0m \u001b[0mlr\u001b[0m \u001b[0;34m=\u001b[0m \u001b[0mLogisticRegression\u001b[0m\u001b[0;34m(\u001b[0m\u001b[0;34m)\u001b[0m\u001b[0;34m\u001b[0m\u001b[0;34m\u001b[0m\u001b[0m\n\u001b[0;32m----> 2\u001b[0;31m \u001b[0mlr_model\u001b[0m \u001b[0;34m=\u001b[0m \u001b[0mclf\u001b[0m\u001b[0;34m.\u001b[0m\u001b[0mfit\u001b[0m\u001b[0;34m(\u001b[0m\u001b[0mX_train_scaled\u001b[0m\u001b[0;34m,\u001b[0m \u001b[0my_train_scaled\u001b[0m\u001b[0;34m)\u001b[0m\u001b[0;34m\u001b[0m\u001b[0;34m\u001b[0m\u001b[0m\n\u001b[0m",
      "\u001b[0;31mNameError\u001b[0m: name 'X_train_scaled' is not defined"
     ]
    }
   ],
   "source": [
    "lr = LogisticRegression()\n",
    "lr_model = clf.fit(X_train_scaled, y_train_scaled)"
   ]
  },
  {
   "cell_type": "code",
   "execution_count": 24,
   "id": "TRhPtNTXoqxJ",
   "metadata": {
    "colab": {
     "base_uri": "https://localhost:8080/"
    },
    "id": "TRhPtNTXoqxJ",
    "outputId": "7143897e-136f-4b86-cab4-e2673d12ccf4"
   },
   "outputs": [
    {
     "name": "stdout",
     "output_type": "stream",
     "text": [
      "[[3621  670]\n",
      " [   0   69]]\n",
      "              precision    recall  f1-score   support\n",
      "\n",
      "           0       1.00      0.84      0.92      4291\n",
      "           1       0.09      1.00      0.17        69\n",
      "\n",
      "    accuracy                           0.85      4360\n",
      "   macro avg       0.55      0.92      0.54      4360\n",
      "weighted avg       0.99      0.85      0.90      4360\n",
      "\n",
      "Balanced accuracy score: 0.9219296201351665\n",
      "                   pre       rec       spe        f1       geo       iba       sup\n",
      "\n",
      "          0       1.00      0.84      1.00      0.92      0.92      0.83      4291\n",
      "          1       0.09      1.00      0.84      0.17      0.92      0.86        69\n",
      "\n",
      "avg / total       0.99      0.85      1.00      0.90      0.92      0.83      4360\n",
      "\n"
     ]
    }
   ],
   "source": [
    "y_pred = model.predict(X_test)\n",
    "y_true = y_test\n",
    "# print(f'Train score: {xgc.score(X, y)}')\n",
    "# print(f'Test Score: {xgc.score(X_test_smot, y_test_smot)}\\n')\n",
    "print(confusion_matrix(y_true, y_pred))\n",
    "\n",
    "print(classification_report(y_true, y_pred))\n",
    "print(f'Balanced accuracy score: {balanced_accuracy_score(y_true, y_pred)}')\n",
    "print(classification_report_imbalanced(y_true, y_pred))"
   ]
  },
  {
   "cell_type": "code",
   "execution_count": 11,
   "id": "E8KG8-qmOjqD",
   "metadata": {
    "colab": {
     "base_uri": "https://localhost:8080/",
     "height": 607
    },
    "id": "E8KG8-qmOjqD",
    "outputId": "a6776b41-76f8-4dbf-b088-82942b0bdbd4"
   },
   "outputs": [
    {
     "data": {
      "image/png": "[encoded data removed]",
      "text/plain": [
       "<Figure size 360x720 with 1 Axes>"
      ]
     },
     "metadata": {
      "needs_background": "light"
     },
     "output_type": "display_data"
    }
   ],
   "source": [
    "from matplotlib import pyplot as plt\n",
    "features = sorted(zip(X.columns, lr_model.feature_importances_), key = lambda x: x[1])\n",
    "cols = [f[0] for f in features]\n",
    "width = [f[1] for f in features]\n",
    "\n",
    "fig, ax = plt.subplots()\n",
    "\n",
    "fig.set_size_inches(5,10)\n",
    "plt.margins(y=0.001)\n",
    "\n",
    "\n",
    "ax.barh(y=cols, width=width)\n",
    "plt.title('Most Predictive Features')\n",
    "# plt.savefig('top_features.png')\n",
    "\n",
    "plt.show()\n",
    "# plt.savefig('Visualizations/balanced_most_pred.png')"
   ]
  },
  {
   "cell_type": "code",
   "execution_count": null,
   "id": "V3msvtWoPk9S",
   "metadata": {
    "colab": {
     "base_uri": "https://localhost:8080/"
    },
    "id": "V3msvtWoPk9S",
    "outputId": "e7f8f15c-b214-4e5b-e749-1d4df6a3cbc7"
   },
   "outputs": [
    {
     "name": "stdout",
     "output_type": "stream",
     "text": [
      "Model: \"sequential_2\"\n",
      "_________________________________________________________________\n",
      " Layer (type)                Output Shape              Param #   \n",
      "=================================================================\n",
      " dense_6 (Dense)             (None, 16)                176       \n",
      "                                                                 \n",
      " dense_7 (Dense)             (None, 8)                 136       \n",
      "                                                                 \n",
      " dense_8 (Dense)             (None, 1)                 9         \n",
      "                                                                 \n",
      "=================================================================\n",
      "Total params: 321\n",
      "Trainable params: 321\n",
      "Non-trainable params: 0\n",
      "_________________________________________________________________\n"
     ]
    }
   ],
   "source": [
    "nn_model = tf.keras.models.Sequential()\n",
    "\n",
    "# First hidden layer\n",
    "nn_model.add(tf.keras.layers.Dense(units=16, activation=\"sigmoid\", input_dim=10))\n",
    "# Second hidden layer\n",
    "nn_model.add(tf.keras.layers.Dense(units=8, activation=\"sigmoid\"))\n",
    "\n",
    "# Output layer\n",
    "nn_model.add(tf.keras.layers.Dense(units=1, activation=\"sigmoid\"))\n",
    "\n",
    "# Check the structure of the model\n",
    "nn_model.summary()"
   ]
  },
  {
   "cell_type": "code",
   "execution_count": null,
   "id": "BCUAtnKdPoEQ",
   "metadata": {
    "colab": {
     "base_uri": "https://localhost:8080/"
    },
    "id": "BCUAtnKdPoEQ",
    "outputId": "88608fb3-0d55-478b-c2e7-b8f73be4fcff"
   },
   "outputs": [
    {
     "name": "stdout",
     "output_type": "stream",
     "text": [
      "Epoch 1/20\n",
      "41/41 [==============================] - 1s 2ms/step - loss: 0.6367 - accuracy: 0.6667\n",
      "Epoch 2/20\n",
      "41/41 [==============================] - 0s 2ms/step - loss: 0.6257 - accuracy: 0.6667\n",
      "Epoch 3/20\n",
      "41/41 [==============================] - 0s 2ms/step - loss: 0.6170 - accuracy: 0.6667\n",
      "Epoch 4/20\n",
      "41/41 [==============================] - 0s 2ms/step - loss: 0.6062 - accuracy: 0.6667\n",
      "Epoch 5/20\n",
      "41/41 [==============================] - 0s 2ms/step - loss: 0.5940 - accuracy: 0.6667\n",
      "Epoch 6/20\n",
      "41/41 [==============================] - 0s 2ms/step - loss: 0.5805 - accuracy: 0.6667\n",
      "Epoch 7/20\n",
      "41/41 [==============================] - 0s 2ms/step - loss: 0.5659 - accuracy: 0.6682\n",
      "Epoch 8/20\n",
      "41/41 [==============================] - 0s 2ms/step - loss: 0.5511 - accuracy: 0.6883\n",
      "Epoch 9/20\n",
      "41/41 [==============================] - 0s 2ms/step - loss: 0.5373 - accuracy: 0.7162\n",
      "Epoch 10/20\n",
      "41/41 [==============================] - 0s 2ms/step - loss: 0.5247 - accuracy: 0.7293\n",
      "Epoch 11/20\n",
      "41/41 [==============================] - 0s 2ms/step - loss: 0.5138 - accuracy: 0.7347\n",
      "Epoch 12/20\n",
      "41/41 [==============================] - 0s 2ms/step - loss: 0.5048 - accuracy: 0.7432\n",
      "Epoch 13/20\n",
      "41/41 [==============================] - 0s 2ms/step - loss: 0.4969 - accuracy: 0.7471\n",
      "Epoch 14/20\n",
      "41/41 [==============================] - 0s 2ms/step - loss: 0.4903 - accuracy: 0.7587\n",
      "Epoch 15/20\n",
      "41/41 [==============================] - 0s 2ms/step - loss: 0.4849 - accuracy: 0.7657\n",
      "Epoch 16/20\n",
      "41/41 [==============================] - 0s 2ms/step - loss: 0.4803 - accuracy: 0.7680\n",
      "Epoch 17/20\n",
      "41/41 [==============================] - 0s 2ms/step - loss: 0.4761 - accuracy: 0.7742\n",
      "Epoch 18/20\n",
      "41/41 [==============================] - 0s 2ms/step - loss: 0.4727 - accuracy: 0.7780\n",
      "Epoch 19/20\n",
      "41/41 [==============================] - 0s 2ms/step - loss: 0.4698 - accuracy: 0.7773\n",
      "Epoch 20/20\n",
      "41/41 [==============================] - 0s 2ms/step - loss: 0.4672 - accuracy: 0.7773\n"
     ]
    }
   ],
   "source": [
    "nn_model.compile(loss=\"binary_crossentropy\", optimizer=\"adam\", metrics=[\"accuracy\"])\n",
    "fit_model = nn_model.fit(X_under, y_under, epochs=20)"
   ]
  },
  {
   "cell_type": "code",
   "execution_count": null,
   "id": "iMCAB1pbP847",
   "metadata": {
    "colab": {
     "base_uri": "https://localhost:8080/"
    },
    "id": "iMCAB1pbP847",
    "outputId": "7fd77ad4-f28b-4f53-d0d7-54c56788c5b0"
   },
   "outputs": [
    {
     "name": "stdout",
     "output_type": "stream",
     "text": [
      "182/182 - 0s - loss: 0.3319 - accuracy: 0.8366 - 336ms/epoch - 2ms/step\n"
     ]
    },
    {
     "data": {
      "text/plain": [
       "[0.33186104893684387, 0.8365731835365295]"
      ]
     },
     "execution_count": 210,
     "metadata": {},
     "output_type": "execute_result"
    }
   ],
   "source": [
    "nn_model.evaluate(X_test_scaled,y_test,verbose=2)"
   ]
  },
  {
   "cell_type": "code",
   "execution_count": null,
   "id": "pOvLmseISCrr",
   "metadata": {
    "colab": {
     "base_uri": "https://localhost:8080/"
    },
    "id": "pOvLmseISCrr",
    "outputId": "929e483e-7939-4bd5-fdb9-3a9c0b0abb32"
   },
   "outputs": [
    {
     "name": "stdout",
     "output_type": "stream",
     "text": [
      "Test Accuracy: 0.837\n"
     ]
    }
   ],
   "source": [
    "loss, acc = nn_model.evaluate(X_test_scaled, y_test, verbose=0)\n",
    "print('Test Accuracy: %.3f' % acc)"
   ]
  },
  {
   "cell_type": "code",
   "execution_count": null,
   "id": "C24NogsbS5ib",
   "metadata": {
    "colab": {
     "base_uri": "https://localhost:8080/",
     "height": 282
    },
    "id": "C24NogsbS5ib",
    "outputId": "a2f7fbb8-afd8-4f01-c6d0-cc3dbcb8f29d"
   },
   "outputs": [
    {
     "data": {
      "text/plain": [
       "<matplotlib.collections.PathCollection at 0x7fec3fa9d310>"
      ]
     },
     "execution_count": 219,
     "metadata": {},
     "output_type": "execute_result"
    },
    {
     "data": {
      "image/png": "[encoded data removed]",
      "text/plain": [
       "<Figure size 432x288 with 1 Axes>"
      ]
     },
     "metadata": {
      "needs_background": "light"
     },
     "output_type": "display_data"
    }
   ],
   "source": [
    "plt.scatter(nn_model.predict(X_test), y_test)"
   ]
  },
  {
   "cell_type": "code",
   "execution_count": null,
   "id": "mzQcIqiUQY6I",
   "metadata": {
    "colab": {
     "base_uri": "https://localhost:8080/",
     "height": 392
    },
    "id": "mzQcIqiUQY6I",
    "outputId": "2ee8f2f7-7fef-4550-dd23-29aff06de94c"
   },
   "outputs": [
    {
     "name": "stdout",
     "output_type": "stream",
     "text": [
      "Train score: 0.8256063994495098\n",
      "Test Score: 0.8274557027352486\n",
      "\n"
     ]
    },
    {
     "ename": "ValueError",
     "evalue": "ignored",
     "output_type": "error",
     "traceback": [
      "\u001b[0;31m---------------------------------------------------------------------------\u001b[0m",
      "\u001b[0;31mValueError\u001b[0m                                Traceback (most recent call last)",
      "\u001b[0;32m<ipython-input-216-c864a8b46c3d>\u001b[0m in \u001b[0;36m<module>\u001b[0;34m()\u001b[0m\n\u001b[1;32m      4\u001b[0m \u001b[0;31m# print(confusion_matrix(y_test, y_pred))\u001b[0m\u001b[0;34m\u001b[0m\u001b[0;34m\u001b[0m\u001b[0;34m\u001b[0m\u001b[0m\n\u001b[1;32m      5\u001b[0m \u001b[0;31m#print(classification_report_imbalanced(y_test, y_pred))\u001b[0m\u001b[0;34m\u001b[0m\u001b[0;34m\u001b[0m\u001b[0;34m\u001b[0m\u001b[0m\n\u001b[0;32m----> 6\u001b[0;31m \u001b[0mbalanced_accuracy_score\u001b[0m\u001b[0;34m(\u001b[0m\u001b[0my_test\u001b[0m\u001b[0;34m,\u001b[0m \u001b[0my_pred\u001b[0m\u001b[0;34m)\u001b[0m\u001b[0;34m\u001b[0m\u001b[0;34m\u001b[0m\u001b[0m\n\u001b[0m",
      "\u001b[0;32m/usr/local/lib/python3.7/dist-packages/sklearn/metrics/_classification.py\u001b[0m in \u001b[0;36mbalanced_accuracy_score\u001b[0;34m(y_true, y_pred, sample_weight, adjusted)\u001b[0m\n\u001b[1;32m   1947\u001b[0m \u001b[0;34m\u001b[0m\u001b[0m\n\u001b[1;32m   1948\u001b[0m     \"\"\"\n\u001b[0;32m-> 1949\u001b[0;31m     \u001b[0mC\u001b[0m \u001b[0;34m=\u001b[0m \u001b[0mconfusion_matrix\u001b[0m\u001b[0;34m(\u001b[0m\u001b[0my_true\u001b[0m\u001b[0;34m,\u001b[0m \u001b[0my_pred\u001b[0m\u001b[0;34m,\u001b[0m \u001b[0msample_weight\u001b[0m\u001b[0;34m=\u001b[0m\u001b[0msample_weight\u001b[0m\u001b[0;34m)\u001b[0m\u001b[0;34m\u001b[0m\u001b[0;34m\u001b[0m\u001b[0m\n\u001b[0m\u001b[1;32m   1950\u001b[0m     \u001b[0;32mwith\u001b[0m \u001b[0mnp\u001b[0m\u001b[0;34m.\u001b[0m\u001b[0merrstate\u001b[0m\u001b[0;34m(\u001b[0m\u001b[0mdivide\u001b[0m\u001b[0;34m=\u001b[0m\u001b[0;34m\"ignore\"\u001b[0m\u001b[0;34m,\u001b[0m \u001b[0minvalid\u001b[0m\u001b[0;34m=\u001b[0m\u001b[0;34m\"ignore\"\u001b[0m\u001b[0;34m)\u001b[0m\u001b[0;34m:\u001b[0m\u001b[0;34m\u001b[0m\u001b[0;34m\u001b[0m\u001b[0m\n\u001b[1;32m   1951\u001b[0m         \u001b[0mper_class\u001b[0m \u001b[0;34m=\u001b[0m \u001b[0mnp\u001b[0m\u001b[0;34m.\u001b[0m\u001b[0mdiag\u001b[0m\u001b[0;34m(\u001b[0m\u001b[0mC\u001b[0m\u001b[0;34m)\u001b[0m \u001b[0;34m/\u001b[0m \u001b[0mC\u001b[0m\u001b[0;34m.\u001b[0m\u001b[0msum\u001b[0m\u001b[0;34m(\u001b[0m\u001b[0maxis\u001b[0m\u001b[0;34m=\u001b[0m\u001b[0;36m1\u001b[0m\u001b[0;34m)\u001b[0m\u001b[0;34m\u001b[0m\u001b[0;34m\u001b[0m\u001b[0m\n",
      "\u001b[0;32m/usr/local/lib/python3.7/dist-packages/sklearn/metrics/_classification.py\u001b[0m in \u001b[0;36mconfusion_matrix\u001b[0;34m(y_true, y_pred, labels, sample_weight, normalize)\u001b[0m\n\u001b[1;32m    300\u001b[0m \u001b[0;34m\u001b[0m\u001b[0m\n\u001b[1;32m    301\u001b[0m     \"\"\"\n\u001b[0;32m--> 302\u001b[0;31m     \u001b[0my_type\u001b[0m\u001b[0;34m,\u001b[0m \u001b[0my_true\u001b[0m\u001b[0;34m,\u001b[0m \u001b[0my_pred\u001b[0m \u001b[0;34m=\u001b[0m \u001b[0m_check_targets\u001b[0m\u001b[0;34m(\u001b[0m\u001b[0my_true\u001b[0m\u001b[0;34m,\u001b[0m \u001b[0my_pred\u001b[0m\u001b[0;34m)\u001b[0m\u001b[0;34m\u001b[0m\u001b[0;34m\u001b[0m\u001b[0m\n\u001b[0m\u001b[1;32m    303\u001b[0m     \u001b[0;32mif\u001b[0m \u001b[0my_type\u001b[0m \u001b[0;32mnot\u001b[0m \u001b[0;32min\u001b[0m \u001b[0;34m(\u001b[0m\u001b[0;34m\"binary\"\u001b[0m\u001b[0;34m,\u001b[0m \u001b[0;34m\"multiclass\"\u001b[0m\u001b[0;34m)\u001b[0m\u001b[0;34m:\u001b[0m\u001b[0;34m\u001b[0m\u001b[0;34m\u001b[0m\u001b[0m\n\u001b[1;32m    304\u001b[0m         \u001b[0;32mraise\u001b[0m \u001b[0mValueError\u001b[0m\u001b[0;34m(\u001b[0m\u001b[0;34m\"%s is not supported\"\u001b[0m \u001b[0;34m%\u001b[0m \u001b[0my_type\u001b[0m\u001b[0;34m)\u001b[0m\u001b[0;34m\u001b[0m\u001b[0;34m\u001b[0m\u001b[0m\n",
      "\u001b[0;32m/usr/local/lib/python3.7/dist-packages/sklearn/metrics/_classification.py\u001b[0m in \u001b[0;36m_check_targets\u001b[0;34m(y_true, y_pred)\u001b[0m\n\u001b[1;32m     93\u001b[0m         raise ValueError(\n\u001b[1;32m     94\u001b[0m             \"Classification metrics can't handle a mix of {0} and {1} targets\".format(\n\u001b[0;32m---> 95\u001b[0;31m                 \u001b[0mtype_true\u001b[0m\u001b[0;34m,\u001b[0m \u001b[0mtype_pred\u001b[0m\u001b[0;34m\u001b[0m\u001b[0;34m\u001b[0m\u001b[0m\n\u001b[0m\u001b[1;32m     96\u001b[0m             )\n\u001b[1;32m     97\u001b[0m         )\n",
      "\u001b[0;31mValueError\u001b[0m: Classification metrics can't handle a mix of binary and continuous targets"
     ]
    }
   ],
   "source": [
    "y_pred = nn_model.predict(X_test_scaled)\n",
    "print(f'Train score: {xgc.score(X_train_scaled, y_train)}')\n",
    "print(f'Test Score: {xgc.score(X_test_scaled, y_test)}\\n')\n",
    "# print(confusion_matrix(y_test, y_pred))\n",
    "#print(classification_report_imbalanced(y_test, y_pred))\n",
    "balanced_accuracy_score(y_test, y_pred)"
   ]
  },
  {
   "cell_type": "code",
   "execution_count": null,
   "id": "9tniNdv7TuXN",
   "metadata": {
    "colab": {
     "base_uri": "https://localhost:8080/",
     "height": 419
    },
    "id": "9tniNdv7TuXN",
    "outputId": "9bdb66fa-09a1-4585-ebfb-9a8e5f5d5ace"
   },
   "outputs": [
    {
     "data": {
      "text/html": [
       "<div>\n",
       "<style scoped>\n",
       "    .dataframe tbody tr th:only-of-type {\n",
       "        vertical-align: middle;\n",
       "    }\n",
       "\n",
       "    .dataframe tbody tr th {\n",
       "        vertical-align: top;\n",
       "    }\n",
       "\n",
       "    .dataframe thead th {\n",
       "        text-align: right;\n",
       "    }\n",
       "</style>\n",
       "<table border=\"1\" class=\"dataframe\">\n",
       "  <thead>\n",
       "    <tr style=\"text-align: right;\">\n",
       "      <th></th>\n",
       "      <th>gender</th>\n",
       "      <th>age</th>\n",
       "      <th>hypertension</th>\n",
       "      <th>heart_disease</th>\n",
       "      <th>ever_married</th>\n",
       "      <th>work_type</th>\n",
       "      <th>residence_type</th>\n",
       "      <th>avg_glucose_level</th>\n",
       "      <th>bmi</th>\n",
       "      <th>smoking_status</th>\n",
       "      <th>stroke</th>\n",
       "    </tr>\n",
       "  </thead>\n",
       "  <tbody>\n",
       "    <tr>\n",
       "      <th>0</th>\n",
       "      <td>0</td>\n",
       "      <td>26.0</td>\n",
       "      <td>0</td>\n",
       "      <td>0</td>\n",
       "      <td>0</td>\n",
       "      <td>2</td>\n",
       "      <td>0</td>\n",
       "      <td>78.05</td>\n",
       "      <td>30.8</td>\n",
       "      <td>1</td>\n",
       "      <td>0</td>\n",
       "    </tr>\n",
       "    <tr>\n",
       "      <th>1</th>\n",
       "      <td>1</td>\n",
       "      <td>71.0</td>\n",
       "      <td>1</td>\n",
       "      <td>0</td>\n",
       "      <td>1</td>\n",
       "      <td>2</td>\n",
       "      <td>1</td>\n",
       "      <td>108.70</td>\n",
       "      <td>31.2</td>\n",
       "      <td>2</td>\n",
       "      <td>0</td>\n",
       "    </tr>\n",
       "    <tr>\n",
       "      <th>2</th>\n",
       "      <td>0</td>\n",
       "      <td>46.0</td>\n",
       "      <td>0</td>\n",
       "      <td>0</td>\n",
       "      <td>1</td>\n",
       "      <td>2</td>\n",
       "      <td>1</td>\n",
       "      <td>201.42</td>\n",
       "      <td>50.8</td>\n",
       "      <td>2</td>\n",
       "      <td>0</td>\n",
       "    </tr>\n",
       "    <tr>\n",
       "      <th>3</th>\n",
       "      <td>0</td>\n",
       "      <td>52.0</td>\n",
       "      <td>0</td>\n",
       "      <td>0</td>\n",
       "      <td>1</td>\n",
       "      <td>2</td>\n",
       "      <td>0</td>\n",
       "      <td>124.27</td>\n",
       "      <td>22.2</td>\n",
       "      <td>2</td>\n",
       "      <td>0</td>\n",
       "    </tr>\n",
       "    <tr>\n",
       "      <th>4</th>\n",
       "      <td>1</td>\n",
       "      <td>67.0</td>\n",
       "      <td>0</td>\n",
       "      <td>0</td>\n",
       "      <td>1</td>\n",
       "      <td>2</td>\n",
       "      <td>0</td>\n",
       "      <td>95.48</td>\n",
       "      <td>30.1</td>\n",
       "      <td>0</td>\n",
       "      <td>0</td>\n",
       "    </tr>\n",
       "    <tr>\n",
       "      <th>...</th>\n",
       "      <td>...</td>\n",
       "      <td>...</td>\n",
       "      <td>...</td>\n",
       "      <td>...</td>\n",
       "      <td>...</td>\n",
       "      <td>...</td>\n",
       "      <td>...</td>\n",
       "      <td>...</td>\n",
       "      <td>...</td>\n",
       "      <td>...</td>\n",
       "      <td>...</td>\n",
       "    </tr>\n",
       "    <tr>\n",
       "      <th>29060</th>\n",
       "      <td>0</td>\n",
       "      <td>51.0</td>\n",
       "      <td>0</td>\n",
       "      <td>0</td>\n",
       "      <td>1</td>\n",
       "      <td>0</td>\n",
       "      <td>1</td>\n",
       "      <td>226.04</td>\n",
       "      <td>27.1</td>\n",
       "      <td>1</td>\n",
       "      <td>0</td>\n",
       "    </tr>\n",
       "    <tr>\n",
       "      <th>29061</th>\n",
       "      <td>0</td>\n",
       "      <td>60.0</td>\n",
       "      <td>0</td>\n",
       "      <td>0</td>\n",
       "      <td>1</td>\n",
       "      <td>2</td>\n",
       "      <td>0</td>\n",
       "      <td>71.98</td>\n",
       "      <td>33.4</td>\n",
       "      <td>1</td>\n",
       "      <td>0</td>\n",
       "    </tr>\n",
       "    <tr>\n",
       "      <th>29062</th>\n",
       "      <td>0</td>\n",
       "      <td>45.0</td>\n",
       "      <td>0</td>\n",
       "      <td>0</td>\n",
       "      <td>0</td>\n",
       "      <td>0</td>\n",
       "      <td>0</td>\n",
       "      <td>77.45</td>\n",
       "      <td>42.2</td>\n",
       "      <td>0</td>\n",
       "      <td>0</td>\n",
       "    </tr>\n",
       "    <tr>\n",
       "      <th>29063</th>\n",
       "      <td>1</td>\n",
       "      <td>21.0</td>\n",
       "      <td>0</td>\n",
       "      <td>0</td>\n",
       "      <td>1</td>\n",
       "      <td>2</td>\n",
       "      <td>0</td>\n",
       "      <td>88.31</td>\n",
       "      <td>46.6</td>\n",
       "      <td>1</td>\n",
       "      <td>0</td>\n",
       "    </tr>\n",
       "    <tr>\n",
       "      <th>29064</th>\n",
       "      <td>0</td>\n",
       "      <td>75.0</td>\n",
       "      <td>0</td>\n",
       "      <td>0</td>\n",
       "      <td>1</td>\n",
       "      <td>0</td>\n",
       "      <td>0</td>\n",
       "      <td>56.23</td>\n",
       "      <td>25.3</td>\n",
       "      <td>1</td>\n",
       "      <td>0</td>\n",
       "    </tr>\n",
       "  </tbody>\n",
       "</table>\n",
       "<p>29065 rows × 11 columns</p>\n",
       "</div>"
      ],
      "text/plain": [
       "       gender   age  hypertension  ...   bmi  smoking_status  stroke\n",
       "0           0  26.0             0  ...  30.8               1       0\n",
       "1           1  71.0             1  ...  31.2               2       0\n",
       "2           0  46.0             0  ...  50.8               2       0\n",
       "3           0  52.0             0  ...  22.2               2       0\n",
       "4           1  67.0             0  ...  30.1               0       0\n",
       "...       ...   ...           ...  ...   ...             ...     ...\n",
       "29060       0  51.0             0  ...  27.1               1       0\n",
       "29061       0  60.0             0  ...  33.4               1       0\n",
       "29062       0  45.0             0  ...  42.2               0       0\n",
       "29063       1  21.0             0  ...  46.6               1       0\n",
       "29064       0  75.0             0  ...  25.3               1       0\n",
       "\n",
       "[29065 rows x 11 columns]"
      ]
     },
     "execution_count": 220,
     "metadata": {},
     "output_type": "execute_result"
    }
   ],
   "source": [
    "df"
   ]
  },
  {
   "cell_type": "code",
   "execution_count": null,
   "id": "Nr-GRT6GRELg",
   "metadata": {
    "colab": {
     "base_uri": "https://localhost:8080/"
    },
    "id": "Nr-GRT6GRELg",
    "outputId": "2d35a77a-a9fb-4d36-fa28-061b69c0567d"
   },
   "outputs": [
    {
     "name": "stdout",
     "output_type": "stream",
     "text": [
      "Predicted: 0.744\n"
     ]
    }
   ],
   "source": [
    "row = [1, 13, 1, 1, 1, 2, 1, 213, 23, 1]\n",
    "yhat = nn_model.predict([row])\n",
    "print('Predicted: %.3f' % yhat)"
   ]
  },
  {
   "cell_type": "code",
   "execution_count": null,
   "id": "z7fxDFc2Q7ZF",
   "metadata": {
    "id": "z7fxDFc2Q7ZF"
   },
   "outputs": [],
   "source": []
  }
 ],
 "metadata": {
  "colab": {
   "name": "model_testing.ipynb",
   "provenance": []
  },
  "kernelspec": {
   "display_name": "Python 3",
   "language": "python",
   "name": "python3"
  },
  "language_info": {
   "codemirror_mode": {
    "name": "ipython",
    "version": 3
   },
   "file_extension": ".py",
   "mimetype": "text/x-python",
   "name": "python",
   "nbconvert_exporter": "python",
   "pygments_lexer": "ipython3",
   "version": "3.6.10"
  }
 },
 "nbformat": 4,
 "nbformat_minor": 5
}
