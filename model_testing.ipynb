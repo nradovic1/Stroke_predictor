{
 "cells": [
  {
   "cell_type": "code",
   "execution_count": 28,
   "id": "0e2a759a",
   "metadata": {
    "id": "0e2a759a"
   },
   "outputs": [],
   "source": [
    "import numpy as np\n",
    "import pandas as pd\n",
    "from pathlib import Path\n",
    "from sklearn.model_selection import train_test_split\n",
    "from sklearn.preprocessing import StandardScaler, MinMaxScaler, LabelEncoder\n",
    "from sklearn.metrics import confusion_matrix, classification_report\n",
    "from sklearn.decomposition import PCA\n",
    "from sklearn.pipeline import Pipeline\n",
    "from sklearn.model_selection import GridSearchCV\n",
    "from sklearn.linear_model import LogisticRegression\n",
    "from sklearn.ensemble import RandomForestClassifier\n",
    "from sklearn.ensemble import ExtraTreesClassifier\n",
    "from matplotlib import pyplot as plt\n",
    "from sklearn.cluster import KMeans\n",
    "from sklearn.neighbors import KNeighborsClassifier\n",
    "import tensorflow as tf\n",
    "from imblearn.ensemble import BalancedRandomForestClassifier\n",
    "from sklearn.ensemble import AdaBoostClassifier\n",
    "from sklearn.metrics import balanced_accuracy_score\n",
    "from sklearn import tree\n",
    "from numpy import mean\n",
    "from sklearn.datasets import make_classification\n",
    "from sklearn.model_selection import cross_val_score\n",
    "from sklearn.model_selection import RepeatedStratifiedKFold\n",
    "from sklearn.tree import DecisionTreeClassifier\n",
    "from imblearn.pipeline import Pipeline\n",
    "from imblearn.over_sampling import RandomOverSampler\n",
    "from imblearn.ensemble import BalancedRandomForestClassifier, RUSBoostClassifier, BalancedBaggingClassifier"
   ]
  },
  {
   "cell_type": "code",
   "execution_count": 29,
   "id": "8edc953b",
   "metadata": {
    "colab": {
     "base_uri": "https://localhost:8080/",
     "height": 419
    },
    "id": "8edc953b",
    "outputId": "dd956a3c-25df-4934-ef14-aaa8e2988699",
    "scrolled": true
   },
   "outputs": [
    {
     "data": {
      "text/html": [
       "<div>\n",
       "<style scoped>\n",
       "    .dataframe tbody tr th:only-of-type {\n",
       "        vertical-align: middle;\n",
       "    }\n",
       "\n",
       "    .dataframe tbody tr th {\n",
       "        vertical-align: top;\n",
       "    }\n",
       "\n",
       "    .dataframe thead th {\n",
       "        text-align: right;\n",
       "    }\n",
       "</style>\n",
       "<table border=\"1\" class=\"dataframe\">\n",
       "  <thead>\n",
       "    <tr style=\"text-align: right;\">\n",
       "      <th></th>\n",
       "      <th>gender</th>\n",
       "      <th>age</th>\n",
       "      <th>hypertension</th>\n",
       "      <th>heart_disease</th>\n",
       "      <th>ever_married</th>\n",
       "      <th>work_type</th>\n",
       "      <th>residence_type</th>\n",
       "      <th>avg_glucose_level</th>\n",
       "      <th>bmi</th>\n",
       "      <th>smoking_status</th>\n",
       "      <th>stroke</th>\n",
       "    </tr>\n",
       "  </thead>\n",
       "  <tbody>\n",
       "    <tr>\n",
       "      <th>0</th>\n",
       "      <td>0</td>\n",
       "      <td>26.0</td>\n",
       "      <td>0</td>\n",
       "      <td>0</td>\n",
       "      <td>0</td>\n",
       "      <td>2</td>\n",
       "      <td>0</td>\n",
       "      <td>78.05</td>\n",
       "      <td>30.8</td>\n",
       "      <td>1</td>\n",
       "      <td>0</td>\n",
       "    </tr>\n",
       "    <tr>\n",
       "      <th>1</th>\n",
       "      <td>1</td>\n",
       "      <td>71.0</td>\n",
       "      <td>1</td>\n",
       "      <td>0</td>\n",
       "      <td>1</td>\n",
       "      <td>2</td>\n",
       "      <td>1</td>\n",
       "      <td>108.70</td>\n",
       "      <td>31.2</td>\n",
       "      <td>2</td>\n",
       "      <td>0</td>\n",
       "    </tr>\n",
       "    <tr>\n",
       "      <th>2</th>\n",
       "      <td>0</td>\n",
       "      <td>46.0</td>\n",
       "      <td>0</td>\n",
       "      <td>0</td>\n",
       "      <td>1</td>\n",
       "      <td>2</td>\n",
       "      <td>1</td>\n",
       "      <td>201.42</td>\n",
       "      <td>50.8</td>\n",
       "      <td>2</td>\n",
       "      <td>0</td>\n",
       "    </tr>\n",
       "    <tr>\n",
       "      <th>3</th>\n",
       "      <td>0</td>\n",
       "      <td>52.0</td>\n",
       "      <td>0</td>\n",
       "      <td>0</td>\n",
       "      <td>1</td>\n",
       "      <td>2</td>\n",
       "      <td>0</td>\n",
       "      <td>124.27</td>\n",
       "      <td>22.2</td>\n",
       "      <td>2</td>\n",
       "      <td>0</td>\n",
       "    </tr>\n",
       "    <tr>\n",
       "      <th>4</th>\n",
       "      <td>1</td>\n",
       "      <td>67.0</td>\n",
       "      <td>0</td>\n",
       "      <td>0</td>\n",
       "      <td>1</td>\n",
       "      <td>2</td>\n",
       "      <td>0</td>\n",
       "      <td>95.48</td>\n",
       "      <td>30.1</td>\n",
       "      <td>0</td>\n",
       "      <td>0</td>\n",
       "    </tr>\n",
       "    <tr>\n",
       "      <th>...</th>\n",
       "      <td>...</td>\n",
       "      <td>...</td>\n",
       "      <td>...</td>\n",
       "      <td>...</td>\n",
       "      <td>...</td>\n",
       "      <td>...</td>\n",
       "      <td>...</td>\n",
       "      <td>...</td>\n",
       "      <td>...</td>\n",
       "      <td>...</td>\n",
       "      <td>...</td>\n",
       "    </tr>\n",
       "    <tr>\n",
       "      <th>29060</th>\n",
       "      <td>0</td>\n",
       "      <td>51.0</td>\n",
       "      <td>0</td>\n",
       "      <td>0</td>\n",
       "      <td>1</td>\n",
       "      <td>0</td>\n",
       "      <td>1</td>\n",
       "      <td>226.04</td>\n",
       "      <td>27.1</td>\n",
       "      <td>1</td>\n",
       "      <td>0</td>\n",
       "    </tr>\n",
       "    <tr>\n",
       "      <th>29061</th>\n",
       "      <td>0</td>\n",
       "      <td>60.0</td>\n",
       "      <td>0</td>\n",
       "      <td>0</td>\n",
       "      <td>1</td>\n",
       "      <td>2</td>\n",
       "      <td>0</td>\n",
       "      <td>71.98</td>\n",
       "      <td>33.4</td>\n",
       "      <td>1</td>\n",
       "      <td>0</td>\n",
       "    </tr>\n",
       "    <tr>\n",
       "      <th>29062</th>\n",
       "      <td>0</td>\n",
       "      <td>45.0</td>\n",
       "      <td>0</td>\n",
       "      <td>0</td>\n",
       "      <td>0</td>\n",
       "      <td>0</td>\n",
       "      <td>0</td>\n",
       "      <td>77.45</td>\n",
       "      <td>42.2</td>\n",
       "      <td>0</td>\n",
       "      <td>0</td>\n",
       "    </tr>\n",
       "    <tr>\n",
       "      <th>29063</th>\n",
       "      <td>1</td>\n",
       "      <td>21.0</td>\n",
       "      <td>0</td>\n",
       "      <td>0</td>\n",
       "      <td>1</td>\n",
       "      <td>2</td>\n",
       "      <td>0</td>\n",
       "      <td>88.31</td>\n",
       "      <td>46.6</td>\n",
       "      <td>1</td>\n",
       "      <td>0</td>\n",
       "    </tr>\n",
       "    <tr>\n",
       "      <th>29064</th>\n",
       "      <td>0</td>\n",
       "      <td>75.0</td>\n",
       "      <td>0</td>\n",
       "      <td>0</td>\n",
       "      <td>1</td>\n",
       "      <td>0</td>\n",
       "      <td>0</td>\n",
       "      <td>56.23</td>\n",
       "      <td>25.3</td>\n",
       "      <td>1</td>\n",
       "      <td>0</td>\n",
       "    </tr>\n",
       "  </tbody>\n",
       "</table>\n",
       "<p>29065 rows × 11 columns</p>\n",
       "</div>"
      ],
      "text/plain": [
       "       gender   age  hypertension  heart_disease  ever_married  work_type  \\\n",
       "0           0  26.0             0              0             0          2   \n",
       "1           1  71.0             1              0             1          2   \n",
       "2           0  46.0             0              0             1          2   \n",
       "3           0  52.0             0              0             1          2   \n",
       "4           1  67.0             0              0             1          2   \n",
       "...       ...   ...           ...            ...           ...        ...   \n",
       "29060       0  51.0             0              0             1          0   \n",
       "29061       0  60.0             0              0             1          2   \n",
       "29062       0  45.0             0              0             0          0   \n",
       "29063       1  21.0             0              0             1          2   \n",
       "29064       0  75.0             0              0             1          0   \n",
       "\n",
       "       residence_type  avg_glucose_level   bmi  smoking_status  stroke  \n",
       "0                   0              78.05  30.8               1       0  \n",
       "1                   1             108.70  31.2               2       0  \n",
       "2                   1             201.42  50.8               2       0  \n",
       "3                   0             124.27  22.2               2       0  \n",
       "4                   0              95.48  30.1               0       0  \n",
       "...               ...                ...   ...             ...     ...  \n",
       "29060               1             226.04  27.1               1       0  \n",
       "29061               0              71.98  33.4               1       0  \n",
       "29062               0              77.45  42.2               0       0  \n",
       "29063               0              88.31  46.6               1       0  \n",
       "29064               0              56.23  25.3               1       0  \n",
       "\n",
       "[29065 rows x 11 columns]"
      ]
     },
     "execution_count": 29,
     "metadata": {},
     "output_type": "execute_result"
    }
   ],
   "source": [
    "df = pd.read_csv('Resources/model_clean_data.csv')\n",
    "df"
   ]
  },
  {
   "cell_type": "code",
   "execution_count": 30,
   "id": "cadbd772",
   "metadata": {
    "id": "cadbd772"
   },
   "outputs": [],
   "source": [
    "#Divide the target column and the features column\n",
    "y = df['stroke']\n",
    "X = df.drop(['stroke'], axis = 1)"
   ]
  },
  {
   "cell_type": "code",
   "execution_count": 31,
   "id": "e98b8703",
   "metadata": {
    "id": "e98b8703"
   },
   "outputs": [],
   "source": [
    "# Split the data in training and testing using sklearn\n",
    "X_train, X_test, y_train, y_test = train_test_split(X, y, train_size=.85, random_state=12)"
   ]
  },
  {
   "cell_type": "code",
   "execution_count": 32,
   "id": "12b05429",
   "metadata": {
    "id": "12b05429"
   },
   "outputs": [],
   "source": [
    "#Scale the data using StandardScaler\n",
    "scaler = StandardScaler().fit(X_train)\n",
    "X_train_scaled = scaler.transform(X_train)\n",
    "X_test_scaled = scaler.transform(X_test)"
   ]
  },
  {
   "cell_type": "code",
   "execution_count": 33,
   "id": "42ed42af",
   "metadata": {
    "id": "42ed42af"
   },
   "outputs": [],
   "source": [
    "#Define test_model function that will test multiple models.\n",
    "\n",
    "def test_model(model, data):\n",
    "    X_train_scaled, X_test_scaled, y_train, y_test = data\n",
    "    reg = model.fit(X_train_scaled, y_train)\n",
    "    \n",
    "    print(f'Model: {type(reg).__name__}')\n",
    "    print(f'Train score: {reg.score(X_train_scaled, y_train)}')\n",
    "    print(f'Test Score: {reg.score(X_test_scaled, y_test)}\\n')\n",
    "    y_pred = reg.predict(X_test_scaled)\n",
    "    y_true = y_test\n",
    "    print(confusion_matrix(y_true, y_pred))\n",
    "    print(classification_report(y_test, y_pred))\n",
    "    print(balanced_accuracy_score(y_test, y_pred))\n",
    "       "
   ]
  },
  {
   "cell_type": "code",
   "execution_count": null,
   "id": "77679c4b",
   "metadata": {
    "id": "77679c4b"
   },
   "outputs": [],
   "source": [
    "from sklearn.svm import SVC\n",
    "from sklearn.naive_bayes import GaussianNB\n",
    "data = X_train_scaled, X_test_scaled, y_train, y_test\n",
    "test_model(LogisticRegression(), data)\n",
    "test_model(GaussianNB(), data)\n",
    "test_model(KNeighborsClassifier(), data)\n",
    "test_model(AdaBoostClassifier(), data)\n",
    "test_model(SVC(), data)\n",
    "test_model(RandomForestClassifier(), data)\n",
    "test_model(ExtraTreesClassifier(), data)"
   ]
  },
  {
   "cell_type": "code",
   "execution_count": 286,
   "id": "d3489b58",
   "metadata": {
    "id": "d3489b58"
   },
   "outputs": [],
   "source": [
    "oversample = RandomOverSampler(sampling_strategy=0.5)\n",
    "X_over, y_over = oversample.fit_resample(X_train_scaled, y_train)"
   ]
  },
  {
   "cell_type": "code",
   "execution_count": 287,
   "id": "fhpZ2Dq-lOaO",
   "metadata": {
    "colab": {
     "base_uri": "https://localhost:8080/"
    },
    "id": "fhpZ2Dq-lOaO",
    "outputId": "03e6bdc2-4fb0-44ad-e88c-bfd00717186a"
   },
   "outputs": [
    {
     "name": "stdout",
     "output_type": "stream",
     "text": [
      "Model: LogisticRegression\n",
      "Train score: 0.7724261168384879\n",
      "Test Score: 0.8458715596330275\n",
      "\n",
      "[[3633  634]\n",
      " [  38   55]]\n",
      "              precision    recall  f1-score   support\n",
      "\n",
      "           0       0.99      0.85      0.92      4267\n",
      "           1       0.08      0.59      0.14        93\n",
      "\n",
      "    accuracy                           0.85      4360\n",
      "   macro avg       0.53      0.72      0.53      4360\n",
      "weighted avg       0.97      0.85      0.90      4360\n",
      "\n",
      "0.7214078537211055\n",
      "Model: GaussianNB\n",
      "Train score: 0.7316288659793815\n",
      "Test Score: 0.8231651376146789\n",
      "\n",
      "[[3541  726]\n",
      " [  45   48]]\n",
      "              precision    recall  f1-score   support\n",
      "\n",
      "           0       0.99      0.83      0.90      4267\n",
      "           1       0.06      0.52      0.11        93\n",
      "\n",
      "    accuracy                           0.82      4360\n",
      "   macro avg       0.52      0.67      0.51      4360\n",
      "weighted avg       0.97      0.82      0.88      4360\n",
      "\n",
      "0.6729930373383128\n",
      "Model: KNeighborsClassifier\n",
      "Train score: 0.9778144329896907\n",
      "Test Score: 0.9337155963302752\n",
      "\n",
      "[[4059  208]\n",
      " [  81   12]]\n",
      "              precision    recall  f1-score   support\n",
      "\n",
      "           0       0.98      0.95      0.97      4267\n",
      "           1       0.05      0.13      0.08        93\n",
      "\n",
      "    accuracy                           0.93      4360\n",
      "   macro avg       0.52      0.54      0.52      4360\n",
      "weighted avg       0.96      0.93      0.95      4360\n",
      "\n",
      "0.5401430331803715\n",
      "Model: AdaBoostClassifier\n",
      "Train score: 0.7782817869415808\n",
      "Test Score: 0.8557339449541285\n",
      "\n",
      "[[3674  593]\n",
      " [  36   57]]\n",
      "              precision    recall  f1-score   support\n",
      "\n",
      "           0       0.99      0.86      0.92      4267\n",
      "           1       0.09      0.61      0.15        93\n",
      "\n",
      "    accuracy                           0.86      4360\n",
      "   macro avg       0.54      0.74      0.54      4360\n",
      "weighted avg       0.97      0.86      0.90      4360\n",
      "\n",
      "0.7369648540562608\n",
      "Model: SVC\n",
      "Train score: 0.8329347079037801\n",
      "Test Score: 0.8711009174311927\n",
      "\n",
      "[[3758  509]\n",
      " [  53   40]]\n",
      "              precision    recall  f1-score   support\n",
      "\n",
      "           0       0.99      0.88      0.93      4267\n",
      "           1       0.07      0.43      0.12        93\n",
      "\n",
      "    accuracy                           0.87      4360\n",
      "   macro avg       0.53      0.66      0.53      4360\n",
      "weighted avg       0.97      0.87      0.91      4360\n",
      "\n",
      "0.6554099856110032\n",
      "Model: RandomForestClassifier\n",
      "Train score: 1.0\n",
      "Test Score: 0.9782110091743119\n",
      "\n",
      "[[4265    2]\n",
      " [  93    0]]\n",
      "              precision    recall  f1-score   support\n",
      "\n",
      "           0       0.98      1.00      0.99      4267\n",
      "           1       0.00      0.00      0.00        93\n",
      "\n",
      "    accuracy                           0.98      4360\n",
      "   macro avg       0.49      0.50      0.49      4360\n",
      "weighted avg       0.96      0.98      0.97      4360\n",
      "\n",
      "0.4997656433091165\n",
      "Model: ExtraTreesClassifier\n",
      "Train score: 1.0\n",
      "Test Score: 0.9772935779816514\n",
      "\n",
      "[[4261    6]\n",
      " [  93    0]]\n",
      "              precision    recall  f1-score   support\n",
      "\n",
      "           0       0.98      1.00      0.99      4267\n",
      "           1       0.00      0.00      0.00        93\n",
      "\n",
      "    accuracy                           0.98      4360\n",
      "   macro avg       0.49      0.50      0.49      4360\n",
      "weighted avg       0.96      0.98      0.97      4360\n",
      "\n",
      "0.4992969299273494\n"
     ]
    }
   ],
   "source": [
    "data = X_over, X_test_scaled, y_over, y_test\n",
    "test_model(LogisticRegression(), data)\n",
    "test_model(GaussianNB(), data)\n",
    "test_model(KNeighborsClassifier(), data)\n",
    "test_model(AdaBoostClassifier(), data)\n",
    "test_model(SVC(), data)\n",
    "test_model(RandomForestClassifier(), data)\n",
    "test_model(ExtraTreesClassifier(), data)"
   ]
  },
  {
   "cell_type": "code",
   "execution_count": 284,
   "id": "y56xmb8cmC3x",
   "metadata": {
    "id": "y56xmb8cmC3x"
   },
   "outputs": [],
   "source": [
    "from imblearn.under_sampling import RandomUnderSampler\n",
    "undersample = RandomUnderSampler(sampling_strategy=0.5)\n",
    "X_under, y_under = undersample.fit_resample(X_train_scaled, y_train)"
   ]
  },
  {
   "cell_type": "code",
   "execution_count": 285,
   "id": "pJ4nVzg7mNdG",
   "metadata": {
    "colab": {
     "base_uri": "https://localhost:8080/"
    },
    "id": "pJ4nVzg7mNdG",
    "outputId": "fee2a0b8-7a85-4144-f7ac-ad124d782421"
   },
   "outputs": [
    {
     "name": "stdout",
     "output_type": "stream",
     "text": [
      "Model: LogisticRegression\n",
      "Train score: 0.7706959706959707\n",
      "Test Score: 0.8479357798165138\n",
      "\n",
      "[[3641  626]\n",
      " [  37   56]]\n",
      "              precision    recall  f1-score   support\n",
      "\n",
      "           0       0.99      0.85      0.92      4267\n",
      "           1       0.08      0.60      0.14        93\n",
      "\n",
      "    accuracy                           0.85      4360\n",
      "   macro avg       0.54      0.73      0.53      4360\n",
      "weighted avg       0.97      0.85      0.90      4360\n",
      "\n",
      "0.727721624570661\n",
      "Model: GaussianNB\n",
      "Train score: 0.7282051282051282\n",
      "Test Score: 0.8215596330275229\n",
      "\n",
      "[[3532  735]\n",
      " [  43   50]]\n",
      "              precision    recall  f1-score   support\n",
      "\n",
      "           0       0.99      0.83      0.90      4267\n",
      "           1       0.06      0.54      0.11        93\n",
      "\n",
      "    accuracy                           0.82      4360\n",
      "   macro avg       0.53      0.68      0.51      4360\n",
      "weighted avg       0.97      0.82      0.88      4360\n",
      "\n",
      "0.6826911204013799\n",
      "Model: KNeighborsClassifier\n",
      "Train score: 0.8139194139194139\n",
      "Test Score: 0.8169724770642202\n",
      "\n",
      "[[3520  747]\n",
      " [  51   42]]\n",
      "              precision    recall  f1-score   support\n",
      "\n",
      "           0       0.99      0.82      0.90      4267\n",
      "           1       0.05      0.45      0.10        93\n",
      "\n",
      "    accuracy                           0.82      4360\n",
      "   macro avg       0.52      0.64      0.50      4360\n",
      "weighted avg       0.97      0.82      0.88      4360\n",
      "\n",
      "0.6382742275679067\n",
      "Model: AdaBoostClassifier\n",
      "Train score: 0.7956043956043956\n",
      "Test Score: 0.8403669724770643\n",
      "\n",
      "[[3607  660]\n",
      " [  36   57]]\n",
      "              precision    recall  f1-score   support\n",
      "\n",
      "           0       0.99      0.85      0.91      4267\n",
      "           1       0.08      0.61      0.14        93\n",
      "\n",
      "    accuracy                           0.84      4360\n",
      "   macro avg       0.53      0.73      0.53      4360\n",
      "weighted avg       0.97      0.84      0.90      4360\n",
      "\n",
      "0.7291139049116626\n",
      "Model: SVC\n",
      "Train score: 0.8102564102564103\n",
      "Test Score: 0.8552752293577982\n",
      "\n",
      "[[3678  589]\n",
      " [  42   51]]\n",
      "              precision    recall  f1-score   support\n",
      "\n",
      "           0       0.99      0.86      0.92      4267\n",
      "           1       0.08      0.55      0.14        93\n",
      "\n",
      "    accuracy                           0.86      4360\n",
      "   macro avg       0.53      0.71      0.53      4360\n",
      "weighted avg       0.97      0.86      0.90      4360\n",
      "\n",
      "0.7051755029218987\n",
      "Model: RandomForestClassifier\n",
      "Train score: 1.0\n",
      "Test Score: 0.841743119266055\n",
      "\n",
      "[[3621  646]\n",
      " [  44   49]]\n",
      "              precision    recall  f1-score   support\n",
      "\n",
      "           0       0.99      0.85      0.91      4267\n",
      "           1       0.07      0.53      0.12        93\n",
      "\n",
      "    accuracy                           0.84      4360\n",
      "   macro avg       0.53      0.69      0.52      4360\n",
      "weighted avg       0.97      0.84      0.90      4360\n",
      "\n",
      "0.6877436490596753\n",
      "Model: ExtraTreesClassifier\n",
      "Train score: 1.0\n",
      "Test Score: 0.8277522935779816\n",
      "\n",
      "[[3566  701]\n",
      " [  50   43]]\n",
      "              precision    recall  f1-score   support\n",
      "\n",
      "           0       0.99      0.84      0.90      4267\n",
      "           1       0.06      0.46      0.10        93\n",
      "\n",
      "    accuracy                           0.83      4360\n",
      "   macro avg       0.52      0.65      0.50      4360\n",
      "weighted avg       0.97      0.83      0.89      4360\n",
      "\n",
      "0.6490407755442493\n"
     ]
    }
   ],
   "source": [
    "data = X_under, X_test_scaled, y_under, y_test\n",
    "test_model(LogisticRegression(), data)\n",
    "test_model(GaussianNB(), data)\n",
    "test_model(KNeighborsClassifier(), data)\n",
    "test_model(AdaBoostClassifier(), data)\n",
    "test_model(SVC(), data)\n",
    "test_model(RandomForestClassifier(), data)\n",
    "test_model(ExtraTreesClassifier(), data)"
   ]
  },
  {
   "cell_type": "code",
   "execution_count": 261,
   "id": "Madq5JLMMk9u",
   "metadata": {
    "id": "Madq5JLMMk9u"
   },
   "outputs": [],
   "source": [
    "from imblearn.combine import SMOTEENN\n",
    "smote_enn = SMOTEENN(random_state=0)\n",
    "X_resampled, y_resampled = smote_enn.fit_resample(X, y)\n",
    "X_train, X_test, y_train, y_test = train_test_split(X_resampled, y_resampled, train_size=.85, random_state=12)"
   ]
  },
  {
   "cell_type": "code",
   "execution_count": 262,
   "id": "5HewA2f7MrHs",
   "metadata": {
    "colab": {
     "base_uri": "https://localhost:8080/"
    },
    "id": "5HewA2f7MrHs",
    "outputId": "c0d5c484-f53e-41fa-85ad-44e56d714d2b"
   },
   "outputs": [
    {
     "name": "stderr",
     "output_type": "stream",
     "text": [
      "/usr/local/lib/python3.7/dist-packages/sklearn/linear_model/_logistic.py:818: ConvergenceWarning: lbfgs failed to converge (status=1):\n",
      "STOP: TOTAL NO. of ITERATIONS REACHED LIMIT.\n",
      "\n",
      "Increase the number of iterations (max_iter) or scale the data as shown in:\n",
      "    https://scikit-learn.org/stable/modules/preprocessing.html\n",
      "Please also refer to the documentation for alternative solver options:\n",
      "    https://scikit-learn.org/stable/modules/linear_model.html#logistic-regression\n",
      "  extra_warning_msg=_LOGISTIC_SOLVER_CONVERGENCE_MSG,\n"
     ]
    },
    {
     "data": {
      "text/plain": [
       "LogisticRegression()"
      ]
     },
     "execution_count": 262,
     "metadata": {},
     "output_type": "execute_result"
    }
   ],
   "source": [
    "model = LogisticRegression()\n",
    "model.fit(X_train, y_train)"
   ]
  },
  {
   "cell_type": "code",
   "execution_count": 263,
   "id": "o3ooNZFhY7EO",
   "metadata": {
    "colab": {
     "base_uri": "https://localhost:8080/"
    },
    "id": "o3ooNZFhY7EO",
    "outputId": "991f3a54-4373-4898-e482-77081c366dc8"
   },
   "outputs": [
    {
     "name": "stderr",
     "output_type": "stream",
     "text": [
      "/usr/local/lib/python3.7/dist-packages/sklearn/linear_model/_logistic.py:818: ConvergenceWarning: lbfgs failed to converge (status=1):\n",
      "STOP: TOTAL NO. of ITERATIONS REACHED LIMIT.\n",
      "\n",
      "Increase the number of iterations (max_iter) or scale the data as shown in:\n",
      "    https://scikit-learn.org/stable/modules/preprocessing.html\n",
      "Please also refer to the documentation for alternative solver options:\n",
      "    https://scikit-learn.org/stable/modules/linear_model.html#logistic-regression\n",
      "  extra_warning_msg=_LOGISTIC_SOLVER_CONVERGENCE_MSG,\n",
      "/usr/local/lib/python3.7/dist-packages/sklearn/metrics/_classification.py:1308: UndefinedMetricWarning: Precision and F-score are ill-defined and being set to 0.0 in labels with no predicted samples. Use `zero_division` parameter to control this behavior.\n",
      "  _warn_prf(average, modifier, msg_start, len(result))\n",
      "/usr/local/lib/python3.7/dist-packages/sklearn/metrics/_classification.py:1308: UndefinedMetricWarning: Precision and F-score are ill-defined and being set to 0.0 in labels with no predicted samples. Use `zero_division` parameter to control this behavior.\n",
      "  _warn_prf(average, modifier, msg_start, len(result))\n",
      "/usr/local/lib/python3.7/dist-packages/sklearn/metrics/_classification.py:1308: UndefinedMetricWarning: Precision and F-score are ill-defined and being set to 0.0 in labels with no predicted samples. Use `zero_division` parameter to control this behavior.\n",
      "  _warn_prf(average, modifier, msg_start, len(result))\n"
     ]
    },
    {
     "name": "stdout",
     "output_type": "stream",
     "text": [
      "Model: LogisticRegression\n",
      "Train score: 0.9815826755717466\n",
      "Test Score: 0.9786697247706422\n",
      "\n",
      "[[4267    0]\n",
      " [  93    0]]\n",
      "              precision    recall  f1-score   support\n",
      "\n",
      "           0       0.98      1.00      0.99      4267\n",
      "           1       0.00      0.00      0.00        93\n",
      "\n",
      "    accuracy                           0.98      4360\n",
      "   macro avg       0.49      0.50      0.49      4360\n",
      "weighted avg       0.96      0.98      0.97      4360\n",
      "\n",
      "0.5\n",
      "Model: GaussianNB\n",
      "Train score: 0.9236996559400931\n",
      "Test Score: 0.9256880733944954\n",
      "\n",
      "[[4011  256]\n",
      " [  68   25]]\n",
      "              precision    recall  f1-score   support\n",
      "\n",
      "           0       0.98      0.94      0.96      4267\n",
      "           1       0.09      0.27      0.13        93\n",
      "\n",
      "    accuracy                           0.93      4360\n",
      "   macro avg       0.54      0.60      0.55      4360\n",
      "weighted avg       0.96      0.93      0.94      4360\n",
      "\n",
      "0.6044109457174465\n",
      "Model: KNeighborsClassifier\n",
      "Train score: 0.9816636308439587\n",
      "Test Score: 0.978440366972477\n",
      "\n",
      "[[4266    1]\n",
      " [  93    0]]\n",
      "              precision    recall  f1-score   support\n",
      "\n",
      "           0       0.98      1.00      0.99      4267\n",
      "           1       0.00      0.00      0.00        93\n",
      "\n",
      "    accuracy                           0.98      4360\n",
      "   macro avg       0.49      0.50      0.49      4360\n",
      "weighted avg       0.96      0.98      0.97      4360\n",
      "\n",
      "0.4998828216545582\n",
      "Model: AdaBoostClassifier\n",
      "Train score: 0.9815826755717466\n",
      "Test Score: 0.9786697247706422\n",
      "\n",
      "[[4267    0]\n",
      " [  93    0]]\n",
      "              precision    recall  f1-score   support\n",
      "\n",
      "           0       0.98      1.00      0.99      4267\n",
      "           1       0.00      0.00      0.00        93\n",
      "\n",
      "    accuracy                           0.98      4360\n",
      "   macro avg       0.49      0.50      0.49      4360\n",
      "weighted avg       0.96      0.98      0.97      4360\n",
      "\n",
      "0.5\n"
     ]
    },
    {
     "name": "stderr",
     "output_type": "stream",
     "text": [
      "/usr/local/lib/python3.7/dist-packages/sklearn/metrics/_classification.py:1308: UndefinedMetricWarning: Precision and F-score are ill-defined and being set to 0.0 in labels with no predicted samples. Use `zero_division` parameter to control this behavior.\n",
      "  _warn_prf(average, modifier, msg_start, len(result))\n",
      "/usr/local/lib/python3.7/dist-packages/sklearn/metrics/_classification.py:1308: UndefinedMetricWarning: Precision and F-score are ill-defined and being set to 0.0 in labels with no predicted samples. Use `zero_division` parameter to control this behavior.\n",
      "  _warn_prf(average, modifier, msg_start, len(result))\n",
      "/usr/local/lib/python3.7/dist-packages/sklearn/metrics/_classification.py:1308: UndefinedMetricWarning: Precision and F-score are ill-defined and being set to 0.0 in labels with no predicted samples. Use `zero_division` parameter to control this behavior.\n",
      "  _warn_prf(average, modifier, msg_start, len(result))\n"
     ]
    },
    {
     "name": "stdout",
     "output_type": "stream",
     "text": [
      "Model: SVC\n",
      "Train score: 0.9815826755717466\n",
      "Test Score: 0.9786697247706422\n",
      "\n",
      "[[4267    0]\n",
      " [  93    0]]\n",
      "              precision    recall  f1-score   support\n",
      "\n",
      "           0       0.98      1.00      0.99      4267\n",
      "           1       0.00      0.00      0.00        93\n",
      "\n",
      "    accuracy                           0.98      4360\n",
      "   macro avg       0.49      0.50      0.49      4360\n",
      "weighted avg       0.96      0.98      0.97      4360\n",
      "\n",
      "0.5\n"
     ]
    },
    {
     "name": "stderr",
     "output_type": "stream",
     "text": [
      "/usr/local/lib/python3.7/dist-packages/sklearn/metrics/_classification.py:1308: UndefinedMetricWarning: Precision and F-score are ill-defined and being set to 0.0 in labels with no predicted samples. Use `zero_division` parameter to control this behavior.\n",
      "  _warn_prf(average, modifier, msg_start, len(result))\n",
      "/usr/local/lib/python3.7/dist-packages/sklearn/metrics/_classification.py:1308: UndefinedMetricWarning: Precision and F-score are ill-defined and being set to 0.0 in labels with no predicted samples. Use `zero_division` parameter to control this behavior.\n",
      "  _warn_prf(average, modifier, msg_start, len(result))\n",
      "/usr/local/lib/python3.7/dist-packages/sklearn/metrics/_classification.py:1308: UndefinedMetricWarning: Precision and F-score are ill-defined and being set to 0.0 in labels with no predicted samples. Use `zero_division` parameter to control this behavior.\n",
      "  _warn_prf(average, modifier, msg_start, len(result))\n"
     ]
    },
    {
     "name": "stdout",
     "output_type": "stream",
     "text": [
      "Model: RandomForestClassifier\n",
      "Train score: 1.0\n",
      "Test Score: 0.9786697247706422\n",
      "\n",
      "[[4267    0]\n",
      " [  93    0]]\n",
      "              precision    recall  f1-score   support\n",
      "\n",
      "           0       0.98      1.00      0.99      4267\n",
      "           1       0.00      0.00      0.00        93\n",
      "\n",
      "    accuracy                           0.98      4360\n",
      "   macro avg       0.49      0.50      0.49      4360\n",
      "weighted avg       0.96      0.98      0.97      4360\n",
      "\n",
      "0.5\n"
     ]
    },
    {
     "name": "stderr",
     "output_type": "stream",
     "text": [
      "/usr/local/lib/python3.7/dist-packages/sklearn/metrics/_classification.py:1308: UndefinedMetricWarning: Precision and F-score are ill-defined and being set to 0.0 in labels with no predicted samples. Use `zero_division` parameter to control this behavior.\n",
      "  _warn_prf(average, modifier, msg_start, len(result))\n",
      "/usr/local/lib/python3.7/dist-packages/sklearn/metrics/_classification.py:1308: UndefinedMetricWarning: Precision and F-score are ill-defined and being set to 0.0 in labels with no predicted samples. Use `zero_division` parameter to control this behavior.\n",
      "  _warn_prf(average, modifier, msg_start, len(result))\n",
      "/usr/local/lib/python3.7/dist-packages/sklearn/metrics/_classification.py:1308: UndefinedMetricWarning: Precision and F-score are ill-defined and being set to 0.0 in labels with no predicted samples. Use `zero_division` parameter to control this behavior.\n",
      "  _warn_prf(average, modifier, msg_start, len(result))\n"
     ]
    },
    {
     "name": "stdout",
     "output_type": "stream",
     "text": [
      "Model: ExtraTreesClassifier\n",
      "Train score: 1.0\n",
      "Test Score: 0.9770642201834863\n",
      "\n",
      "[[4260    7]\n",
      " [  93    0]]\n",
      "              precision    recall  f1-score   support\n",
      "\n",
      "           0       0.98      1.00      0.99      4267\n",
      "           1       0.00      0.00      0.00        93\n",
      "\n",
      "    accuracy                           0.98      4360\n",
      "   macro avg       0.49      0.50      0.49      4360\n",
      "weighted avg       0.96      0.98      0.97      4360\n",
      "\n",
      "0.49917975158190764\n"
     ]
    }
   ],
   "source": [
    "X_train_scaled, X_test_scaled, y_train, y_test = train_test_split(X, y, train_size=.85, random_state=12)\n",
    "data = X_train_scaled, X_test_scaled, y_train, y_test\n",
    "test_model(LogisticRegression(), data)\n",
    "test_model(GaussianNB(), data)\n",
    "test_model(KNeighborsClassifier(), data)\n",
    "test_model(AdaBoostClassifier(), data)\n",
    "test_model(SVC(), data)\n",
    "test_model(RandomForestClassifier(), data)\n",
    "test_model(ExtraTreesClassifier(), data)"
   ]
  },
  {
   "cell_type": "code",
   "execution_count": 255,
   "id": "7QYEXr7YNHl8",
   "metadata": {
    "colab": {
     "base_uri": "https://localhost:8080/"
    },
    "id": "7QYEXr7YNHl8",
    "outputId": "72a905e5-dd45-46c1-dd6c-f008358f3c03"
   },
   "outputs": [
    {
     "name": "stdout",
     "output_type": "stream",
     "text": [
      "Train score: 0.7238210888484112\n",
      "Test Score: 0.7327981651376146\n",
      "\n",
      "[[3137 1130]\n",
      " [  35   58]]\n",
      "              precision    recall  f1-score   support\n",
      "\n",
      "           0       0.99      0.74      0.84      4267\n",
      "           1       0.05      0.62      0.09        93\n",
      "\n",
      "    accuracy                           0.73      4360\n",
      "   macro avg       0.52      0.68      0.47      4360\n",
      "weighted avg       0.97      0.73      0.83      4360\n",
      "\n",
      "0.6794164266400559\n"
     ]
    }
   ],
   "source": [
    "\n",
    "X_train, X_test, y_train, y_test = train_test_split(X, y, train_size=.85, random_state=12)   \n",
    "print(f'Train score: {model.score(X_train, y_train)}')\n",
    "print(f'Test Score: {model.score(X_test, y_test)}\\n')\n",
    "y_pred = model.predict(X_test)\n",
    "y_true = y_test\n",
    "print(confusion_matrix(y_true, y_pred))\n",
    "print(classification_report(y_test, y_pred))\n",
    "print(balanced_accuracy_score(y_test, y_pred))\n",
    "       "
   ]
  },
  {
   "cell_type": "code",
   "execution_count": 191,
   "id": "9DBlChaeNXja",
   "metadata": {
    "colab": {
     "base_uri": "https://localhost:8080/"
    },
    "id": "9DBlChaeNXja",
    "outputId": "82b10d06-8863-45c2-bbea-eb50f940e621"
   },
   "outputs": [
    {
     "name": "stdout",
     "output_type": "stream",
     "text": [
      "[[3762 1934]\n",
      " [  73   44]]\n",
      "                   pre       rec       spe        f1       geo       iba       sup\n",
      "\n",
      "          0       0.98      0.66      0.38      0.79      0.50      0.26      5696\n",
      "          1       0.02      0.38      0.66      0.04      0.50      0.24       117\n",
      "\n",
      "avg / total       0.96      0.65      0.38      0.77      0.50      0.26      5813\n",
      "\n"
     ]
    }
   ],
   "source": [
    "print(confusion_matrix(y_test, y_pred))\n",
    "print(classification_report_imbalanced(y_test, y_pred))"
   ]
  },
  {
   "cell_type": "code",
   "execution_count": 36,
   "id": "OZg17WhymjBj",
   "metadata": {
    "colab": {
     "base_uri": "https://localhost:8080/"
    },
    "id": "OZg17WhymjBj",
    "outputId": "82d10794-963a-4dc3-91d7-16a38958510c"
   },
   "outputs": [
    {
     "data": {
      "text/plain": [
       "BalancedRandomForestClassifier(max_depth=6, random_state=12)"
      ]
     },
     "execution_count": 36,
     "metadata": {},
     "output_type": "execute_result"
    }
   ],
   "source": [
    "clfb = BalancedRandomForestClassifier(max_depth=6, random_state=12)\n",
    "clfb.fit(X_train, y_train) "
   ]
  },
  {
   "cell_type": "code",
   "execution_count": 37,
   "id": "ub_gj685nPSn",
   "metadata": {
    "colab": {
     "base_uri": "https://localhost:8080/"
    },
    "id": "ub_gj685nPSn",
    "outputId": "2455c173-1ea4-4ccd-cce2-6f5a34836275"
   },
   "outputs": [
    {
     "name": "stdout",
     "output_type": "stream",
     "text": [
      "Train score: 0.7273021655535317\n",
      "Test Score: 0.7380733944954129\n",
      "\n",
      "[[3146 1121]\n",
      " [  21   72]]\n",
      "                   pre       rec       spe        f1       geo       iba       sup\n",
      "\n",
      "          0       0.99      0.74      0.77      0.85      0.76      0.57      4267\n",
      "          1       0.06      0.77      0.74      0.11      0.76      0.57        93\n",
      "\n",
      "avg / total       0.97      0.74      0.77      0.83      0.76      0.57      4360\n",
      "\n"
     ]
    },
    {
     "data": {
      "text/plain": [
       "0.7557398489533328"
      ]
     },
     "execution_count": 37,
     "metadata": {},
     "output_type": "execute_result"
    }
   ],
   "source": [
    "from imblearn.metrics import classification_report_imbalanced\n",
    "y_pred = clfb.predict(X_test)\n",
    "print(f'Train score: {clfb.score(X_train, y_train)}')\n",
    "print(f'Test Score: {clfb.score(X_test, y_test)}\\n')\n",
    "print(confusion_matrix(y_test, y_pred))\n",
    "print(classification_report_imbalanced(y_test, y_pred))\n",
    "balanced_accuracy_score(y_test, y_pred)"
   ]
  },
  {
   "cell_type": "code",
   "execution_count": 288,
   "id": "xUmhjlLmfQ3n",
   "metadata": {
    "id": "xUmhjlLmfQ3n"
   },
   "outputs": [],
   "source": [
    "def test_model2(model, data):\n",
    "    X_train, X_test, y_train, y_test = data\n",
    "    reg = model.fit(X_train, y_train)\n",
    "    \n",
    "    print(f'Model: {type(reg).__name__}')\n",
    "    print(f'Train score: {reg.score(X_train, y_train)}')\n",
    "    print(f'Test Score: {reg.score(X_test, y_test)}\\n')\n",
    "    y_pred = reg.predict(X_test)\n",
    "    y_true = y_test\n",
    "    print(confusion_matrix(y_true, y_pred))\n",
    "    print(classification_report(y_test, y_pred))\n",
    "    print(balanced_accuracy_score(y_test, y_pred))"
   ]
  },
  {
   "cell_type": "code",
   "execution_count": 291,
   "id": "FOZ6FsXBffGc",
   "metadata": {
    "colab": {
     "base_uri": "https://localhost:8080/",
     "height": 885
    },
    "id": "FOZ6FsXBffGc",
    "outputId": "3a82f239-644a-4414-9c96-595e2263d172"
   },
   "outputs": [
    {
     "name": "stdout",
     "output_type": "stream",
     "text": [
      "Model: RUSBoostClassifier\n",
      "Train score: 0.7045537340619308\n",
      "Test Score: 0.7077981651376147\n",
      "\n",
      "[[3014 1253]\n",
      " [  21   72]]\n",
      "              precision    recall  f1-score   support\n",
      "\n",
      "           0       0.99      0.71      0.83      4267\n",
      "           1       0.05      0.77      0.10        93\n",
      "\n",
      "    accuracy                           0.71      4360\n",
      "   macro avg       0.52      0.74      0.46      4360\n",
      "weighted avg       0.97      0.71      0.81      4360\n",
      "\n",
      "0.7402723073550201\n",
      "Model: BalancedRandomForestClassifier\n",
      "Train score: 0.6669904877555151\n",
      "Test Score: 0.675\n",
      "\n",
      "[[2866 1401]\n",
      " [  16   77]]\n",
      "              precision    recall  f1-score   support\n",
      "\n",
      "           0       0.99      0.67      0.80      4267\n",
      "           1       0.05      0.83      0.10        93\n",
      "\n",
      "    accuracy                           0.68      4360\n",
      "   macro avg       0.52      0.75      0.45      4360\n",
      "weighted avg       0.97      0.68      0.79      4360\n",
      "\n",
      "0.7498116326597468\n"
     ]
    },
    {
     "ename": "AttributeError",
     "evalue": "ignored",
     "output_type": "error",
     "traceback": [
      "\u001b[0;31m---------------------------------------------------------------------------\u001b[0m",
      "\u001b[0;31mAttributeError\u001b[0m                            Traceback (most recent call last)",
      "\u001b[0;32m<ipython-input-291-e3ee0a7371ef>\u001b[0m in \u001b[0;36m<module>\u001b[0;34m()\u001b[0m\n\u001b[1;32m      2\u001b[0m \u001b[0mtest_model2\u001b[0m\u001b[0;34m(\u001b[0m\u001b[0mRUSBoostClassifier\u001b[0m\u001b[0;34m(\u001b[0m\u001b[0;34m)\u001b[0m\u001b[0;34m,\u001b[0m \u001b[0mdata\u001b[0m\u001b[0;34m)\u001b[0m\u001b[0;34m\u001b[0m\u001b[0;34m\u001b[0m\u001b[0m\n\u001b[1;32m      3\u001b[0m \u001b[0mtest_model2\u001b[0m\u001b[0;34m(\u001b[0m\u001b[0mBalancedRandomForestClassifier\u001b[0m\u001b[0;34m(\u001b[0m\u001b[0mmax_depth\u001b[0m\u001b[0;34m=\u001b[0m\u001b[0;36m2\u001b[0m\u001b[0;34m,\u001b[0m \u001b[0mrandom_state\u001b[0m\u001b[0;34m=\u001b[0m\u001b[0;36m12\u001b[0m\u001b[0;34m)\u001b[0m\u001b[0;34m,\u001b[0m \u001b[0mdata\u001b[0m\u001b[0;34m)\u001b[0m\u001b[0;34m\u001b[0m\u001b[0;34m\u001b[0m\u001b[0m\n\u001b[0;32m----> 4\u001b[0;31m \u001b[0mtest_model2\u001b[0m\u001b[0;34m(\u001b[0m\u001b[0mBalancedBaggingClassifier\u001b[0m\u001b[0;34m(\u001b[0m\u001b[0;34m)\u001b[0m\u001b[0;34m,\u001b[0m \u001b[0mdata\u001b[0m\u001b[0;34m)\u001b[0m\u001b[0;34m\u001b[0m\u001b[0;34m\u001b[0m\u001b[0m\n\u001b[0m",
      "\u001b[0;32m<ipython-input-288-83ee2624691d>\u001b[0m in \u001b[0;36mtest_model2\u001b[0;34m(model, data)\u001b[0m\n\u001b[1;32m      1\u001b[0m \u001b[0;32mdef\u001b[0m \u001b[0mtest_model2\u001b[0m\u001b[0;34m(\u001b[0m\u001b[0mmodel\u001b[0m\u001b[0;34m,\u001b[0m \u001b[0mdata\u001b[0m\u001b[0;34m)\u001b[0m\u001b[0;34m:\u001b[0m\u001b[0;34m\u001b[0m\u001b[0;34m\u001b[0m\u001b[0m\n\u001b[1;32m      2\u001b[0m     \u001b[0mX_train\u001b[0m\u001b[0;34m,\u001b[0m \u001b[0mX_test\u001b[0m\u001b[0;34m,\u001b[0m \u001b[0my_train\u001b[0m\u001b[0;34m,\u001b[0m \u001b[0my_test\u001b[0m \u001b[0;34m=\u001b[0m \u001b[0mdata\u001b[0m\u001b[0;34m\u001b[0m\u001b[0;34m\u001b[0m\u001b[0m\n\u001b[0;32m----> 3\u001b[0;31m     \u001b[0mreg\u001b[0m \u001b[0;34m=\u001b[0m \u001b[0mmodel\u001b[0m\u001b[0;34m.\u001b[0m\u001b[0mfit\u001b[0m\u001b[0;34m(\u001b[0m\u001b[0mX_train\u001b[0m\u001b[0;34m,\u001b[0m \u001b[0my_train\u001b[0m\u001b[0;34m)\u001b[0m\u001b[0;34m\u001b[0m\u001b[0;34m\u001b[0m\u001b[0m\n\u001b[0m\u001b[1;32m      4\u001b[0m \u001b[0;34m\u001b[0m\u001b[0m\n\u001b[1;32m      5\u001b[0m     \u001b[0mprint\u001b[0m\u001b[0;34m(\u001b[0m\u001b[0;34mf'Model: {type(reg).__name__}'\u001b[0m\u001b[0;34m)\u001b[0m\u001b[0;34m\u001b[0m\u001b[0;34m\u001b[0m\u001b[0m\n",
      "\u001b[0;32m/usr/local/lib/python3.7/dist-packages/imblearn/ensemble/_bagging.py\u001b[0m in \u001b[0;36mfit\u001b[0;34m(self, X, y)\u001b[0m\n\u001b[1;32m    319\u001b[0m         \u001b[0;31m# RandomUnderSampler is not supporting sample_weight. We need to pass\u001b[0m\u001b[0;34m\u001b[0m\u001b[0;34m\u001b[0m\u001b[0;34m\u001b[0m\u001b[0m\n\u001b[1;32m    320\u001b[0m         \u001b[0;31m# None.\u001b[0m\u001b[0;34m\u001b[0m\u001b[0;34m\u001b[0m\u001b[0;34m\u001b[0m\u001b[0m\n\u001b[0;32m--> 321\u001b[0;31m         \u001b[0;32mreturn\u001b[0m \u001b[0mself\u001b[0m\u001b[0;34m.\u001b[0m\u001b[0m_fit\u001b[0m\u001b[0;34m(\u001b[0m\u001b[0mX\u001b[0m\u001b[0;34m,\u001b[0m \u001b[0my\u001b[0m\u001b[0;34m,\u001b[0m \u001b[0mself\u001b[0m\u001b[0;34m.\u001b[0m\u001b[0mmax_samples\u001b[0m\u001b[0;34m,\u001b[0m \u001b[0msample_weight\u001b[0m\u001b[0;34m=\u001b[0m\u001b[0;32mNone\u001b[0m\u001b[0;34m)\u001b[0m\u001b[0;34m\u001b[0m\u001b[0;34m\u001b[0m\u001b[0m\n\u001b[0m\u001b[1;32m    322\u001b[0m \u001b[0;34m\u001b[0m\u001b[0m\n\u001b[1;32m    323\u001b[0m     \u001b[0;32mdef\u001b[0m \u001b[0m_more_tags\u001b[0m\u001b[0;34m(\u001b[0m\u001b[0mself\u001b[0m\u001b[0;34m)\u001b[0m\u001b[0;34m:\u001b[0m\u001b[0;34m\u001b[0m\u001b[0;34m\u001b[0m\u001b[0m\n",
      "\u001b[0;32m/usr/local/lib/python3.7/dist-packages/sklearn/ensemble/_bagging.py\u001b[0m in \u001b[0;36m_fit\u001b[0;34m(self, X, y, max_samples, max_depth, sample_weight)\u001b[0m\n\u001b[1;32m    335\u001b[0m             \u001b[0mmax_features\u001b[0m \u001b[0;34m=\u001b[0m \u001b[0mself\u001b[0m\u001b[0;34m.\u001b[0m\u001b[0mmax_features\u001b[0m\u001b[0;34m\u001b[0m\u001b[0;34m\u001b[0m\u001b[0m\n\u001b[1;32m    336\u001b[0m         \u001b[0;32melif\u001b[0m \u001b[0misinstance\u001b[0m\u001b[0;34m(\u001b[0m\u001b[0mself\u001b[0m\u001b[0;34m.\u001b[0m\u001b[0mmax_features\u001b[0m\u001b[0;34m,\u001b[0m \u001b[0mfloat\u001b[0m\u001b[0;34m)\u001b[0m\u001b[0;34m:\u001b[0m\u001b[0;34m\u001b[0m\u001b[0;34m\u001b[0m\u001b[0m\n\u001b[0;32m--> 337\u001b[0;31m             \u001b[0mmax_features\u001b[0m \u001b[0;34m=\u001b[0m \u001b[0mself\u001b[0m\u001b[0;34m.\u001b[0m\u001b[0mmax_features\u001b[0m \u001b[0;34m*\u001b[0m \u001b[0mself\u001b[0m\u001b[0;34m.\u001b[0m\u001b[0mn_features_in_\u001b[0m\u001b[0;34m\u001b[0m\u001b[0;34m\u001b[0m\u001b[0m\n\u001b[0m\u001b[1;32m    338\u001b[0m         \u001b[0;32melse\u001b[0m\u001b[0;34m:\u001b[0m\u001b[0;34m\u001b[0m\u001b[0;34m\u001b[0m\u001b[0m\n\u001b[1;32m    339\u001b[0m             \u001b[0;32mraise\u001b[0m \u001b[0mValueError\u001b[0m\u001b[0;34m(\u001b[0m\u001b[0;34m\"max_features must be int or float\"\u001b[0m\u001b[0;34m)\u001b[0m\u001b[0;34m\u001b[0m\u001b[0;34m\u001b[0m\u001b[0m\n",
      "\u001b[0;31mAttributeError\u001b[0m: 'BalancedBaggingClassifier' object has no attribute 'n_features_in_'"
     ]
    }
   ],
   "source": [
    "data = X_train, X_test, y_train, y_test\n",
    "test_model2(RUSBoostClassifier(), data)\n",
    "test_model2(BalancedRandomForestClassifier(max_depth=2, random_state=12), data)\n",
    "test_model2(BalancedBaggingClassifier(), data)\n"
   ]
  },
  {
   "cell_type": "code",
   "execution_count": 48,
   "id": "3u55olDLqGHK",
   "metadata": {
    "id": "3u55olDLqGHK"
   },
   "outputs": [],
   "source": [
    "from imblearn.over_sampling import SMOTE\n",
    "smote=SMOTE()\n",
    "X_smote, y_smote = smote.fit_resample(X_train ,y_train)\n",
    "X_smote_test, y_smote_test = smote.fit_resample(X_test ,y_test)"
   ]
  },
  {
   "cell_type": "code",
   "execution_count": 276,
   "id": "Ur1D_lFbowaP",
   "metadata": {
    "colab": {
     "base_uri": "https://localhost:8080/"
    },
    "id": "Ur1D_lFbowaP",
    "outputId": "981ec35b-f8be-4070-8920-90011d079c48"
   },
   "outputs": [
    {
     "data": {
      "text/plain": [
       "XGBClassifier(learning_rate=0.0001, max_depth=4, n_estimators=10000, n_jobs=-1)"
      ]
     },
     "execution_count": 276,
     "metadata": {},
     "output_type": "execute_result"
    }
   ],
   "source": [
    "from xgboost import XGBClassifier\n",
    "xgc=XGBClassifier(objective='binary:logistic',n_estimators=10000,max_depth=4, learning_rate=.0001, n_jobs=-1)\n",
    "xgc.fit(X_smote,y_smote)"
   ]
  },
  {
   "cell_type": "code",
   "execution_count": 278,
   "id": "c9wj-NzEoGk2",
   "metadata": {
    "colab": {
     "base_uri": "https://localhost:8080/"
    },
    "id": "c9wj-NzEoGk2",
    "outputId": "c288d829-e0ef-4b69-8488-0b177741c723"
   },
   "outputs": [
    {
     "name": "stdout",
     "output_type": "stream",
     "text": [
      "Train score: 0.7481076705120421\n",
      "Test Score: 0.7520642201834863\n",
      "\n",
      "[[3220 1047]\n",
      " [  34   59]]\n",
      "                   pre       rec       spe        f1       geo       iba       sup\n",
      "\n",
      "          0       0.99      0.75      0.63      0.86      0.69      0.48      4267\n",
      "          1       0.05      0.63      0.75      0.10      0.69      0.47        93\n",
      "\n",
      "avg / total       0.97      0.75      0.64      0.84      0.69      0.48      4360\n",
      "\n"
     ]
    },
    {
     "data": {
      "text/plain": [
       "0.6945185733977437"
      ]
     },
     "execution_count": 278,
     "metadata": {},
     "output_type": "execute_result"
    }
   ],
   "source": [
    "y_pred = xgc.predict(X_test)\n",
    "print(f'Train score: {xgc.score(X_train, y_train)}')\n",
    "print(f'Test Score: {xgc.score(X_test, y_test)}\\n')\n",
    "print(confusion_matrix(y_test, y_pred))\n",
    "print(classification_report_imbalanced(y_test, y_pred))\n",
    "balanced_accuracy_score(y_test, y_pred)"
   ]
  },
  {
   "cell_type": "code",
   "execution_count": 225,
   "id": "pkznsq0w55YH",
   "metadata": {
    "colab": {
     "base_uri": "https://localhost:8080/",
     "height": 375
    },
    "id": "pkznsq0w55YH",
    "outputId": "c9d7c469-70c0-447c-b843-c703fb21d117"
   },
   "outputs": [
    {
     "ename": "AttributeError",
     "evalue": "ignored",
     "output_type": "error",
     "traceback": [
      "\u001b[0;31m---------------------------------------------------------------------------\u001b[0m",
      "\u001b[0;31mAttributeError\u001b[0m                            Traceback (most recent call last)",
      "\u001b[0;32m<ipython-input-225-cb6d409e83c1>\u001b[0m in \u001b[0;36m<module>\u001b[0;34m()\u001b[0m\n\u001b[1;32m      3\u001b[0m \u001b[0;34m\u001b[0m\u001b[0m\n\u001b[1;32m      4\u001b[0m \u001b[0meec\u001b[0m \u001b[0;34m=\u001b[0m \u001b[0mEasyEnsembleClassifier\u001b[0m\u001b[0;34m(\u001b[0m\u001b[0;34m)\u001b[0m\u001b[0;34m\u001b[0m\u001b[0;34m\u001b[0m\u001b[0m\n\u001b[0;32m----> 5\u001b[0;31m \u001b[0meec\u001b[0m\u001b[0;34m.\u001b[0m\u001b[0mfit\u001b[0m\u001b[0;34m(\u001b[0m\u001b[0mX_train_scaled\u001b[0m\u001b[0;34m,\u001b[0m \u001b[0my_train\u001b[0m\u001b[0;34m)\u001b[0m\u001b[0;34m\u001b[0m\u001b[0;34m\u001b[0m\u001b[0m\n\u001b[0m\u001b[1;32m      6\u001b[0m \u001b[0my_pred\u001b[0m \u001b[0;34m=\u001b[0m \u001b[0meec\u001b[0m\u001b[0;34m.\u001b[0m\u001b[0mpredict\u001b[0m\u001b[0;34m(\u001b[0m\u001b[0mX_test\u001b[0m\u001b[0;34m)\u001b[0m\u001b[0;34m\u001b[0m\u001b[0;34m\u001b[0m\u001b[0m\n\u001b[1;32m      7\u001b[0m \u001b[0mprint\u001b[0m\u001b[0;34m(\u001b[0m\u001b[0;34mf'Train score: {xgc.score(X_train_scaled, y_train)}'\u001b[0m\u001b[0;34m)\u001b[0m\u001b[0;34m\u001b[0m\u001b[0;34m\u001b[0m\u001b[0m\n",
      "\u001b[0;32m/usr/local/lib/python3.7/dist-packages/imblearn/ensemble/_easy_ensemble.py\u001b[0m in \u001b[0;36mfit\u001b[0;34m(self, X, y)\u001b[0m\n\u001b[1;32m    222\u001b[0m         \u001b[0;31m# RandomUnderSampler is not supporting sample_weight. We need to pass\u001b[0m\u001b[0;34m\u001b[0m\u001b[0;34m\u001b[0m\u001b[0;34m\u001b[0m\u001b[0m\n\u001b[1;32m    223\u001b[0m         \u001b[0;31m# None.\u001b[0m\u001b[0;34m\u001b[0m\u001b[0;34m\u001b[0m\u001b[0;34m\u001b[0m\u001b[0m\n\u001b[0;32m--> 224\u001b[0;31m         \u001b[0;32mreturn\u001b[0m \u001b[0mself\u001b[0m\u001b[0;34m.\u001b[0m\u001b[0m_fit\u001b[0m\u001b[0;34m(\u001b[0m\u001b[0mX\u001b[0m\u001b[0;34m,\u001b[0m \u001b[0my\u001b[0m\u001b[0;34m,\u001b[0m \u001b[0mself\u001b[0m\u001b[0;34m.\u001b[0m\u001b[0mmax_samples\u001b[0m\u001b[0;34m,\u001b[0m \u001b[0msample_weight\u001b[0m\u001b[0;34m=\u001b[0m\u001b[0;32mNone\u001b[0m\u001b[0;34m)\u001b[0m\u001b[0;34m\u001b[0m\u001b[0;34m\u001b[0m\u001b[0m\n\u001b[0m",
      "\u001b[0;32m/usr/local/lib/python3.7/dist-packages/sklearn/ensemble/_bagging.py\u001b[0m in \u001b[0;36m_fit\u001b[0;34m(self, X, y, max_samples, max_depth, sample_weight)\u001b[0m\n\u001b[1;32m    335\u001b[0m             \u001b[0mmax_features\u001b[0m \u001b[0;34m=\u001b[0m \u001b[0mself\u001b[0m\u001b[0;34m.\u001b[0m\u001b[0mmax_features\u001b[0m\u001b[0;34m\u001b[0m\u001b[0;34m\u001b[0m\u001b[0m\n\u001b[1;32m    336\u001b[0m         \u001b[0;32melif\u001b[0m \u001b[0misinstance\u001b[0m\u001b[0;34m(\u001b[0m\u001b[0mself\u001b[0m\u001b[0;34m.\u001b[0m\u001b[0mmax_features\u001b[0m\u001b[0;34m,\u001b[0m \u001b[0mfloat\u001b[0m\u001b[0;34m)\u001b[0m\u001b[0;34m:\u001b[0m\u001b[0;34m\u001b[0m\u001b[0;34m\u001b[0m\u001b[0m\n\u001b[0;32m--> 337\u001b[0;31m             \u001b[0mmax_features\u001b[0m \u001b[0;34m=\u001b[0m \u001b[0mself\u001b[0m\u001b[0;34m.\u001b[0m\u001b[0mmax_features\u001b[0m \u001b[0;34m*\u001b[0m \u001b[0mself\u001b[0m\u001b[0;34m.\u001b[0m\u001b[0mn_features_in_\u001b[0m\u001b[0;34m\u001b[0m\u001b[0;34m\u001b[0m\u001b[0m\n\u001b[0m\u001b[1;32m    338\u001b[0m         \u001b[0;32melse\u001b[0m\u001b[0;34m:\u001b[0m\u001b[0;34m\u001b[0m\u001b[0;34m\u001b[0m\u001b[0m\n\u001b[1;32m    339\u001b[0m             \u001b[0;32mraise\u001b[0m \u001b[0mValueError\u001b[0m\u001b[0;34m(\u001b[0m\u001b[0;34m\"max_features must be int or float\"\u001b[0m\u001b[0;34m)\u001b[0m\u001b[0;34m\u001b[0m\u001b[0;34m\u001b[0m\u001b[0m\n",
      "\u001b[0;31mAttributeError\u001b[0m: 'EasyEnsembleClassifier' object has no attribute 'n_features_in_'"
     ]
    }
   ],
   "source": [
    "from sklearn.ensemble import AdaBoostClassifier\n",
    "from imblearn.ensemble import EasyEnsembleClassifier\n",
    "\n",
    "eec = EasyEnsembleClassifier()\n",
    "eec.fit(X_train_scaled, y_train)\n",
    "y_pred = eec.predict(X_test)\n",
    "print(f'Train score: {xgc.score(X_train, y_train)}')\n",
    "print(f'Test Score: {xgc.score(X_test_scaled, y_test)}\\n')\n",
    "print(confusion_matrix(y_test, y_pred))\n",
    "print(classification_report_imbalanced(y_test, y_pred))\n",
    "balanced_accuracy_score(y_test, y_pred)"
   ]
  },
  {
   "cell_type": "code",
   "execution_count": 38,
   "id": "E8KG8-qmOjqD",
   "metadata": {
    "colab": {
     "base_uri": "https://localhost:8080/",
     "height": 607
    },
    "id": "E8KG8-qmOjqD",
    "outputId": "31220781-b413-4be4-fe50-6c252ced717c"
   },
   "outputs": [
    {
     "data": {
      "image/png": "[encoded data removed]",
      "text/plain": [
       "<Figure size 360x720 with 1 Axes>"
      ]
     },
     "metadata": {
      "needs_background": "light"
     },
     "output_type": "display_data"
    },
    {
     "data": {
      "text/plain": [
       "<Figure size 432x288 with 0 Axes>"
      ]
     },
     "metadata": {},
     "output_type": "display_data"
    }
   ],
   "source": [
    "from matplotlib import pyplot as plt\n",
    "features = sorted(zip(X.columns, clfb.feature_importances_), key = lambda x: x[1])\n",
    "cols = [f[0] for f in features]\n",
    "width = [f[1] for f in features]\n",
    "\n",
    "fig, ax = plt.subplots()\n",
    "\n",
    "fig.set_size_inches(5,10)\n",
    "plt.margins(y=0.001)\n",
    "\n",
    "\n",
    "ax.barh(y=cols, width=width)\n",
    "plt.title('Most Predictive Features')\n",
    "plt.savefig('most_pred_features.png')\n",
    "\n",
    "plt.show()\n",
    "plt.savefig('Visualizations/balanced_most_pred.png')"
   ]
  },
  {
   "cell_type": "code",
   "execution_count": 207,
   "id": "V3msvtWoPk9S",
   "metadata": {
    "colab": {
     "base_uri": "https://localhost:8080/"
    },
    "id": "V3msvtWoPk9S",
    "outputId": "e7f8f15c-b214-4e5b-e749-1d4df6a3cbc7"
   },
   "outputs": [
    {
     "name": "stdout",
     "output_type": "stream",
     "text": [
      "Model: \"sequential_2\"\n",
      "_________________________________________________________________\n",
      " Layer (type)                Output Shape              Param #   \n",
      "=================================================================\n",
      " dense_6 (Dense)             (None, 16)                176       \n",
      "                                                                 \n",
      " dense_7 (Dense)             (None, 8)                 136       \n",
      "                                                                 \n",
      " dense_8 (Dense)             (None, 1)                 9         \n",
      "                                                                 \n",
      "=================================================================\n",
      "Total params: 321\n",
      "Trainable params: 321\n",
      "Non-trainable params: 0\n",
      "_________________________________________________________________\n"
     ]
    }
   ],
   "source": [
    "nn_model = tf.keras.models.Sequential()\n",
    "\n",
    "# First hidden layer\n",
    "nn_model.add(tf.keras.layers.Dense(units=16, activation=\"sigmoid\", input_dim=10))\n",
    "# Second hidden layer\n",
    "nn_model.add(tf.keras.layers.Dense(units=8, activation=\"sigmoid\"))\n",
    "\n",
    "# Output layer\n",
    "nn_model.add(tf.keras.layers.Dense(units=1, activation=\"sigmoid\"))\n",
    "\n",
    "# Check the structure of the model\n",
    "nn_model.summary()"
   ]
  },
  {
   "cell_type": "code",
   "execution_count": 209,
   "id": "BCUAtnKdPoEQ",
   "metadata": {
    "colab": {
     "base_uri": "https://localhost:8080/"
    },
    "id": "BCUAtnKdPoEQ",
    "outputId": "88608fb3-0d55-478b-c2e7-b8f73be4fcff"
   },
   "outputs": [
    {
     "name": "stdout",
     "output_type": "stream",
     "text": [
      "Epoch 1/20\n",
      "41/41 [==============================] - 1s 2ms/step - loss: 0.6367 - accuracy: 0.6667\n",
      "Epoch 2/20\n",
      "41/41 [==============================] - 0s 2ms/step - loss: 0.6257 - accuracy: 0.6667\n",
      "Epoch 3/20\n",
      "41/41 [==============================] - 0s 2ms/step - loss: 0.6170 - accuracy: 0.6667\n",
      "Epoch 4/20\n",
      "41/41 [==============================] - 0s 2ms/step - loss: 0.6062 - accuracy: 0.6667\n",
      "Epoch 5/20\n",
      "41/41 [==============================] - 0s 2ms/step - loss: 0.5940 - accuracy: 0.6667\n",
      "Epoch 6/20\n",
      "41/41 [==============================] - 0s 2ms/step - loss: 0.5805 - accuracy: 0.6667\n",
      "Epoch 7/20\n",
      "41/41 [==============================] - 0s 2ms/step - loss: 0.5659 - accuracy: 0.6682\n",
      "Epoch 8/20\n",
      "41/41 [==============================] - 0s 2ms/step - loss: 0.5511 - accuracy: 0.6883\n",
      "Epoch 9/20\n",
      "41/41 [==============================] - 0s 2ms/step - loss: 0.5373 - accuracy: 0.7162\n",
      "Epoch 10/20\n",
      "41/41 [==============================] - 0s 2ms/step - loss: 0.5247 - accuracy: 0.7293\n",
      "Epoch 11/20\n",
      "41/41 [==============================] - 0s 2ms/step - loss: 0.5138 - accuracy: 0.7347\n",
      "Epoch 12/20\n",
      "41/41 [==============================] - 0s 2ms/step - loss: 0.5048 - accuracy: 0.7432\n",
      "Epoch 13/20\n",
      "41/41 [==============================] - 0s 2ms/step - loss: 0.4969 - accuracy: 0.7471\n",
      "Epoch 14/20\n",
      "41/41 [==============================] - 0s 2ms/step - loss: 0.4903 - accuracy: 0.7587\n",
      "Epoch 15/20\n",
      "41/41 [==============================] - 0s 2ms/step - loss: 0.4849 - accuracy: 0.7657\n",
      "Epoch 16/20\n",
      "41/41 [==============================] - 0s 2ms/step - loss: 0.4803 - accuracy: 0.7680\n",
      "Epoch 17/20\n",
      "41/41 [==============================] - 0s 2ms/step - loss: 0.4761 - accuracy: 0.7742\n",
      "Epoch 18/20\n",
      "41/41 [==============================] - 0s 2ms/step - loss: 0.4727 - accuracy: 0.7780\n",
      "Epoch 19/20\n",
      "41/41 [==============================] - 0s 2ms/step - loss: 0.4698 - accuracy: 0.7773\n",
      "Epoch 20/20\n",
      "41/41 [==============================] - 0s 2ms/step - loss: 0.4672 - accuracy: 0.7773\n"
     ]
    }
   ],
   "source": [
    "nn_model.compile(loss=\"binary_crossentropy\", optimizer=\"adam\", metrics=[\"accuracy\"])\n",
    "fit_model = nn_model.fit(X_under, y_under, epochs=20)"
   ]
  },
  {
   "cell_type": "code",
   "execution_count": 210,
   "id": "iMCAB1pbP847",
   "metadata": {
    "colab": {
     "base_uri": "https://localhost:8080/"
    },
    "id": "iMCAB1pbP847",
    "outputId": "7fd77ad4-f28b-4f53-d0d7-54c56788c5b0"
   },
   "outputs": [
    {
     "name": "stdout",
     "output_type": "stream",
     "text": [
      "182/182 - 0s - loss: 0.3319 - accuracy: 0.8366 - 336ms/epoch - 2ms/step\n"
     ]
    },
    {
     "data": {
      "text/plain": [
       "[0.33186104893684387, 0.8365731835365295]"
      ]
     },
     "execution_count": 210,
     "metadata": {},
     "output_type": "execute_result"
    }
   ],
   "source": [
    "nn_model.evaluate(X_test_scaled,y_test,verbose=2)"
   ]
  },
  {
   "cell_type": "code",
   "execution_count": 218,
   "id": "pOvLmseISCrr",
   "metadata": {
    "colab": {
     "base_uri": "https://localhost:8080/"
    },
    "id": "pOvLmseISCrr",
    "outputId": "929e483e-7939-4bd5-fdb9-3a9c0b0abb32"
   },
   "outputs": [
    {
     "name": "stdout",
     "output_type": "stream",
     "text": [
      "Test Accuracy: 0.837\n"
     ]
    }
   ],
   "source": [
    "loss, acc = nn_model.evaluate(X_test_scaled, y_test, verbose=0)\n",
    "print('Test Accuracy: %.3f' % acc)"
   ]
  },
  {
   "cell_type": "code",
   "execution_count": 219,
   "id": "C24NogsbS5ib",
   "metadata": {
    "colab": {
     "base_uri": "https://localhost:8080/",
     "height": 282
    },
    "id": "C24NogsbS5ib",
    "outputId": "a2f7fbb8-afd8-4f01-c6d0-cc3dbcb8f29d"
   },
   "outputs": [
    {
     "data": {
      "text/plain": [
       "<matplotlib.collections.PathCollection at 0x7fec3fa9d310>"
      ]
     },
     "execution_count": 219,
     "metadata": {},
     "output_type": "execute_result"
    },
    {
     "data": {
      "image/png": "[encoded data removed]",
      "text/plain": [
       "<Figure size 432x288 with 1 Axes>"
      ]
     },
     "metadata": {
      "needs_background": "light"
     },
     "output_type": "display_data"
    }
   ],
   "source": [
    "plt.scatter(nn_model.predict(X_test), y_test)"
   ]
  },
  {
   "cell_type": "code",
   "execution_count": 216,
   "id": "mzQcIqiUQY6I",
   "metadata": {
    "colab": {
     "base_uri": "https://localhost:8080/",
     "height": 392
    },
    "id": "mzQcIqiUQY6I",
    "outputId": "2ee8f2f7-7fef-4550-dd23-29aff06de94c"
   },
   "outputs": [
    {
     "name": "stdout",
     "output_type": "stream",
     "text": [
      "Train score: 0.8256063994495098\n",
      "Test Score: 0.8274557027352486\n",
      "\n"
     ]
    },
    {
     "ename": "ValueError",
     "evalue": "ignored",
     "output_type": "error",
     "traceback": [
      "\u001b[0;31m---------------------------------------------------------------------------\u001b[0m",
      "\u001b[0;31mValueError\u001b[0m                                Traceback (most recent call last)",
      "\u001b[0;32m<ipython-input-216-c864a8b46c3d>\u001b[0m in \u001b[0;36m<module>\u001b[0;34m()\u001b[0m\n\u001b[1;32m      4\u001b[0m \u001b[0;31m# print(confusion_matrix(y_test, y_pred))\u001b[0m\u001b[0;34m\u001b[0m\u001b[0;34m\u001b[0m\u001b[0;34m\u001b[0m\u001b[0m\n\u001b[1;32m      5\u001b[0m \u001b[0;31m#print(classification_report_imbalanced(y_test, y_pred))\u001b[0m\u001b[0;34m\u001b[0m\u001b[0;34m\u001b[0m\u001b[0;34m\u001b[0m\u001b[0m\n\u001b[0;32m----> 6\u001b[0;31m \u001b[0mbalanced_accuracy_score\u001b[0m\u001b[0;34m(\u001b[0m\u001b[0my_test\u001b[0m\u001b[0;34m,\u001b[0m \u001b[0my_pred\u001b[0m\u001b[0;34m)\u001b[0m\u001b[0;34m\u001b[0m\u001b[0;34m\u001b[0m\u001b[0m\n\u001b[0m",
      "\u001b[0;32m/usr/local/lib/python3.7/dist-packages/sklearn/metrics/_classification.py\u001b[0m in \u001b[0;36mbalanced_accuracy_score\u001b[0;34m(y_true, y_pred, sample_weight, adjusted)\u001b[0m\n\u001b[1;32m   1947\u001b[0m \u001b[0;34m\u001b[0m\u001b[0m\n\u001b[1;32m   1948\u001b[0m     \"\"\"\n\u001b[0;32m-> 1949\u001b[0;31m     \u001b[0mC\u001b[0m \u001b[0;34m=\u001b[0m \u001b[0mconfusion_matrix\u001b[0m\u001b[0;34m(\u001b[0m\u001b[0my_true\u001b[0m\u001b[0;34m,\u001b[0m \u001b[0my_pred\u001b[0m\u001b[0;34m,\u001b[0m \u001b[0msample_weight\u001b[0m\u001b[0;34m=\u001b[0m\u001b[0msample_weight\u001b[0m\u001b[0;34m)\u001b[0m\u001b[0;34m\u001b[0m\u001b[0;34m\u001b[0m\u001b[0m\n\u001b[0m\u001b[1;32m   1950\u001b[0m     \u001b[0;32mwith\u001b[0m \u001b[0mnp\u001b[0m\u001b[0;34m.\u001b[0m\u001b[0merrstate\u001b[0m\u001b[0;34m(\u001b[0m\u001b[0mdivide\u001b[0m\u001b[0;34m=\u001b[0m\u001b[0;34m\"ignore\"\u001b[0m\u001b[0;34m,\u001b[0m \u001b[0minvalid\u001b[0m\u001b[0;34m=\u001b[0m\u001b[0;34m\"ignore\"\u001b[0m\u001b[0;34m)\u001b[0m\u001b[0;34m:\u001b[0m\u001b[0;34m\u001b[0m\u001b[0;34m\u001b[0m\u001b[0m\n\u001b[1;32m   1951\u001b[0m         \u001b[0mper_class\u001b[0m \u001b[0;34m=\u001b[0m \u001b[0mnp\u001b[0m\u001b[0;34m.\u001b[0m\u001b[0mdiag\u001b[0m\u001b[0;34m(\u001b[0m\u001b[0mC\u001b[0m\u001b[0;34m)\u001b[0m \u001b[0;34m/\u001b[0m \u001b[0mC\u001b[0m\u001b[0;34m.\u001b[0m\u001b[0msum\u001b[0m\u001b[0;34m(\u001b[0m\u001b[0maxis\u001b[0m\u001b[0;34m=\u001b[0m\u001b[0;36m1\u001b[0m\u001b[0;34m)\u001b[0m\u001b[0;34m\u001b[0m\u001b[0;34m\u001b[0m\u001b[0m\n",
      "\u001b[0;32m/usr/local/lib/python3.7/dist-packages/sklearn/metrics/_classification.py\u001b[0m in \u001b[0;36mconfusion_matrix\u001b[0;34m(y_true, y_pred, labels, sample_weight, normalize)\u001b[0m\n\u001b[1;32m    300\u001b[0m \u001b[0;34m\u001b[0m\u001b[0m\n\u001b[1;32m    301\u001b[0m     \"\"\"\n\u001b[0;32m--> 302\u001b[0;31m     \u001b[0my_type\u001b[0m\u001b[0;34m,\u001b[0m \u001b[0my_true\u001b[0m\u001b[0;34m,\u001b[0m \u001b[0my_pred\u001b[0m \u001b[0;34m=\u001b[0m \u001b[0m_check_targets\u001b[0m\u001b[0;34m(\u001b[0m\u001b[0my_true\u001b[0m\u001b[0;34m,\u001b[0m \u001b[0my_pred\u001b[0m\u001b[0;34m)\u001b[0m\u001b[0;34m\u001b[0m\u001b[0;34m\u001b[0m\u001b[0m\n\u001b[0m\u001b[1;32m    303\u001b[0m     \u001b[0;32mif\u001b[0m \u001b[0my_type\u001b[0m \u001b[0;32mnot\u001b[0m \u001b[0;32min\u001b[0m \u001b[0;34m(\u001b[0m\u001b[0;34m\"binary\"\u001b[0m\u001b[0;34m,\u001b[0m \u001b[0;34m\"multiclass\"\u001b[0m\u001b[0;34m)\u001b[0m\u001b[0;34m:\u001b[0m\u001b[0;34m\u001b[0m\u001b[0;34m\u001b[0m\u001b[0m\n\u001b[1;32m    304\u001b[0m         \u001b[0;32mraise\u001b[0m \u001b[0mValueError\u001b[0m\u001b[0;34m(\u001b[0m\u001b[0;34m\"%s is not supported\"\u001b[0m \u001b[0;34m%\u001b[0m \u001b[0my_type\u001b[0m\u001b[0;34m)\u001b[0m\u001b[0;34m\u001b[0m\u001b[0;34m\u001b[0m\u001b[0m\n",
      "\u001b[0;32m/usr/local/lib/python3.7/dist-packages/sklearn/metrics/_classification.py\u001b[0m in \u001b[0;36m_check_targets\u001b[0;34m(y_true, y_pred)\u001b[0m\n\u001b[1;32m     93\u001b[0m         raise ValueError(\n\u001b[1;32m     94\u001b[0m             \"Classification metrics can't handle a mix of {0} and {1} targets\".format(\n\u001b[0;32m---> 95\u001b[0;31m                 \u001b[0mtype_true\u001b[0m\u001b[0;34m,\u001b[0m \u001b[0mtype_pred\u001b[0m\u001b[0;34m\u001b[0m\u001b[0;34m\u001b[0m\u001b[0m\n\u001b[0m\u001b[1;32m     96\u001b[0m             )\n\u001b[1;32m     97\u001b[0m         )\n",
      "\u001b[0;31mValueError\u001b[0m: Classification metrics can't handle a mix of binary and continuous targets"
     ]
    }
   ],
   "source": [
    "y_pred = nn_model.predict(X_test_scaled)\n",
    "print(f'Train score: {xgc.score(X_train_scaled, y_train)}')\n",
    "print(f'Test Score: {xgc.score(X_test_scaled, y_test)}\\n')\n",
    "# print(confusion_matrix(y_test, y_pred))\n",
    "#print(classification_report_imbalanced(y_test, y_pred))\n",
    "balanced_accuracy_score(y_test, y_pred)"
   ]
  },
  {
   "cell_type": "code",
   "execution_count": 220,
   "id": "9tniNdv7TuXN",
   "metadata": {
    "colab": {
     "base_uri": "https://localhost:8080/",
     "height": 419
    },
    "id": "9tniNdv7TuXN",
    "outputId": "9bdb66fa-09a1-4585-ebfb-9a8e5f5d5ace"
   },
   "outputs": [
    {
     "data": {
      "text/html": [
       "<div>\n",
       "<style scoped>\n",
       "    .dataframe tbody tr th:only-of-type {\n",
       "        vertical-align: middle;\n",
       "    }\n",
       "\n",
       "    .dataframe tbody tr th {\n",
       "        vertical-align: top;\n",
       "    }\n",
       "\n",
       "    .dataframe thead th {\n",
       "        text-align: right;\n",
       "    }\n",
       "</style>\n",
       "<table border=\"1\" class=\"dataframe\">\n",
       "  <thead>\n",
       "    <tr style=\"text-align: right;\">\n",
       "      <th></th>\n",
       "      <th>gender</th>\n",
       "      <th>age</th>\n",
       "      <th>hypertension</th>\n",
       "      <th>heart_disease</th>\n",
       "      <th>ever_married</th>\n",
       "      <th>work_type</th>\n",
       "      <th>residence_type</th>\n",
       "      <th>avg_glucose_level</th>\n",
       "      <th>bmi</th>\n",
       "      <th>smoking_status</th>\n",
       "      <th>stroke</th>\n",
       "    </tr>\n",
       "  </thead>\n",
       "  <tbody>\n",
       "    <tr>\n",
       "      <th>0</th>\n",
       "      <td>0</td>\n",
       "      <td>26.0</td>\n",
       "      <td>0</td>\n",
       "      <td>0</td>\n",
       "      <td>0</td>\n",
       "      <td>2</td>\n",
       "      <td>0</td>\n",
       "      <td>78.05</td>\n",
       "      <td>30.8</td>\n",
       "      <td>1</td>\n",
       "      <td>0</td>\n",
       "    </tr>\n",
       "    <tr>\n",
       "      <th>1</th>\n",
       "      <td>1</td>\n",
       "      <td>71.0</td>\n",
       "      <td>1</td>\n",
       "      <td>0</td>\n",
       "      <td>1</td>\n",
       "      <td>2</td>\n",
       "      <td>1</td>\n",
       "      <td>108.70</td>\n",
       "      <td>31.2</td>\n",
       "      <td>2</td>\n",
       "      <td>0</td>\n",
       "    </tr>\n",
       "    <tr>\n",
       "      <th>2</th>\n",
       "      <td>0</td>\n",
       "      <td>46.0</td>\n",
       "      <td>0</td>\n",
       "      <td>0</td>\n",
       "      <td>1</td>\n",
       "      <td>2</td>\n",
       "      <td>1</td>\n",
       "      <td>201.42</td>\n",
       "      <td>50.8</td>\n",
       "      <td>2</td>\n",
       "      <td>0</td>\n",
       "    </tr>\n",
       "    <tr>\n",
       "      <th>3</th>\n",
       "      <td>0</td>\n",
       "      <td>52.0</td>\n",
       "      <td>0</td>\n",
       "      <td>0</td>\n",
       "      <td>1</td>\n",
       "      <td>2</td>\n",
       "      <td>0</td>\n",
       "      <td>124.27</td>\n",
       "      <td>22.2</td>\n",
       "      <td>2</td>\n",
       "      <td>0</td>\n",
       "    </tr>\n",
       "    <tr>\n",
       "      <th>4</th>\n",
       "      <td>1</td>\n",
       "      <td>67.0</td>\n",
       "      <td>0</td>\n",
       "      <td>0</td>\n",
       "      <td>1</td>\n",
       "      <td>2</td>\n",
       "      <td>0</td>\n",
       "      <td>95.48</td>\n",
       "      <td>30.1</td>\n",
       "      <td>0</td>\n",
       "      <td>0</td>\n",
       "    </tr>\n",
       "    <tr>\n",
       "      <th>...</th>\n",
       "      <td>...</td>\n",
       "      <td>...</td>\n",
       "      <td>...</td>\n",
       "      <td>...</td>\n",
       "      <td>...</td>\n",
       "      <td>...</td>\n",
       "      <td>...</td>\n",
       "      <td>...</td>\n",
       "      <td>...</td>\n",
       "      <td>...</td>\n",
       "      <td>...</td>\n",
       "    </tr>\n",
       "    <tr>\n",
       "      <th>29060</th>\n",
       "      <td>0</td>\n",
       "      <td>51.0</td>\n",
       "      <td>0</td>\n",
       "      <td>0</td>\n",
       "      <td>1</td>\n",
       "      <td>0</td>\n",
       "      <td>1</td>\n",
       "      <td>226.04</td>\n",
       "      <td>27.1</td>\n",
       "      <td>1</td>\n",
       "      <td>0</td>\n",
       "    </tr>\n",
       "    <tr>\n",
       "      <th>29061</th>\n",
       "      <td>0</td>\n",
       "      <td>60.0</td>\n",
       "      <td>0</td>\n",
       "      <td>0</td>\n",
       "      <td>1</td>\n",
       "      <td>2</td>\n",
       "      <td>0</td>\n",
       "      <td>71.98</td>\n",
       "      <td>33.4</td>\n",
       "      <td>1</td>\n",
       "      <td>0</td>\n",
       "    </tr>\n",
       "    <tr>\n",
       "      <th>29062</th>\n",
       "      <td>0</td>\n",
       "      <td>45.0</td>\n",
       "      <td>0</td>\n",
       "      <td>0</td>\n",
       "      <td>0</td>\n",
       "      <td>0</td>\n",
       "      <td>0</td>\n",
       "      <td>77.45</td>\n",
       "      <td>42.2</td>\n",
       "      <td>0</td>\n",
       "      <td>0</td>\n",
       "    </tr>\n",
       "    <tr>\n",
       "      <th>29063</th>\n",
       "      <td>1</td>\n",
       "      <td>21.0</td>\n",
       "      <td>0</td>\n",
       "      <td>0</td>\n",
       "      <td>1</td>\n",
       "      <td>2</td>\n",
       "      <td>0</td>\n",
       "      <td>88.31</td>\n",
       "      <td>46.6</td>\n",
       "      <td>1</td>\n",
       "      <td>0</td>\n",
       "    </tr>\n",
       "    <tr>\n",
       "      <th>29064</th>\n",
       "      <td>0</td>\n",
       "      <td>75.0</td>\n",
       "      <td>0</td>\n",
       "      <td>0</td>\n",
       "      <td>1</td>\n",
       "      <td>0</td>\n",
       "      <td>0</td>\n",
       "      <td>56.23</td>\n",
       "      <td>25.3</td>\n",
       "      <td>1</td>\n",
       "      <td>0</td>\n",
       "    </tr>\n",
       "  </tbody>\n",
       "</table>\n",
       "<p>29065 rows × 11 columns</p>\n",
       "</div>"
      ],
      "text/plain": [
       "       gender   age  hypertension  ...   bmi  smoking_status  stroke\n",
       "0           0  26.0             0  ...  30.8               1       0\n",
       "1           1  71.0             1  ...  31.2               2       0\n",
       "2           0  46.0             0  ...  50.8               2       0\n",
       "3           0  52.0             0  ...  22.2               2       0\n",
       "4           1  67.0             0  ...  30.1               0       0\n",
       "...       ...   ...           ...  ...   ...             ...     ...\n",
       "29060       0  51.0             0  ...  27.1               1       0\n",
       "29061       0  60.0             0  ...  33.4               1       0\n",
       "29062       0  45.0             0  ...  42.2               0       0\n",
       "29063       1  21.0             0  ...  46.6               1       0\n",
       "29064       0  75.0             0  ...  25.3               1       0\n",
       "\n",
       "[29065 rows x 11 columns]"
      ]
     },
     "execution_count": 220,
     "metadata": {},
     "output_type": "execute_result"
    }
   ],
   "source": [
    "df"
   ]
  },
  {
   "cell_type": "code",
   "execution_count": 227,
   "id": "Nr-GRT6GRELg",
   "metadata": {
    "colab": {
     "base_uri": "https://localhost:8080/"
    },
    "id": "Nr-GRT6GRELg",
    "outputId": "2d35a77a-a9fb-4d36-fa28-061b69c0567d"
   },
   "outputs": [
    {
     "name": "stdout",
     "output_type": "stream",
     "text": [
      "Predicted: 0.744\n"
     ]
    }
   ],
   "source": [
    "row = [1, 13, 1, 1, 1, 2, 1, 213, 23, 1]\n",
    "yhat = nn_model.predict([row])\n",
    "print('Predicted: %.3f' % yhat)"
   ]
  },
  {
   "cell_type": "code",
   "execution_count": null,
   "id": "z7fxDFc2Q7ZF",
   "metadata": {
    "id": "z7fxDFc2Q7ZF"
   },
   "outputs": [],
   "source": []
  }
 ],
 "metadata": {
  "colab": {
   "name": "model_testing.ipynb",
   "provenance": []
  },
  "kernelspec": {
   "display_name": "Python 3",
   "language": "python",
   "name": "python3"
  },
  "language_info": {
   "codemirror_mode": {
    "name": "ipython",
    "version": 3
   },
   "file_extension": ".py",
   "mimetype": "text/x-python",
   "name": "python",
   "nbconvert_exporter": "python",
   "pygments_lexer": "ipython3",
   "version": "3.6.10"
  }
 },
 "nbformat": 4,
 "nbformat_minor": 5
}
