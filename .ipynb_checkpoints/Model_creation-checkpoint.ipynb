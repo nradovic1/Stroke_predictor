{
 "cells": [
  {
   "cell_type": "code",
   "execution_count": 44,
   "id": "0007e6d9",
   "metadata": {},
   "outputs": [],
   "source": [
    "import numpy as np\n",
    "import pandas as pd\n",
    "from pathlib import Path\n",
    "from sklearn.model_selection import train_test_split\n",
    "from sklearn.preprocessing import StandardScaler, MinMaxScaler, LabelEncoder\n",
    "from sklearn.metrics import confusion_matrix, classification_report\n",
    "from sklearn.decomposition import PCA\n",
    "from sklearn.pipeline import Pipeline\n",
    "from sklearn.model_selection import GridSearchCV\n",
    "from sklearn.linear_model import LogisticRegression\n",
    "from sklearn.ensemble import RandomForestClassifier\n",
    "from sklearn.ensemble import ExtraTreesClassifier\n",
    "from matplotlib import pyplot as plt\n",
    "from sklearn.cluster import KMeans\n",
    "import tensorflow as tf"
   ]
  },
  {
   "cell_type": "code",
   "execution_count": 35,
   "id": "38265951",
   "metadata": {},
   "outputs": [
    {
     "data": {
      "text/html": [
       "<div>\n",
       "<style scoped>\n",
       "    .dataframe tbody tr th:only-of-type {\n",
       "        vertical-align: middle;\n",
       "    }\n",
       "\n",
       "    .dataframe tbody tr th {\n",
       "        vertical-align: top;\n",
       "    }\n",
       "\n",
       "    .dataframe thead th {\n",
       "        text-align: right;\n",
       "    }\n",
       "</style>\n",
       "<table border=\"1\" class=\"dataframe\">\n",
       "  <thead>\n",
       "    <tr style=\"text-align: right;\">\n",
       "      <th></th>\n",
       "      <th>gender</th>\n",
       "      <th>age</th>\n",
       "      <th>hypertension</th>\n",
       "      <th>heart_disease</th>\n",
       "      <th>ever_married</th>\n",
       "      <th>residence_type</th>\n",
       "      <th>avg_glucose_level</th>\n",
       "      <th>bmi</th>\n",
       "      <th>stroke</th>\n",
       "      <th>work_type_Govt_job</th>\n",
       "      <th>work_type_Never_worked</th>\n",
       "      <th>work_type_Private</th>\n",
       "      <th>work_type_Self-employed</th>\n",
       "      <th>work_type_children</th>\n",
       "      <th>smoking_status_formerly smoked</th>\n",
       "      <th>smoking_status_never smoked</th>\n",
       "      <th>smoking_status_smokes</th>\n",
       "    </tr>\n",
       "  </thead>\n",
       "  <tbody>\n",
       "    <tr>\n",
       "      <th>15236</th>\n",
       "      <td>0</td>\n",
       "      <td>47.0</td>\n",
       "      <td>0</td>\n",
       "      <td>1</td>\n",
       "      <td>1</td>\n",
       "      <td>0</td>\n",
       "      <td>108.68</td>\n",
       "      <td>30.5</td>\n",
       "      <td>0</td>\n",
       "      <td>1</td>\n",
       "      <td>0</td>\n",
       "      <td>0</td>\n",
       "      <td>0</td>\n",
       "      <td>0</td>\n",
       "      <td>1</td>\n",
       "      <td>0</td>\n",
       "      <td>0</td>\n",
       "    </tr>\n",
       "    <tr>\n",
       "      <th>6175</th>\n",
       "      <td>0</td>\n",
       "      <td>22.0</td>\n",
       "      <td>0</td>\n",
       "      <td>0</td>\n",
       "      <td>0</td>\n",
       "      <td>1</td>\n",
       "      <td>94.27</td>\n",
       "      <td>26.0</td>\n",
       "      <td>0</td>\n",
       "      <td>0</td>\n",
       "      <td>0</td>\n",
       "      <td>1</td>\n",
       "      <td>0</td>\n",
       "      <td>0</td>\n",
       "      <td>0</td>\n",
       "      <td>0</td>\n",
       "      <td>1</td>\n",
       "    </tr>\n",
       "    <tr>\n",
       "      <th>9162</th>\n",
       "      <td>0</td>\n",
       "      <td>40.0</td>\n",
       "      <td>0</td>\n",
       "      <td>0</td>\n",
       "      <td>0</td>\n",
       "      <td>1</td>\n",
       "      <td>79.64</td>\n",
       "      <td>29.2</td>\n",
       "      <td>0</td>\n",
       "      <td>0</td>\n",
       "      <td>0</td>\n",
       "      <td>1</td>\n",
       "      <td>0</td>\n",
       "      <td>0</td>\n",
       "      <td>1</td>\n",
       "      <td>0</td>\n",
       "      <td>0</td>\n",
       "    </tr>\n",
       "    <tr>\n",
       "      <th>11449</th>\n",
       "      <td>1</td>\n",
       "      <td>26.0</td>\n",
       "      <td>0</td>\n",
       "      <td>0</td>\n",
       "      <td>0</td>\n",
       "      <td>0</td>\n",
       "      <td>100.85</td>\n",
       "      <td>21.0</td>\n",
       "      <td>0</td>\n",
       "      <td>1</td>\n",
       "      <td>0</td>\n",
       "      <td>0</td>\n",
       "      <td>0</td>\n",
       "      <td>0</td>\n",
       "      <td>0</td>\n",
       "      <td>0</td>\n",
       "      <td>1</td>\n",
       "    </tr>\n",
       "    <tr>\n",
       "      <th>25066</th>\n",
       "      <td>1</td>\n",
       "      <td>22.0</td>\n",
       "      <td>0</td>\n",
       "      <td>0</td>\n",
       "      <td>0</td>\n",
       "      <td>1</td>\n",
       "      <td>78.29</td>\n",
       "      <td>27.0</td>\n",
       "      <td>0</td>\n",
       "      <td>0</td>\n",
       "      <td>0</td>\n",
       "      <td>1</td>\n",
       "      <td>0</td>\n",
       "      <td>0</td>\n",
       "      <td>0</td>\n",
       "      <td>1</td>\n",
       "      <td>0</td>\n",
       "    </tr>\n",
       "    <tr>\n",
       "      <th>...</th>\n",
       "      <td>...</td>\n",
       "      <td>...</td>\n",
       "      <td>...</td>\n",
       "      <td>...</td>\n",
       "      <td>...</td>\n",
       "      <td>...</td>\n",
       "      <td>...</td>\n",
       "      <td>...</td>\n",
       "      <td>...</td>\n",
       "      <td>...</td>\n",
       "      <td>...</td>\n",
       "      <td>...</td>\n",
       "      <td>...</td>\n",
       "      <td>...</td>\n",
       "      <td>...</td>\n",
       "      <td>...</td>\n",
       "      <td>...</td>\n",
       "    </tr>\n",
       "    <tr>\n",
       "      <th>28899</th>\n",
       "      <td>0</td>\n",
       "      <td>76.0</td>\n",
       "      <td>0</td>\n",
       "      <td>0</td>\n",
       "      <td>1</td>\n",
       "      <td>1</td>\n",
       "      <td>195.58</td>\n",
       "      <td>26.9</td>\n",
       "      <td>0</td>\n",
       "      <td>0</td>\n",
       "      <td>0</td>\n",
       "      <td>0</td>\n",
       "      <td>1</td>\n",
       "      <td>0</td>\n",
       "      <td>0</td>\n",
       "      <td>1</td>\n",
       "      <td>0</td>\n",
       "    </tr>\n",
       "    <tr>\n",
       "      <th>22729</th>\n",
       "      <td>0</td>\n",
       "      <td>58.0</td>\n",
       "      <td>0</td>\n",
       "      <td>0</td>\n",
       "      <td>1</td>\n",
       "      <td>1</td>\n",
       "      <td>78.65</td>\n",
       "      <td>32.2</td>\n",
       "      <td>0</td>\n",
       "      <td>0</td>\n",
       "      <td>0</td>\n",
       "      <td>1</td>\n",
       "      <td>0</td>\n",
       "      <td>0</td>\n",
       "      <td>0</td>\n",
       "      <td>1</td>\n",
       "      <td>0</td>\n",
       "    </tr>\n",
       "    <tr>\n",
       "      <th>18218</th>\n",
       "      <td>0</td>\n",
       "      <td>55.0</td>\n",
       "      <td>0</td>\n",
       "      <td>0</td>\n",
       "      <td>1</td>\n",
       "      <td>0</td>\n",
       "      <td>193.70</td>\n",
       "      <td>41.8</td>\n",
       "      <td>0</td>\n",
       "      <td>0</td>\n",
       "      <td>0</td>\n",
       "      <td>0</td>\n",
       "      <td>1</td>\n",
       "      <td>0</td>\n",
       "      <td>1</td>\n",
       "      <td>0</td>\n",
       "      <td>0</td>\n",
       "    </tr>\n",
       "    <tr>\n",
       "      <th>6219</th>\n",
       "      <td>1</td>\n",
       "      <td>45.0</td>\n",
       "      <td>0</td>\n",
       "      <td>0</td>\n",
       "      <td>1</td>\n",
       "      <td>0</td>\n",
       "      <td>111.37</td>\n",
       "      <td>35.4</td>\n",
       "      <td>0</td>\n",
       "      <td>0</td>\n",
       "      <td>0</td>\n",
       "      <td>1</td>\n",
       "      <td>0</td>\n",
       "      <td>0</td>\n",
       "      <td>1</td>\n",
       "      <td>0</td>\n",
       "      <td>0</td>\n",
       "    </tr>\n",
       "    <tr>\n",
       "      <th>3952</th>\n",
       "      <td>0</td>\n",
       "      <td>57.0</td>\n",
       "      <td>0</td>\n",
       "      <td>0</td>\n",
       "      <td>1</td>\n",
       "      <td>1</td>\n",
       "      <td>223.05</td>\n",
       "      <td>39.1</td>\n",
       "      <td>0</td>\n",
       "      <td>1</td>\n",
       "      <td>0</td>\n",
       "      <td>0</td>\n",
       "      <td>0</td>\n",
       "      <td>0</td>\n",
       "      <td>0</td>\n",
       "      <td>1</td>\n",
       "      <td>0</td>\n",
       "    </tr>\n",
       "  </tbody>\n",
       "</table>\n",
       "<p>29065 rows × 17 columns</p>\n",
       "</div>"
      ],
      "text/plain": [
       "       gender   age  hypertension  heart_disease  ever_married  \\\n",
       "15236       0  47.0             0              1             1   \n",
       "6175        0  22.0             0              0             0   \n",
       "9162        0  40.0             0              0             0   \n",
       "11449       1  26.0             0              0             0   \n",
       "25066       1  22.0             0              0             0   \n",
       "...       ...   ...           ...            ...           ...   \n",
       "28899       0  76.0             0              0             1   \n",
       "22729       0  58.0             0              0             1   \n",
       "18218       0  55.0             0              0             1   \n",
       "6219        1  45.0             0              0             1   \n",
       "3952        0  57.0             0              0             1   \n",
       "\n",
       "       residence_type  avg_glucose_level   bmi  stroke  work_type_Govt_job  \\\n",
       "15236               0             108.68  30.5       0                   1   \n",
       "6175                1              94.27  26.0       0                   0   \n",
       "9162                1              79.64  29.2       0                   0   \n",
       "11449               0             100.85  21.0       0                   1   \n",
       "25066               1              78.29  27.0       0                   0   \n",
       "...               ...                ...   ...     ...                 ...   \n",
       "28899               1             195.58  26.9       0                   0   \n",
       "22729               1              78.65  32.2       0                   0   \n",
       "18218               0             193.70  41.8       0                   0   \n",
       "6219                0             111.37  35.4       0                   0   \n",
       "3952                1             223.05  39.1       0                   1   \n",
       "\n",
       "       work_type_Never_worked  work_type_Private  work_type_Self-employed  \\\n",
       "15236                       0                  0                        0   \n",
       "6175                        0                  1                        0   \n",
       "9162                        0                  1                        0   \n",
       "11449                       0                  0                        0   \n",
       "25066                       0                  1                        0   \n",
       "...                       ...                ...                      ...   \n",
       "28899                       0                  0                        1   \n",
       "22729                       0                  1                        0   \n",
       "18218                       0                  0                        1   \n",
       "6219                        0                  1                        0   \n",
       "3952                        0                  0                        0   \n",
       "\n",
       "       work_type_children  smoking_status_formerly smoked  \\\n",
       "15236                   0                               1   \n",
       "6175                    0                               0   \n",
       "9162                    0                               1   \n",
       "11449                   0                               0   \n",
       "25066                   0                               0   \n",
       "...                   ...                             ...   \n",
       "28899                   0                               0   \n",
       "22729                   0                               0   \n",
       "18218                   0                               1   \n",
       "6219                    0                               1   \n",
       "3952                    0                               0   \n",
       "\n",
       "       smoking_status_never smoked  smoking_status_smokes  \n",
       "15236                            0                      0  \n",
       "6175                             0                      1  \n",
       "9162                             0                      0  \n",
       "11449                            0                      1  \n",
       "25066                            1                      0  \n",
       "...                            ...                    ...  \n",
       "28899                            1                      0  \n",
       "22729                            1                      0  \n",
       "18218                            0                      0  \n",
       "6219                             0                      0  \n",
       "3952                             1                      0  \n",
       "\n",
       "[29065 rows x 17 columns]"
      ]
     },
     "execution_count": 35,
     "metadata": {},
     "output_type": "execute_result"
    }
   ],
   "source": [
    "df = pd.read_csv('model_clean_data.csv')\n",
    "df = df.sample(frac=1)\n",
    "df"
   ]
  },
  {
   "cell_type": "code",
   "execution_count": 36,
   "id": "f086d339",
   "metadata": {},
   "outputs": [],
   "source": [
    "#Divide the target column and the features column\n",
    "y = df['stroke']\n",
    "X = df.drop(['stroke'], axis = 1)"
   ]
  },
  {
   "cell_type": "code",
   "execution_count": 37,
   "id": "aa664e5c",
   "metadata": {},
   "outputs": [
    {
     "name": "stdout",
     "output_type": "stream",
     "text": [
      "(29065, 16)\n",
      "(29065,)\n"
     ]
    }
   ],
   "source": [
    "print(X.shape)\n",
    "print(y.shape)"
   ]
  },
  {
   "cell_type": "code",
   "execution_count": 38,
   "id": "cf4feaa9",
   "metadata": {},
   "outputs": [],
   "source": [
    "def test_model(model, data):\n",
    "    X_train_scaled, X_test_scaled, y_train, y_test = data\n",
    "    reg = model.fit(X_train_scaled, y_train)\n",
    "    print(f'Model: {type(reg).__name__}')\n",
    "    print(f'Train score: {reg.score(X_train_scaled, y_train)}')\n",
    "    print(f'Test Score: {reg.score(X_test_scaled, y_test)}\\n')\n",
    "    y_pred = model.predict(X_train_scaled)\n",
    "    y_true = y_test\n",
    "    print(confusion_matrix(y_true, y_pred))\n",
    "    print(classification_report(y_test, y_pred))\n",
    "    plt.show()    "
   ]
  },
  {
   "cell_type": "code",
   "execution_count": 39,
   "id": "7224d077",
   "metadata": {},
   "outputs": [],
   "source": [
    "# Split the data in training and testing using sklearn\n",
    "X_train, X_test, y_train, y_test = train_test_split(X, y, train_size=.8, random_state=12)"
   ]
  },
  {
   "cell_type": "code",
   "execution_count": 40,
   "id": "3a6f2416",
   "metadata": {},
   "outputs": [],
   "source": [
    "#Scale the data using StandardScaler()\n",
    "scaler = StandardScaler().fit(X_train)\n",
    "X_train_scaled = scaler.transform(X_train)\n",
    "X_test_scaled = scaler.transform(X_test)"
   ]
  },
  {
   "cell_type": "code",
   "execution_count": 18,
   "id": "76c6827f",
   "metadata": {},
   "outputs": [
    {
     "name": "stdout",
     "output_type": "stream",
     "text": [
      "Model: \"sequential_2\"\n",
      "_________________________________________________________________\n",
      "Layer (type)                 Output Shape              Param #   \n",
      "=================================================================\n",
      "dense_6 (Dense)              (None, 16)                272       \n",
      "_________________________________________________________________\n",
      "dense_7 (Dense)              (None, 8)                 136       \n",
      "_________________________________________________________________\n",
      "dense_8 (Dense)              (None, 1)                 9         \n",
      "=================================================================\n",
      "Total params: 417\n",
      "Trainable params: 417\n",
      "Non-trainable params: 0\n",
      "_________________________________________________________________\n"
     ]
    }
   ],
   "source": [
    "nn_model = tf.keras.models.Sequential()\n",
    "\n",
    "# First hidden layer\n",
    "nn_model.add(tf.keras.layers.Dense(units=16, activation=\"relu\", input_dim=16))\n",
    "# Second hidden layer\n",
    "nn_model.add(tf.keras.layers.Dense(units=8, activation=\"relu\"))\n",
    "\n",
    "# Output layer\n",
    "nn_model.add(tf.keras.layers.Dense(units=1, activation=\"sigmoid\"))\n",
    "\n",
    "# Check the structure of the model\n",
    "nn_model.summary()"
   ]
  },
  {
   "cell_type": "code",
   "execution_count": 19,
   "id": "b7f83cc7",
   "metadata": {
    "scrolled": false
   },
   "outputs": [
    {
     "name": "stdout",
     "output_type": "stream",
     "text": [
      "Epoch 1/20\n",
      "727/727 [==============================] - 1s 689us/step - loss: 0.1341 - accuracy: 0.97420s - loss: 0.1542 - accuracy: \n",
      "Epoch 2/20\n",
      "727/727 [==============================] - 0s 664us/step - loss: 0.0799 - accuracy: 0.9812\n",
      "Epoch 3/20\n",
      "727/727 [==============================] - 0s 649us/step - loss: 0.0787 - accuracy: 0.9812\n",
      "Epoch 4/20\n",
      "727/727 [==============================] - 0s 658us/step - loss: 0.0781 - accuracy: 0.9812\n",
      "Epoch 5/20\n",
      "727/727 [==============================] - 1s 714us/step - loss: 0.0776 - accuracy: 0.9812\n",
      "Epoch 6/20\n",
      "727/727 [==============================] - 0s 650us/step - loss: 0.0772 - accuracy: 0.9812\n",
      "Epoch 7/20\n",
      "727/727 [==============================] - 0s 664us/step - loss: 0.0771 - accuracy: 0.9812\n",
      "Epoch 8/20\n",
      "727/727 [==============================] - 0s 652us/step - loss: 0.0769 - accuracy: 0.9812\n",
      "Epoch 9/20\n",
      "727/727 [==============================] - 0s 649us/step - loss: 0.0767 - accuracy: 0.9812\n",
      "Epoch 10/20\n",
      "727/727 [==============================] - 0s 647us/step - loss: 0.0767 - accuracy: 0.9812\n",
      "Epoch 11/20\n",
      "727/727 [==============================] - 0s 647us/step - loss: 0.0764 - accuracy: 0.9812\n",
      "Epoch 12/20\n",
      "727/727 [==============================] - 0s 659us/step - loss: 0.0764 - accuracy: 0.9812\n",
      "Epoch 13/20\n",
      "727/727 [==============================] - 0s 671us/step - loss: 0.0764 - accuracy: 0.9812\n",
      "Epoch 14/20\n",
      "727/727 [==============================] - 0s 677us/step - loss: 0.0760 - accuracy: 0.9812\n",
      "Epoch 15/20\n",
      "727/727 [==============================] - 0s 657us/step - loss: 0.0761 - accuracy: 0.9812\n",
      "Epoch 16/20\n",
      "727/727 [==============================] - 0s 664us/step - loss: 0.0761 - accuracy: 0.9812\n",
      "Epoch 17/20\n",
      "727/727 [==============================] - 0s 666us/step - loss: 0.0761 - accuracy: 0.9812\n",
      "Epoch 18/20\n",
      "727/727 [==============================] - 0s 671us/step - loss: 0.0761 - accuracy: 0.9812\n",
      "Epoch 19/20\n",
      "727/727 [==============================] - 0s 670us/step - loss: 0.0759 - accuracy: 0.9812\n",
      "Epoch 20/20\n",
      "727/727 [==============================] - 0s 666us/step - loss: 0.0759 - accuracy: 0.9812\n"
     ]
    }
   ],
   "source": [
    "nn_model.compile(loss=\"binary_crossentropy\", optimizer=\"adam\", metrics=[\"accuracy\"])\n",
    "fit_model = nn_model.fit(X_train_scaled, y_train, epochs=20)"
   ]
  },
  {
   "cell_type": "code",
   "execution_count": 20,
   "id": "f2ca68c3",
   "metadata": {
    "scrolled": true
   },
   "outputs": [
    {
     "name": "stdout",
     "output_type": "stream",
     "text": [
      "182/182 - 0s - loss: 0.0825 - accuracy: 0.9809\n",
      "Loss: 0.08245271444320679, Accuracy: 0.9809048771858215\n"
     ]
    }
   ],
   "source": [
    "model_loss, model_accuracy = nn_model.evaluate(X_test_scaled,y_test,verbose=2)\n",
    "print(f\"Loss: {model_loss}, Accuracy: {model_accuracy}\")"
   ]
  },
  {
   "cell_type": "code",
   "execution_count": 15,
   "id": "e59ee672",
   "metadata": {},
   "outputs": [
    {
     "ename": "ValueError",
     "evalue": "The first argument to `Layer.call` must always be passed.",
     "output_type": "error",
     "traceback": [
      "\u001b[0;31m---------------------------------------------------------------------------\u001b[0m",
      "\u001b[0;31mValueError\u001b[0m                                Traceback (most recent call last)",
      "\u001b[0;32m<ipython-input-15-e1903e09ab26>\u001b[0m in \u001b[0;36m<module>\u001b[0;34m\u001b[0m\n\u001b[1;32m      1\u001b[0m steps = [\n\u001b[1;32m      2\u001b[0m     \u001b[0;34m(\u001b[0m\u001b[0;34m'clf_x'\u001b[0m\u001b[0;34m,\u001b[0m \u001b[0mExtraTreesClassifier\u001b[0m\u001b[0;34m(\u001b[0m\u001b[0mrandom_state\u001b[0m\u001b[0;34m=\u001b[0m\u001b[0;36m1\u001b[0m\u001b[0;34m)\u001b[0m\u001b[0;34m)\u001b[0m\u001b[0;34m,\u001b[0m\u001b[0;34m\u001b[0m\u001b[0;34m\u001b[0m\u001b[0m\n\u001b[0;32m----> 3\u001b[0;31m     \u001b[0;34m(\u001b[0m\u001b[0;34m'nn'\u001b[0m\u001b[0;34m,\u001b[0m \u001b[0mnn_model\u001b[0m\u001b[0;34m(\u001b[0m\u001b[0;34m)\u001b[0m\u001b[0;34m)\u001b[0m\u001b[0;34m\u001b[0m\u001b[0;34m\u001b[0m\u001b[0m\n\u001b[0m\u001b[1;32m      4\u001b[0m ]\n",
      "\u001b[0;32m~/opt/anaconda3/envs/PythonData/lib/python3.6/site-packages/keras/engine/base_layer.py\u001b[0m in \u001b[0;36m__call__\u001b[0;34m(self, *args, **kwargs)\u001b[0m\n\u001b[1;32m    965\u001b[0m     \u001b[0;31m# - mixed precision casting (autocast) is only applied to `inputs`,\u001b[0m\u001b[0;34m\u001b[0m\u001b[0;34m\u001b[0m\u001b[0;34m\u001b[0m\u001b[0m\n\u001b[1;32m    966\u001b[0m     \u001b[0;31m#   not to any other argument.\u001b[0m\u001b[0;34m\u001b[0m\u001b[0;34m\u001b[0m\u001b[0;34m\u001b[0m\u001b[0m\n\u001b[0;32m--> 967\u001b[0;31m     \u001b[0minputs\u001b[0m\u001b[0;34m,\u001b[0m \u001b[0margs\u001b[0m\u001b[0;34m,\u001b[0m \u001b[0mkwargs\u001b[0m \u001b[0;34m=\u001b[0m \u001b[0mself\u001b[0m\u001b[0;34m.\u001b[0m\u001b[0m_split_out_first_arg\u001b[0m\u001b[0;34m(\u001b[0m\u001b[0margs\u001b[0m\u001b[0;34m,\u001b[0m \u001b[0mkwargs\u001b[0m\u001b[0;34m)\u001b[0m\u001b[0;34m\u001b[0m\u001b[0;34m\u001b[0m\u001b[0m\n\u001b[0m\u001b[1;32m    968\u001b[0m     \u001b[0minput_list\u001b[0m \u001b[0;34m=\u001b[0m \u001b[0mtf\u001b[0m\u001b[0;34m.\u001b[0m\u001b[0mnest\u001b[0m\u001b[0;34m.\u001b[0m\u001b[0mflatten\u001b[0m\u001b[0;34m(\u001b[0m\u001b[0minputs\u001b[0m\u001b[0;34m)\u001b[0m\u001b[0;34m\u001b[0m\u001b[0;34m\u001b[0m\u001b[0m\n\u001b[1;32m    969\u001b[0m \u001b[0;34m\u001b[0m\u001b[0m\n",
      "\u001b[0;32m~/opt/anaconda3/envs/PythonData/lib/python3.6/site-packages/keras/engine/base_layer.py\u001b[0m in \u001b[0;36m_split_out_first_arg\u001b[0;34m(self, args, kwargs)\u001b[0m\n\u001b[1;32m   3010\u001b[0m     \u001b[0;32melse\u001b[0m\u001b[0;34m:\u001b[0m\u001b[0;34m\u001b[0m\u001b[0;34m\u001b[0m\u001b[0m\n\u001b[1;32m   3011\u001b[0m       raise ValueError(\n\u001b[0;32m-> 3012\u001b[0;31m           'The first argument to `Layer.call` must always be passed.')\n\u001b[0m\u001b[1;32m   3013\u001b[0m     \u001b[0;32mreturn\u001b[0m \u001b[0minputs\u001b[0m\u001b[0;34m,\u001b[0m \u001b[0margs\u001b[0m\u001b[0;34m,\u001b[0m \u001b[0mkwargs\u001b[0m\u001b[0;34m\u001b[0m\u001b[0;34m\u001b[0m\u001b[0m\n\u001b[1;32m   3014\u001b[0m \u001b[0;34m\u001b[0m\u001b[0m\n",
      "\u001b[0;31mValueError\u001b[0m: The first argument to `Layer.call` must always be passed."
     ]
    }
   ],
   "source": [
    "steps = [\n",
    "    ('clf_x', ExtraTreesClassifier(random_state=1)),\n",
    "    ('nn', nn_model())\n",
    "]"
   ]
  },
  {
   "cell_type": "code",
   "execution_count": 35,
   "id": "8f140b72",
   "metadata": {},
   "outputs": [
    {
     "data": {
      "text/plain": [
       "0.9819370376741786"
      ]
     },
     "execution_count": 35,
     "metadata": {},
     "output_type": "execute_result"
    }
   ],
   "source": [
    "pipe = Pipeline(steps)\n",
    "pipe.fit(X_train_scaled, y_train)\n",
    "pipe.score(X_test_scaled, y_test)"
   ]
  },
  {
   "cell_type": "code",
   "execution_count": null,
   "id": "25de624c",
   "metadata": {},
   "outputs": [],
   "source": []
  },
  {
   "cell_type": "code",
   "execution_count": 28,
   "id": "bf75e7c5",
   "metadata": {
    "scrolled": true
   },
   "outputs": [
    {
     "data": {
      "text/plain": [
       "GridSearchCV(estimator=Pipeline(steps=[('pca', PCA(n_components=0.9)),\n",
       "                                       ('lr', LogisticRegression())]),\n",
       "             param_grid={'lr__C': [0.001, 0.01, 0.1, 1, 10, 100, 1000],\n",
       "                         'lr__solver': ['sag', 'lbfgs']})"
      ]
     },
     "execution_count": 28,
     "metadata": {},
     "output_type": "execute_result"
    }
   ],
   "source": [
    "# cv = GridSearchCV(pipe, params)\n",
    "# cv.fit(X_train_scaled, y_train)"
   ]
  },
  {
   "cell_type": "code",
   "execution_count": 29,
   "id": "fd39b54b",
   "metadata": {},
   "outputs": [
    {
     "data": {
      "text/plain": [
       "0.9819370376741786"
      ]
     },
     "execution_count": 29,
     "metadata": {},
     "output_type": "execute_result"
    }
   ],
   "source": [
    "cv.score(X_test_scaled, y_test)"
   ]
  },
  {
   "cell_type": "code",
   "execution_count": 25,
   "id": "1db56d15",
   "metadata": {},
   "outputs": [
    {
     "ename": "AttributeError",
     "evalue": "'History' object has no attribute 'score'",
     "output_type": "error",
     "traceback": [
      "\u001b[0;31m---------------------------------------------------------------------------\u001b[0m",
      "\u001b[0;31mAttributeError\u001b[0m                            Traceback (most recent call last)",
      "\u001b[0;32m<ipython-input-25-7ede77ff04c1>\u001b[0m in \u001b[0;36m<module>\u001b[0;34m\u001b[0m\n\u001b[1;32m      4\u001b[0m \u001b[0;31m# )\u001b[0m\u001b[0;34m\u001b[0m\u001b[0;34m\u001b[0m\u001b[0;34m\u001b[0m\u001b[0m\n\u001b[1;32m      5\u001b[0m \u001b[0;31m# confusion_matrix(y_true, y_pred)\u001b[0m\u001b[0;34m\u001b[0m\u001b[0;34m\u001b[0m\u001b[0;34m\u001b[0m\u001b[0m\n\u001b[0;32m----> 6\u001b[0;31m \u001b[0mprint\u001b[0m\u001b[0;34m(\u001b[0m\u001b[0;34mf\"Training Data Score: {fit_model.score(X_train_scaled, y_train)}\"\u001b[0m\u001b[0;34m)\u001b[0m\u001b[0;34m\u001b[0m\u001b[0;34m\u001b[0m\u001b[0m\n\u001b[0m\u001b[1;32m      7\u001b[0m \u001b[0mprint\u001b[0m\u001b[0;34m(\u001b[0m\u001b[0;34mf\"Testing Data Score: {fit_model.score(X_test_scaled, y_test)}\"\u001b[0m\u001b[0;34m)\u001b[0m\u001b[0;34m\u001b[0m\u001b[0;34m\u001b[0m\u001b[0m\n",
      "\u001b[0;31mAttributeError\u001b[0m: 'History' object has no attribute 'score'"
     ]
    }
   ],
   "source": [
    "# y_true = y_test\n",
    "# y_pred = fit_model.make_predict_function(\n",
    "#     X_test\n",
    "# )\n",
    "# confusion_matrix(y_true, y_pred)\n",
    "print(f\"Training Data Score: {fit_model.score(X_train_scaled, y_train)}\")\n",
    "print(f\"Testing Data Score: {fit_model.score(X_test_scaled, y_test)}\")"
   ]
  },
  {
   "cell_type": "code",
   "execution_count": 22,
   "id": "679f2ef2",
   "metadata": {},
   "outputs": [],
   "source": [
    "data = [X_train_scaled, X_test_scaled, y_train, y_test]"
   ]
  },
  {
   "cell_type": "code",
   "execution_count": null,
   "id": "c33ba8d3",
   "metadata": {},
   "outputs": [],
   "source": []
  },
  {
   "cell_type": "code",
   "execution_count": 28,
   "id": "6e39ae14",
   "metadata": {},
   "outputs": [
    {
     "name": "stdout",
     "output_type": "stream",
     "text": [
      "Training Data Score: 0.9812059177705144\n",
      "Testing Data Score: 0.9809048683984174\n"
     ]
    }
   ],
   "source": [
    "\n",
    "lr = LogisticRegression()\n",
    "lr.fit(X_train_scaled, y_train)\n",
    "y_pred = lr.predict(X_train_scaled)\n",
    "y_true = y_test\n",
    "# print(confusion_matrix(y_test, lr.predict(X_train_scaled)))\n",
    "# # print(classification_report(y_test, y_pred))\n",
    "print(f\"Training Data Score: {lr.score(X_train_scaled, y_train)}\")\n",
    "print(f\"Testing Data Score: {lr.score(X_test_scaled, y_test)}\")"
   ]
  },
  {
   "cell_type": "code",
   "execution_count": 29,
   "id": "5fc190c4",
   "metadata": {},
   "outputs": [
    {
     "name": "stdout",
     "output_type": "stream",
     "text": [
      "Training Score: 1.0\n",
      "Testing Score: 0.9807328401857904\n"
     ]
    }
   ],
   "source": [
    "from sklearn.ensemble import RandomForestClassifier\n",
    "clf = RandomForestClassifier(random_state=1, n_estimators=500).fit(X_train_scaled, y_train)\n",
    "# print(classification_report(y_test, y_pred))\n",
    "# y_true = y_test\n",
    "# y_pred = clf.predict(X_test_scaled)\n",
    "# print(confusion_matrix(y_true, y_pred))\n",
    "print(f'Training Score: {clf.score(X_train_scaled, y_train)}')\n",
    "print(f'Testing Score: {clf.score(X_test_scaled, y_test)}')"
   ]
  },
  {
   "cell_type": "code",
   "execution_count": 30,
   "id": "4ca0b3a5",
   "metadata": {
    "scrolled": true
   },
   "outputs": [
    {
     "name": "stdout",
     "output_type": "stream",
     "text": [
      "Training Score: 1.0\n",
      "Testing Score: 0.9793566144847755\n"
     ]
    }
   ],
   "source": [
    "clf_x = ExtraTreesClassifier(random_state=1).fit(X_train_scaled, y_train)\n",
    "y_pred = clf_x.predict(X_test_scaled)\n",
    "y_true = y_test\n",
    "# confusion_matrix(y_true, y_pred)\n",
    "# print(classification_report(y_test, y_pred))\n",
    "print(f'Training Score: {clf_x.score(X_train_scaled, y_train)}')\n",
    "print(f'Testing Score: {clf_x.score(X_test_scaled, y_test)}')"
   ]
  },
  {
   "cell_type": "code",
   "execution_count": 14,
   "id": "36df3985",
   "metadata": {},
   "outputs": [
    {
     "name": "stderr",
     "output_type": "stream",
     "text": [
      "/Users/novakradovic/opt/anaconda3/envs/PythonData/lib/python3.6/site-packages/sklearn/metrics/_classification.py:1248: UndefinedMetricWarning: Precision and F-score are ill-defined and being set to 0.0 in labels with no predicted samples. Use `zero_division` parameter to control this behavior.\n",
      "  _warn_prf(average, modifier, msg_start, len(result))\n",
      "/Users/novakradovic/opt/anaconda3/envs/PythonData/lib/python3.6/site-packages/sklearn/metrics/_classification.py:1248: UndefinedMetricWarning: Precision and F-score are ill-defined and being set to 0.0 in labels with no predicted samples. Use `zero_division` parameter to control this behavior.\n",
      "  _warn_prf(average, modifier, msg_start, len(result))\n",
      "/Users/novakradovic/opt/anaconda3/envs/PythonData/lib/python3.6/site-packages/sklearn/metrics/_classification.py:1248: UndefinedMetricWarning: Precision and F-score are ill-defined and being set to 0.0 in labels with no predicted samples. Use `zero_division` parameter to control this behavior.\n",
      "  _warn_prf(average, modifier, msg_start, len(result))\n"
     ]
    },
    {
     "name": "stdout",
     "output_type": "stream",
     "text": [
      "              precision    recall  f1-score   support\n",
      "\n",
      "           0       0.98      1.00      0.99      7127\n",
      "           1       0.00      0.00      0.00       140\n",
      "\n",
      "    accuracy                           0.98      7267\n",
      "   macro avg       0.49      0.50      0.50      7267\n",
      "weighted avg       0.96      0.98      0.97      7267\n",
      "\n",
      "Training Score: 0.9812826864849986\n",
      "Testing Score: 0.9807348286775835\n"
     ]
    }
   ],
   "source": [
    "from sklearn.svm import SVC \n",
    "svc = SVC()\n",
    "svc.fit(X_train_scaled, y_train)\n",
    "y_pred = svc.predict(X_test_scaled)\n",
    "y_true = y_test\n",
    "# confusion_matrix(y_true, y_pred)\n",
    "# print(classification_report(y_test, y_pred))\n",
    "print(f'Training Score: {svc.score(X_train_scaled, y_train)}')\n",
    "print(f'Testing Score: {svc.score(X_test_scaled, y_test)}')"
   ]
  },
  {
   "cell_type": "code",
   "execution_count": 21,
   "id": "5f9fe656",
   "metadata": {},
   "outputs": [
    {
     "data": {
      "image/png": "[encoded data removed]",
      "text/plain": [
       "<Figure size 720x1440 with 1 Axes>"
      ]
     },
     "metadata": {
      "needs_background": "light"
     },
     "output_type": "display_data"
    }
   ],
   "source": [
    "from matplotlib import pyplot as plt\n",
    "features = sorted(zip(X.columns, clf_x.feature_importances_), key = lambda x: x[1])\n",
    "cols = [f[0] for f in features]\n",
    "width = [f[1] for f in features]\n",
    "\n",
    "fig, ax = plt.subplots()\n",
    "\n",
    "fig.set_size_inches(10,20)\n",
    "plt.margins(y=0.001)\n",
    "\n",
    "\n",
    "ax.barh(y=cols, width=width)\n",
    "plt.title('Most Predictive Features')\n",
    "plt.savefig('most_pred_features.png')\n",
    "\n",
    "plt.show()"
   ]
  },
  {
   "cell_type": "code",
   "execution_count": 33,
   "id": "25dee97e",
   "metadata": {},
   "outputs": [
    {
     "name": "stdout",
     "output_type": "stream",
     "text": [
      "Model: LinearRegression\n",
      "Train score: 0.0341170736991101\n",
      "Test Score: 0.030849578179435233\n",
      "\n",
      "Model: LogisticRegression\n",
      "Train score: 0.9812826864849986\n",
      "Test Score: 0.9807348286775835\n",
      "\n",
      "Model: KNeighborsClassifier\n",
      "Train score: 0.9814661895586752\n",
      "Test Score: 0.9800467868446402\n",
      "\n",
      "Model: AdaBoostClassifier\n",
      "Train score: 0.9812826864849986\n",
      "Test Score: 0.9805972203109949\n",
      "\n",
      "Model: SVR\n",
      "Train score: -1.663171382169391\n",
      "Test Score: -1.6410145926698694\n",
      "\n",
      "Model: RandomForestClassifier\n",
      "Train score: 1.0\n",
      "Test Score: 0.9804596119444062\n",
      "\n",
      "Model: ExtraTreesClassifier\n",
      "Train score: 1.0\n",
      "Test Score: 0.978395486445576\n",
      "\n"
     ]
    }
   ],
   "source": [
    "from sklearn.linear_model import LinearRegression, Ridge, Lasso, ElasticNet\n",
    "from sklearn.neighbors import KNeighborsClassifier\n",
    "from sklearn.ensemble import RandomForestRegressor, ExtraTreesRegressor, AdaBoostClassifier\n",
    "from sklearn.svm import SVR\n",
    "test_model(LinearRegression(), data)\n",
    "test_model(LogisticRegression(), data)\n",
    "test_model(KNeighborsClassifier(), data)\n",
    "test_model(AdaBoostClassifier(), data)\n",
    "test_model(SVR(C=1.0, epsilon=0.2), data)\n",
    "test_model(RandomForestClassifier(), data)\n",
    "test_model(ExtraTreesClassifier(), data)\n",
    "\n"
   ]
  },
  {
   "cell_type": "code",
   "execution_count": 34,
   "id": "109ff137",
   "metadata": {},
   "outputs": [
    {
     "data": {
      "text/plain": [
       "array([[7127,    0],\n",
       "       [ 140,    0]])"
      ]
     },
     "execution_count": 34,
     "metadata": {},
     "output_type": "execute_result"
    }
   ],
   "source": [
    "y_true = y_test\n",
    "y_pred = lr.predict(X_test_scaled)\n",
    "confusion_matrix(y_true, y_pred)"
   ]
  },
  {
   "cell_type": "code",
   "execution_count": 35,
   "id": "07000110",
   "metadata": {},
   "outputs": [
    {
     "data": {
      "text/plain": [
       "array([[7108,   19],\n",
       "       [ 140,    0]])"
      ]
     },
     "execution_count": 35,
     "metadata": {},
     "output_type": "execute_result"
    }
   ],
   "source": [
    "y_true = y_test\n",
    "y_pred = clf_x.predict(X_test_scaled)\n",
    "confusion_matrix(y_true, y_pred)"
   ]
  },
  {
   "cell_type": "code",
   "execution_count": 36,
   "id": "d0769ab4",
   "metadata": {},
   "outputs": [
    {
     "data": {
      "text/plain": [
       "array([[7125,    2],\n",
       "       [ 140,    0]])"
      ]
     },
     "execution_count": 36,
     "metadata": {},
     "output_type": "execute_result"
    }
   ],
   "source": [
    "y_true = y_test\n",
    "y_pred = clf.predict(X_test_scaled)\n",
    "confusion_matrix(y_true, y_pred)"
   ]
  },
  {
   "cell_type": "code",
   "execution_count": null,
   "id": "b76260ba",
   "metadata": {},
   "outputs": [],
   "source": [
    "print(y_test.value_counts())\n",
    "print(y_train.value_counts())"
   ]
  },
  {
   "cell_type": "code",
   "execution_count": 37,
   "id": "b83201fd",
   "metadata": {},
   "outputs": [
    {
     "data": {
      "text/plain": [
       "-1.588587847978218e-05"
      ]
     },
     "execution_count": 37,
     "metadata": {},
     "output_type": "execute_result"
    }
   ],
   "source": [
    "reg = Lasso().fit(X_train_scaled, y_train)\n",
    "reg.score(X_test_scaled, y_test)"
   ]
  },
  {
   "cell_type": "code",
   "execution_count": 31,
   "id": "37a5b723",
   "metadata": {},
   "outputs": [
    {
     "data": {
      "text/plain": [
       "0.9803220035778175"
      ]
     },
     "execution_count": 31,
     "metadata": {},
     "output_type": "execute_result"
    }
   ],
   "source": [
    "from sklearn.feature_selection import SelectFromModel\n",
    "sel = SelectFromModel(lr)\n",
    "sel.fit(X_train_scaled, y_train)\n",
    "X_selected_train, X_selected_test, y_train, y_test = train_test_split(sel.transform(X), y, random_state=1)\n",
    "scaler = StandardScaler().fit(X_selected_train)\n",
    "X_selected_train_scaled = scaler.transform(X_selected_train)\n",
    "X_selected_test_scaled = scaler.transform(X_selected_test)\n",
    "reg = LogisticRegression().fit(X_selected_train_scaled, y_train)\n",
    "reg.score(X_selected_test_scaled, y_test)"
   ]
  },
  {
   "cell_type": "code",
   "execution_count": 32,
   "id": "1b254c23",
   "metadata": {},
   "outputs": [
    {
     "name": "stdout",
     "output_type": "stream",
     "text": [
      "[[7124    0]\n",
      " [ 143    0]]\n",
      "              precision    recall  f1-score   support\n",
      "\n",
      "           0       0.98      1.00      0.99      7124\n",
      "           1       0.00      0.00      0.00       143\n",
      "\n",
      "    accuracy                           0.98      7267\n",
      "   macro avg       0.49      0.50      0.50      7267\n",
      "weighted avg       0.96      0.98      0.97      7267\n",
      "\n"
     ]
    },
    {
     "name": "stderr",
     "output_type": "stream",
     "text": [
      "/Users/novakradovic/opt/anaconda3/envs/PythonData/lib/python3.6/site-packages/sklearn/metrics/_classification.py:1248: UndefinedMetricWarning: Precision and F-score are ill-defined and being set to 0.0 in labels with no predicted samples. Use `zero_division` parameter to control this behavior.\n",
      "  _warn_prf(average, modifier, msg_start, len(result))\n",
      "/Users/novakradovic/opt/anaconda3/envs/PythonData/lib/python3.6/site-packages/sklearn/metrics/_classification.py:1248: UndefinedMetricWarning: Precision and F-score are ill-defined and being set to 0.0 in labels with no predicted samples. Use `zero_division` parameter to control this behavior.\n",
      "  _warn_prf(average, modifier, msg_start, len(result))\n",
      "/Users/novakradovic/opt/anaconda3/envs/PythonData/lib/python3.6/site-packages/sklearn/metrics/_classification.py:1248: UndefinedMetricWarning: Precision and F-score are ill-defined and being set to 0.0 in labels with no predicted samples. Use `zero_division` parameter to control this behavior.\n",
      "  _warn_prf(average, modifier, msg_start, len(result))\n"
     ]
    },
    {
     "ename": "ValueError",
     "evalue": "X has 16 features per sample; expecting 2",
     "output_type": "error",
     "traceback": [
      "\u001b[0;31m---------------------------------------------------------------------------\u001b[0m",
      "\u001b[0;31mValueError\u001b[0m                                Traceback (most recent call last)",
      "\u001b[0;32m<ipython-input-32-a72d3c83f6ee>\u001b[0m in \u001b[0;36m<module>\u001b[0;34m\u001b[0m\n\u001b[1;32m      3\u001b[0m \u001b[0mprint\u001b[0m\u001b[0;34m(\u001b[0m\u001b[0mconfusion_matrix\u001b[0m\u001b[0;34m(\u001b[0m\u001b[0my_true\u001b[0m\u001b[0;34m,\u001b[0m \u001b[0my_pred\u001b[0m\u001b[0;34m)\u001b[0m\u001b[0;34m)\u001b[0m\u001b[0;34m\u001b[0m\u001b[0;34m\u001b[0m\u001b[0m\n\u001b[1;32m      4\u001b[0m \u001b[0mprint\u001b[0m\u001b[0;34m(\u001b[0m\u001b[0mclassification_report\u001b[0m\u001b[0;34m(\u001b[0m\u001b[0my_test\u001b[0m\u001b[0;34m,\u001b[0m \u001b[0my_pred\u001b[0m\u001b[0;34m)\u001b[0m\u001b[0;34m)\u001b[0m\u001b[0;34m\u001b[0m\u001b[0;34m\u001b[0m\u001b[0m\n\u001b[0;32m----> 5\u001b[0;31m \u001b[0mprint\u001b[0m\u001b[0;34m(\u001b[0m\u001b[0;34mf'Training Score: {reg.score(X_train_scaled, y_train)}'\u001b[0m\u001b[0;34m)\u001b[0m\u001b[0;34m\u001b[0m\u001b[0;34m\u001b[0m\u001b[0m\n\u001b[0m\u001b[1;32m      6\u001b[0m \u001b[0mprint\u001b[0m\u001b[0;34m(\u001b[0m\u001b[0;34mf'Testing Score: {reg.score(X_test_scaled, y_test)}'\u001b[0m\u001b[0;34m)\u001b[0m\u001b[0;34m\u001b[0m\u001b[0;34m\u001b[0m\u001b[0m\n",
      "\u001b[0;32m~/opt/anaconda3/envs/PythonData/lib/python3.6/site-packages/sklearn/base.py\u001b[0m in \u001b[0;36mscore\u001b[0;34m(self, X, y, sample_weight)\u001b[0m\n\u001b[1;32m    498\u001b[0m         \"\"\"\n\u001b[1;32m    499\u001b[0m         \u001b[0;32mfrom\u001b[0m \u001b[0;34m.\u001b[0m\u001b[0mmetrics\u001b[0m \u001b[0;32mimport\u001b[0m \u001b[0maccuracy_score\u001b[0m\u001b[0;34m\u001b[0m\u001b[0;34m\u001b[0m\u001b[0m\n\u001b[0;32m--> 500\u001b[0;31m         \u001b[0;32mreturn\u001b[0m \u001b[0maccuracy_score\u001b[0m\u001b[0;34m(\u001b[0m\u001b[0my\u001b[0m\u001b[0;34m,\u001b[0m \u001b[0mself\u001b[0m\u001b[0;34m.\u001b[0m\u001b[0mpredict\u001b[0m\u001b[0;34m(\u001b[0m\u001b[0mX\u001b[0m\u001b[0;34m)\u001b[0m\u001b[0;34m,\u001b[0m \u001b[0msample_weight\u001b[0m\u001b[0;34m=\u001b[0m\u001b[0msample_weight\u001b[0m\u001b[0;34m)\u001b[0m\u001b[0;34m\u001b[0m\u001b[0;34m\u001b[0m\u001b[0m\n\u001b[0m\u001b[1;32m    501\u001b[0m \u001b[0;34m\u001b[0m\u001b[0m\n\u001b[1;32m    502\u001b[0m     \u001b[0;32mdef\u001b[0m \u001b[0m_more_tags\u001b[0m\u001b[0;34m(\u001b[0m\u001b[0mself\u001b[0m\u001b[0;34m)\u001b[0m\u001b[0;34m:\u001b[0m\u001b[0;34m\u001b[0m\u001b[0;34m\u001b[0m\u001b[0m\n",
      "\u001b[0;32m~/opt/anaconda3/envs/PythonData/lib/python3.6/site-packages/sklearn/linear_model/_base.py\u001b[0m in \u001b[0;36mpredict\u001b[0;34m(self, X)\u001b[0m\n\u001b[1;32m    307\u001b[0m             \u001b[0mPredicted\u001b[0m \u001b[0;32mclass\u001b[0m \u001b[0mlabel\u001b[0m \u001b[0mper\u001b[0m \u001b[0msample\u001b[0m\u001b[0;34m.\u001b[0m\u001b[0;34m\u001b[0m\u001b[0;34m\u001b[0m\u001b[0m\n\u001b[1;32m    308\u001b[0m         \"\"\"\n\u001b[0;32m--> 309\u001b[0;31m         \u001b[0mscores\u001b[0m \u001b[0;34m=\u001b[0m \u001b[0mself\u001b[0m\u001b[0;34m.\u001b[0m\u001b[0mdecision_function\u001b[0m\u001b[0;34m(\u001b[0m\u001b[0mX\u001b[0m\u001b[0;34m)\u001b[0m\u001b[0;34m\u001b[0m\u001b[0;34m\u001b[0m\u001b[0m\n\u001b[0m\u001b[1;32m    310\u001b[0m         \u001b[0;32mif\u001b[0m \u001b[0mlen\u001b[0m\u001b[0;34m(\u001b[0m\u001b[0mscores\u001b[0m\u001b[0;34m.\u001b[0m\u001b[0mshape\u001b[0m\u001b[0;34m)\u001b[0m \u001b[0;34m==\u001b[0m \u001b[0;36m1\u001b[0m\u001b[0;34m:\u001b[0m\u001b[0;34m\u001b[0m\u001b[0;34m\u001b[0m\u001b[0m\n\u001b[1;32m    311\u001b[0m             \u001b[0mindices\u001b[0m \u001b[0;34m=\u001b[0m \u001b[0;34m(\u001b[0m\u001b[0mscores\u001b[0m \u001b[0;34m>\u001b[0m \u001b[0;36m0\u001b[0m\u001b[0;34m)\u001b[0m\u001b[0;34m.\u001b[0m\u001b[0mastype\u001b[0m\u001b[0;34m(\u001b[0m\u001b[0mint\u001b[0m\u001b[0;34m)\u001b[0m\u001b[0;34m\u001b[0m\u001b[0;34m\u001b[0m\u001b[0m\n",
      "\u001b[0;32m~/opt/anaconda3/envs/PythonData/lib/python3.6/site-packages/sklearn/linear_model/_base.py\u001b[0m in \u001b[0;36mdecision_function\u001b[0;34m(self, X)\u001b[0m\n\u001b[1;32m    287\u001b[0m         \u001b[0;32mif\u001b[0m \u001b[0mX\u001b[0m\u001b[0;34m.\u001b[0m\u001b[0mshape\u001b[0m\u001b[0;34m[\u001b[0m\u001b[0;36m1\u001b[0m\u001b[0;34m]\u001b[0m \u001b[0;34m!=\u001b[0m \u001b[0mn_features\u001b[0m\u001b[0;34m:\u001b[0m\u001b[0;34m\u001b[0m\u001b[0;34m\u001b[0m\u001b[0m\n\u001b[1;32m    288\u001b[0m             raise ValueError(\"X has %d features per sample; expecting %d\"\n\u001b[0;32m--> 289\u001b[0;31m                              % (X.shape[1], n_features))\n\u001b[0m\u001b[1;32m    290\u001b[0m \u001b[0;34m\u001b[0m\u001b[0m\n\u001b[1;32m    291\u001b[0m         scores = safe_sparse_dot(X, self.coef_.T,\n",
      "\u001b[0;31mValueError\u001b[0m: X has 16 features per sample; expecting 2"
     ]
    }
   ],
   "source": [
    "y_pred = reg.predict(X_selected_test_scaled)\n",
    "y_true = y_test\n",
    "print(confusion_matrix(y_true, y_pred))\n",
    "print(classification_report(y_test, y_pred))\n",
    "print(f'Training Score: {reg.score(X_train_scaled, y_train)}')\n",
    "print(f'Testing Score: {reg.score(X_test_scaled, y_test)}')"
   ]
  },
  {
   "cell_type": "code",
   "execution_count": 41,
   "id": "bc8d27b1",
   "metadata": {},
   "outputs": [],
   "source": [
    "from sklearn.model_selection import GridSearchCV\n",
    "from sklearn.neighbors import KNeighborsClassifier\n",
    "\n",
    "model = KNeighborsClassifier()\n",
    "param_grid = {\n",
    "    'n_neighbors': [1, 3, 5, 7, 9, 11, 13, 15, 17, 19],\n",
    "    'weights': ['uniform', 'distance'],\n",
    "    'leaf_size': [10, 50, 100, 500]\n",
    "}\n",
    "grid_clf = GridSearchCV(model, param_grid, verbose=3)"
   ]
  },
  {
   "cell_type": "code",
   "execution_count": 42,
   "id": "9bd25368",
   "metadata": {},
   "outputs": [
    {
     "name": "stdout",
     "output_type": "stream",
     "text": [
      "Fitting 5 folds for each of 80 candidates, totalling 400 fits\n",
      "[CV 1/5] END leaf_size=10, n_neighbors=1, weights=uniform;, score=0.964 total time=   1.0s\n",
      "[CV 2/5] END leaf_size=10, n_neighbors=1, weights=uniform;, score=0.962 total time=   1.0s\n",
      "[CV 3/5] END leaf_size=10, n_neighbors=1, weights=uniform;, score=0.964 total time=   1.0s\n",
      "[CV 4/5] END leaf_size=10, n_neighbors=1, weights=uniform;, score=0.961 total time=   1.0s\n",
      "[CV 5/5] END leaf_size=10, n_neighbors=1, weights=uniform;, score=0.963 total time=   1.0s\n",
      "[CV 1/5] END leaf_size=10, n_neighbors=1, weights=distance;, score=0.964 total time=   0.9s\n",
      "[CV 2/5] END leaf_size=10, n_neighbors=1, weights=distance;, score=0.962 total time=   0.9s\n",
      "[CV 3/5] END leaf_size=10, n_neighbors=1, weights=distance;, score=0.964 total time=   0.9s\n",
      "[CV 4/5] END leaf_size=10, n_neighbors=1, weights=distance;, score=0.961 total time=   0.9s\n",
      "[CV 5/5] END leaf_size=10, n_neighbors=1, weights=distance;, score=0.963 total time=   0.9s\n",
      "[CV 1/5] END leaf_size=10, n_neighbors=3, weights=uniform;, score=0.981 total time=   1.1s\n",
      "[CV 2/5] END leaf_size=10, n_neighbors=3, weights=uniform;, score=0.979 total time=   1.6s\n",
      "[CV 3/5] END leaf_size=10, n_neighbors=3, weights=uniform;, score=0.980 total time=   1.5s\n",
      "[CV 4/5] END leaf_size=10, n_neighbors=3, weights=uniform;, score=0.981 total time=   1.2s\n",
      "[CV 5/5] END leaf_size=10, n_neighbors=3, weights=uniform;, score=0.979 total time=   1.2s\n",
      "[CV 1/5] END leaf_size=10, n_neighbors=3, weights=distance;, score=0.978 total time=   1.2s\n",
      "[CV 2/5] END leaf_size=10, n_neighbors=3, weights=distance;, score=0.978 total time=   1.1s\n",
      "[CV 3/5] END leaf_size=10, n_neighbors=3, weights=distance;, score=0.977 total time=   1.2s\n",
      "[CV 4/5] END leaf_size=10, n_neighbors=3, weights=distance;, score=0.976 total time=   1.2s\n",
      "[CV 5/5] END leaf_size=10, n_neighbors=3, weights=distance;, score=0.978 total time=   1.2s\n",
      "[CV 1/5] END leaf_size=10, n_neighbors=5, weights=uniform;, score=0.981 total time=   1.7s\n",
      "[CV 2/5] END leaf_size=10, n_neighbors=5, weights=uniform;, score=0.981 total time=   1.6s\n",
      "[CV 3/5] END leaf_size=10, n_neighbors=5, weights=uniform;, score=0.981 total time=   1.5s\n",
      "[CV 4/5] END leaf_size=10, n_neighbors=5, weights=uniform;, score=0.981 total time=   1.4s\n",
      "[CV 5/5] END leaf_size=10, n_neighbors=5, weights=uniform;, score=0.981 total time=   1.4s\n",
      "[CV 1/5] END leaf_size=10, n_neighbors=5, weights=distance;, score=0.981 total time=   1.5s\n",
      "[CV 2/5] END leaf_size=10, n_neighbors=5, weights=distance;, score=0.980 total time=   1.5s\n",
      "[CV 3/5] END leaf_size=10, n_neighbors=5, weights=distance;, score=0.980 total time=   1.5s\n",
      "[CV 4/5] END leaf_size=10, n_neighbors=5, weights=distance;, score=0.980 total time=   1.3s\n",
      "[CV 5/5] END leaf_size=10, n_neighbors=5, weights=distance;, score=0.980 total time=   1.4s\n",
      "[CV 1/5] END leaf_size=10, n_neighbors=7, weights=uniform;, score=0.981 total time=   1.6s\n",
      "[CV 2/5] END leaf_size=10, n_neighbors=7, weights=uniform;, score=0.981 total time=   1.7s\n",
      "[CV 3/5] END leaf_size=10, n_neighbors=7, weights=uniform;, score=0.981 total time=   1.6s\n",
      "[CV 4/5] END leaf_size=10, n_neighbors=7, weights=uniform;, score=0.981 total time=   1.4s\n",
      "[CV 5/5] END leaf_size=10, n_neighbors=7, weights=uniform;, score=0.981 total time=   1.4s\n",
      "[CV 1/5] END leaf_size=10, n_neighbors=7, weights=distance;, score=0.981 total time=   1.6s\n",
      "[CV 2/5] END leaf_size=10, n_neighbors=7, weights=distance;, score=0.980 total time=   1.5s\n",
      "[CV 3/5] END leaf_size=10, n_neighbors=7, weights=distance;, score=0.980 total time=   1.4s\n",
      "[CV 4/5] END leaf_size=10, n_neighbors=7, weights=distance;, score=0.981 total time=   1.3s\n",
      "[CV 5/5] END leaf_size=10, n_neighbors=7, weights=distance;, score=0.981 total time=   1.5s\n",
      "[CV 1/5] END leaf_size=10, n_neighbors=9, weights=uniform;, score=0.981 total time=   1.6s\n",
      "[CV 2/5] END leaf_size=10, n_neighbors=9, weights=uniform;, score=0.981 total time=   1.5s\n",
      "[CV 3/5] END leaf_size=10, n_neighbors=9, weights=uniform;, score=0.981 total time=   1.5s\n",
      "[CV 4/5] END leaf_size=10, n_neighbors=9, weights=uniform;, score=0.981 total time=   1.5s\n",
      "[CV 5/5] END leaf_size=10, n_neighbors=9, weights=uniform;, score=0.981 total time=   1.7s\n",
      "[CV 1/5] END leaf_size=10, n_neighbors=9, weights=distance;, score=0.981 total time=   1.5s\n",
      "[CV 2/5] END leaf_size=10, n_neighbors=9, weights=distance;, score=0.981 total time=   1.6s\n",
      "[CV 3/5] END leaf_size=10, n_neighbors=9, weights=distance;, score=0.980 total time=   1.5s\n",
      "[CV 4/5] END leaf_size=10, n_neighbors=9, weights=distance;, score=0.981 total time=   1.3s\n",
      "[CV 5/5] END leaf_size=10, n_neighbors=9, weights=distance;, score=0.981 total time=   1.3s\n",
      "[CV 1/5] END leaf_size=10, n_neighbors=11, weights=uniform;, score=0.981 total time=   1.7s\n",
      "[CV 2/5] END leaf_size=10, n_neighbors=11, weights=uniform;, score=0.981 total time=   1.6s\n",
      "[CV 3/5] END leaf_size=10, n_neighbors=11, weights=uniform;, score=0.981 total time=   1.5s\n",
      "[CV 4/5] END leaf_size=10, n_neighbors=11, weights=uniform;, score=0.981 total time=   1.4s\n",
      "[CV 5/5] END leaf_size=10, n_neighbors=11, weights=uniform;, score=0.981 total time=   1.4s\n",
      "[CV 1/5] END leaf_size=10, n_neighbors=11, weights=distance;, score=0.981 total time=   1.5s\n",
      "[CV 2/5] END leaf_size=10, n_neighbors=11, weights=distance;, score=0.981 total time=   1.5s\n",
      "[CV 3/5] END leaf_size=10, n_neighbors=11, weights=distance;, score=0.981 total time=   1.4s\n",
      "[CV 4/5] END leaf_size=10, n_neighbors=11, weights=distance;, score=0.981 total time=   1.3s\n",
      "[CV 5/5] END leaf_size=10, n_neighbors=11, weights=distance;, score=0.981 total time=   1.3s\n",
      "[CV 1/5] END leaf_size=10, n_neighbors=13, weights=uniform;, score=0.981 total time=   1.6s\n",
      "[CV 2/5] END leaf_size=10, n_neighbors=13, weights=uniform;, score=0.981 total time=   1.9s\n",
      "[CV 3/5] END leaf_size=10, n_neighbors=13, weights=uniform;, score=0.981 total time=   1.8s\n",
      "[CV 4/5] END leaf_size=10, n_neighbors=13, weights=uniform;, score=0.981 total time=   1.5s\n",
      "[CV 5/5] END leaf_size=10, n_neighbors=13, weights=uniform;, score=0.981 total time=   1.7s\n",
      "[CV 1/5] END leaf_size=10, n_neighbors=13, weights=distance;, score=0.981 total time=   1.6s\n",
      "[CV 2/5] END leaf_size=10, n_neighbors=13, weights=distance;, score=0.981 total time=   1.5s\n",
      "[CV 3/5] END leaf_size=10, n_neighbors=13, weights=distance;, score=0.981 total time=   1.4s\n",
      "[CV 4/5] END leaf_size=10, n_neighbors=13, weights=distance;, score=0.981 total time=   1.3s\n",
      "[CV 5/5] END leaf_size=10, n_neighbors=13, weights=distance;, score=0.981 total time=   1.4s\n",
      "[CV 1/5] END leaf_size=10, n_neighbors=15, weights=uniform;, score=0.981 total time=   1.6s\n",
      "[CV 2/5] END leaf_size=10, n_neighbors=15, weights=uniform;, score=0.981 total time=   1.6s\n",
      "[CV 3/5] END leaf_size=10, n_neighbors=15, weights=uniform;, score=0.981 total time=   1.8s\n",
      "[CV 4/5] END leaf_size=10, n_neighbors=15, weights=uniform;, score=0.981 total time=   1.5s\n",
      "[CV 5/5] END leaf_size=10, n_neighbors=15, weights=uniform;, score=0.981 total time=   1.7s\n",
      "[CV 1/5] END leaf_size=10, n_neighbors=15, weights=distance;, score=0.981 total time=   1.6s\n",
      "[CV 2/5] END leaf_size=10, n_neighbors=15, weights=distance;, score=0.981 total time=   1.6s\n",
      "[CV 3/5] END leaf_size=10, n_neighbors=15, weights=distance;, score=0.981 total time=   1.6s\n",
      "[CV 4/5] END leaf_size=10, n_neighbors=15, weights=distance;, score=0.981 total time=   1.5s\n",
      "[CV 5/5] END leaf_size=10, n_neighbors=15, weights=distance;, score=0.981 total time=   1.5s\n",
      "[CV 1/5] END leaf_size=10, n_neighbors=17, weights=uniform;, score=0.981 total time=   1.9s\n",
      "[CV 2/5] END leaf_size=10, n_neighbors=17, weights=uniform;, score=0.981 total time=   1.7s\n",
      "[CV 3/5] END leaf_size=10, n_neighbors=17, weights=uniform;, score=0.981 total time=   1.7s\n",
      "[CV 4/5] END leaf_size=10, n_neighbors=17, weights=uniform;, score=0.981 total time=   1.6s\n",
      "[CV 5/5] END leaf_size=10, n_neighbors=17, weights=uniform;, score=0.981 total time=   1.6s\n",
      "[CV 1/5] END leaf_size=10, n_neighbors=17, weights=distance;, score=0.981 total time=   1.9s\n",
      "[CV 2/5] END leaf_size=10, n_neighbors=17, weights=distance;, score=0.981 total time=   1.9s\n",
      "[CV 3/5] END leaf_size=10, n_neighbors=17, weights=distance;, score=0.981 total time=   1.8s\n",
      "[CV 4/5] END leaf_size=10, n_neighbors=17, weights=distance;, score=0.981 total time=   1.5s\n"
     ]
    },
    {
     "name": "stdout",
     "output_type": "stream",
     "text": [
      "[CV 5/5] END leaf_size=10, n_neighbors=17, weights=distance;, score=0.981 total time=   1.6s\n",
      "[CV 1/5] END leaf_size=10, n_neighbors=19, weights=uniform;, score=0.981 total time=   1.9s\n",
      "[CV 2/5] END leaf_size=10, n_neighbors=19, weights=uniform;, score=0.981 total time=   1.9s\n",
      "[CV 3/5] END leaf_size=10, n_neighbors=19, weights=uniform;, score=0.981 total time=   1.8s\n",
      "[CV 4/5] END leaf_size=10, n_neighbors=19, weights=uniform;, score=0.981 total time=   1.6s\n",
      "[CV 5/5] END leaf_size=10, n_neighbors=19, weights=uniform;, score=0.981 total time=   1.6s\n",
      "[CV 1/5] END leaf_size=10, n_neighbors=19, weights=distance;, score=0.981 total time=   1.8s\n",
      "[CV 2/5] END leaf_size=10, n_neighbors=19, weights=distance;, score=0.981 total time=   1.8s\n",
      "[CV 3/5] END leaf_size=10, n_neighbors=19, weights=distance;, score=0.981 total time=   1.8s\n",
      "[CV 4/5] END leaf_size=10, n_neighbors=19, weights=distance;, score=0.981 total time=   1.6s\n",
      "[CV 5/5] END leaf_size=10, n_neighbors=19, weights=distance;, score=0.981 total time=   1.6s\n",
      "[CV 1/5] END leaf_size=50, n_neighbors=1, weights=uniform;, score=0.964 total time=   1.2s\n",
      "[CV 2/5] END leaf_size=50, n_neighbors=1, weights=uniform;, score=0.962 total time=   1.2s\n",
      "[CV 3/5] END leaf_size=50, n_neighbors=1, weights=uniform;, score=0.964 total time=   1.2s\n",
      "[CV 4/5] END leaf_size=50, n_neighbors=1, weights=uniform;, score=0.961 total time=   1.2s\n",
      "[CV 5/5] END leaf_size=50, n_neighbors=1, weights=uniform;, score=0.963 total time=   1.2s\n",
      "[CV 1/5] END leaf_size=50, n_neighbors=1, weights=distance;, score=0.964 total time=   1.0s\n",
      "[CV 2/5] END leaf_size=50, n_neighbors=1, weights=distance;, score=0.962 total time=   1.0s\n",
      "[CV 3/5] END leaf_size=50, n_neighbors=1, weights=distance;, score=0.964 total time=   1.1s\n",
      "[CV 4/5] END leaf_size=50, n_neighbors=1, weights=distance;, score=0.961 total time=   1.0s\n",
      "[CV 5/5] END leaf_size=50, n_neighbors=1, weights=distance;, score=0.963 total time=   1.1s\n",
      "[CV 1/5] END leaf_size=50, n_neighbors=3, weights=uniform;, score=0.981 total time=   1.4s\n",
      "[CV 2/5] END leaf_size=50, n_neighbors=3, weights=uniform;, score=0.979 total time=   1.3s\n",
      "[CV 3/5] END leaf_size=50, n_neighbors=3, weights=uniform;, score=0.980 total time=   1.3s\n",
      "[CV 4/5] END leaf_size=50, n_neighbors=3, weights=uniform;, score=0.981 total time=   1.3s\n",
      "[CV 5/5] END leaf_size=50, n_neighbors=3, weights=uniform;, score=0.979 total time=   1.4s\n",
      "[CV 1/5] END leaf_size=50, n_neighbors=3, weights=distance;, score=0.978 total time=   1.2s\n",
      "[CV 2/5] END leaf_size=50, n_neighbors=3, weights=distance;, score=0.978 total time=   1.2s\n",
      "[CV 3/5] END leaf_size=50, n_neighbors=3, weights=distance;, score=0.977 total time=   1.2s\n",
      "[CV 4/5] END leaf_size=50, n_neighbors=3, weights=distance;, score=0.976 total time=   1.2s\n",
      "[CV 5/5] END leaf_size=50, n_neighbors=3, weights=distance;, score=0.978 total time=   1.2s\n",
      "[CV 1/5] END leaf_size=50, n_neighbors=5, weights=uniform;, score=0.981 total time=   1.8s\n",
      "[CV 2/5] END leaf_size=50, n_neighbors=5, weights=uniform;, score=0.981 total time=   1.7s\n",
      "[CV 3/5] END leaf_size=50, n_neighbors=5, weights=uniform;, score=0.981 total time=   1.8s\n",
      "[CV 4/5] END leaf_size=50, n_neighbors=5, weights=uniform;, score=0.981 total time=   1.5s\n",
      "[CV 5/5] END leaf_size=50, n_neighbors=5, weights=uniform;, score=0.981 total time=   1.5s\n",
      "[CV 1/5] END leaf_size=50, n_neighbors=5, weights=distance;, score=0.981 total time=   1.7s\n",
      "[CV 2/5] END leaf_size=50, n_neighbors=5, weights=distance;, score=0.980 total time=   1.6s\n",
      "[CV 3/5] END leaf_size=50, n_neighbors=5, weights=distance;, score=0.980 total time=   1.6s\n",
      "[CV 4/5] END leaf_size=50, n_neighbors=5, weights=distance;, score=0.980 total time=   1.4s\n",
      "[CV 5/5] END leaf_size=50, n_neighbors=5, weights=distance;, score=0.980 total time=   1.4s\n",
      "[CV 1/5] END leaf_size=50, n_neighbors=7, weights=uniform;, score=0.981 total time=   1.8s\n",
      "[CV 2/5] END leaf_size=50, n_neighbors=7, weights=uniform;, score=0.981 total time=   1.8s\n",
      "[CV 3/5] END leaf_size=50, n_neighbors=7, weights=uniform;, score=0.981 total time=   1.7s\n",
      "[CV 4/5] END leaf_size=50, n_neighbors=7, weights=uniform;, score=0.981 total time=   1.5s\n",
      "[CV 5/5] END leaf_size=50, n_neighbors=7, weights=uniform;, score=0.981 total time=   1.5s\n",
      "[CV 1/5] END leaf_size=50, n_neighbors=7, weights=distance;, score=0.981 total time=   1.6s\n",
      "[CV 2/5] END leaf_size=50, n_neighbors=7, weights=distance;, score=0.980 total time=   1.6s\n",
      "[CV 3/5] END leaf_size=50, n_neighbors=7, weights=distance;, score=0.980 total time=   1.6s\n",
      "[CV 4/5] END leaf_size=50, n_neighbors=7, weights=distance;, score=0.981 total time=   1.4s\n",
      "[CV 5/5] END leaf_size=50, n_neighbors=7, weights=distance;, score=0.981 total time=   1.4s\n",
      "[CV 1/5] END leaf_size=50, n_neighbors=9, weights=uniform;, score=0.981 total time=   1.7s\n",
      "[CV 2/5] END leaf_size=50, n_neighbors=9, weights=uniform;, score=0.981 total time=   1.6s\n",
      "[CV 3/5] END leaf_size=50, n_neighbors=9, weights=uniform;, score=0.981 total time=   1.6s\n",
      "[CV 4/5] END leaf_size=50, n_neighbors=9, weights=uniform;, score=0.981 total time=   1.5s\n",
      "[CV 5/5] END leaf_size=50, n_neighbors=9, weights=uniform;, score=0.981 total time=   1.5s\n",
      "[CV 1/5] END leaf_size=50, n_neighbors=9, weights=distance;, score=0.981 total time=   1.6s\n",
      "[CV 2/5] END leaf_size=50, n_neighbors=9, weights=distance;, score=0.981 total time=   1.5s\n",
      "[CV 3/5] END leaf_size=50, n_neighbors=9, weights=distance;, score=0.980 total time=   1.7s\n",
      "[CV 4/5] END leaf_size=50, n_neighbors=9, weights=distance;, score=0.981 total time=   1.4s\n",
      "[CV 5/5] END leaf_size=50, n_neighbors=9, weights=distance;, score=0.981 total time=   1.4s\n",
      "[CV 1/5] END leaf_size=50, n_neighbors=11, weights=uniform;, score=0.981 total time=   1.7s\n",
      "[CV 2/5] END leaf_size=50, n_neighbors=11, weights=uniform;, score=0.981 total time=   1.7s\n",
      "[CV 3/5] END leaf_size=50, n_neighbors=11, weights=uniform;, score=0.981 total time=   1.7s\n",
      "[CV 4/5] END leaf_size=50, n_neighbors=11, weights=uniform;, score=0.981 total time=   1.6s\n",
      "[CV 5/5] END leaf_size=50, n_neighbors=11, weights=uniform;, score=0.981 total time=   1.5s\n",
      "[CV 1/5] END leaf_size=50, n_neighbors=11, weights=distance;, score=0.981 total time=   1.6s\n",
      "[CV 2/5] END leaf_size=50, n_neighbors=11, weights=distance;, score=0.981 total time=   1.5s\n",
      "[CV 3/5] END leaf_size=50, n_neighbors=11, weights=distance;, score=0.981 total time=   1.5s\n",
      "[CV 4/5] END leaf_size=50, n_neighbors=11, weights=distance;, score=0.981 total time=   1.4s\n",
      "[CV 5/5] END leaf_size=50, n_neighbors=11, weights=distance;, score=0.981 total time=   1.5s\n",
      "[CV 1/5] END leaf_size=50, n_neighbors=13, weights=uniform;, score=0.981 total time=   1.9s\n",
      "[CV 2/5] END leaf_size=50, n_neighbors=13, weights=uniform;, score=0.981 total time=   1.7s\n",
      "[CV 3/5] END leaf_size=50, n_neighbors=13, weights=uniform;, score=0.981 total time=   1.7s\n",
      "[CV 4/5] END leaf_size=50, n_neighbors=13, weights=uniform;, score=0.981 total time=   1.6s\n",
      "[CV 5/5] END leaf_size=50, n_neighbors=13, weights=uniform;, score=0.981 total time=   1.5s\n",
      "[CV 1/5] END leaf_size=50, n_neighbors=13, weights=distance;, score=0.981 total time=   1.7s\n",
      "[CV 2/5] END leaf_size=50, n_neighbors=13, weights=distance;, score=0.981 total time=   1.6s\n",
      "[CV 3/5] END leaf_size=50, n_neighbors=13, weights=distance;, score=0.981 total time=   1.6s\n",
      "[CV 4/5] END leaf_size=50, n_neighbors=13, weights=distance;, score=0.981 total time=   1.4s\n",
      "[CV 5/5] END leaf_size=50, n_neighbors=13, weights=distance;, score=0.981 total time=   1.4s\n",
      "[CV 1/5] END leaf_size=50, n_neighbors=15, weights=uniform;, score=0.981 total time=   1.7s\n",
      "[CV 2/5] END leaf_size=50, n_neighbors=15, weights=uniform;, score=0.981 total time=   1.8s\n",
      "[CV 3/5] END leaf_size=50, n_neighbors=15, weights=uniform;, score=0.981 total time=   1.8s\n",
      "[CV 4/5] END leaf_size=50, n_neighbors=15, weights=uniform;, score=0.981 total time=   1.6s\n",
      "[CV 5/5] END leaf_size=50, n_neighbors=15, weights=uniform;, score=0.981 total time=   1.6s\n",
      "[CV 1/5] END leaf_size=50, n_neighbors=15, weights=distance;, score=0.981 total time=   1.6s\n",
      "[CV 2/5] END leaf_size=50, n_neighbors=15, weights=distance;, score=0.981 total time=   1.6s\n",
      "[CV 3/5] END leaf_size=50, n_neighbors=15, weights=distance;, score=0.981 total time=   1.5s\n",
      "[CV 4/5] END leaf_size=50, n_neighbors=15, weights=distance;, score=0.981 total time=   1.4s\n"
     ]
    },
    {
     "name": "stdout",
     "output_type": "stream",
     "text": [
      "[CV 5/5] END leaf_size=50, n_neighbors=15, weights=distance;, score=0.981 total time=   1.4s\n",
      "[CV 1/5] END leaf_size=50, n_neighbors=17, weights=uniform;, score=0.981 total time=   1.8s\n",
      "[CV 2/5] END leaf_size=50, n_neighbors=17, weights=uniform;, score=0.981 total time=   1.7s\n",
      "[CV 3/5] END leaf_size=50, n_neighbors=17, weights=uniform;, score=0.981 total time=   1.7s\n",
      "[CV 4/5] END leaf_size=50, n_neighbors=17, weights=uniform;, score=0.981 total time=   1.6s\n",
      "[CV 5/5] END leaf_size=50, n_neighbors=17, weights=uniform;, score=0.981 total time=   1.5s\n",
      "[CV 1/5] END leaf_size=50, n_neighbors=17, weights=distance;, score=0.981 total time=   1.7s\n",
      "[CV 2/5] END leaf_size=50, n_neighbors=17, weights=distance;, score=0.981 total time=   1.6s\n",
      "[CV 3/5] END leaf_size=50, n_neighbors=17, weights=distance;, score=0.981 total time=   1.5s\n",
      "[CV 4/5] END leaf_size=50, n_neighbors=17, weights=distance;, score=0.981 total time=   1.6s\n",
      "[CV 5/5] END leaf_size=50, n_neighbors=17, weights=distance;, score=0.981 total time=   1.5s\n",
      "[CV 1/5] END leaf_size=50, n_neighbors=19, weights=uniform;, score=0.981 total time=   1.8s\n",
      "[CV 2/5] END leaf_size=50, n_neighbors=19, weights=uniform;, score=0.981 total time=   1.7s\n",
      "[CV 3/5] END leaf_size=50, n_neighbors=19, weights=uniform;, score=0.981 total time=   1.7s\n",
      "[CV 4/5] END leaf_size=50, n_neighbors=19, weights=uniform;, score=0.981 total time=   1.6s\n",
      "[CV 5/5] END leaf_size=50, n_neighbors=19, weights=uniform;, score=0.981 total time=   1.7s\n",
      "[CV 1/5] END leaf_size=50, n_neighbors=19, weights=distance;, score=0.981 total time=   1.7s\n",
      "[CV 2/5] END leaf_size=50, n_neighbors=19, weights=distance;, score=0.981 total time=   1.8s\n",
      "[CV 3/5] END leaf_size=50, n_neighbors=19, weights=distance;, score=0.981 total time=   1.7s\n",
      "[CV 4/5] END leaf_size=50, n_neighbors=19, weights=distance;, score=0.981 total time=   1.6s\n",
      "[CV 5/5] END leaf_size=50, n_neighbors=19, weights=distance;, score=0.981 total time=   1.5s\n",
      "[CV 1/5] END leaf_size=100, n_neighbors=1, weights=uniform;, score=0.964 total time=   1.1s\n",
      "[CV 2/5] END leaf_size=100, n_neighbors=1, weights=uniform;, score=0.962 total time=   1.1s\n",
      "[CV 3/5] END leaf_size=100, n_neighbors=1, weights=uniform;, score=0.964 total time=   1.1s\n",
      "[CV 4/5] END leaf_size=100, n_neighbors=1, weights=uniform;, score=0.961 total time=   1.1s\n",
      "[CV 5/5] END leaf_size=100, n_neighbors=1, weights=uniform;, score=0.963 total time=   1.1s\n",
      "[CV 1/5] END leaf_size=100, n_neighbors=1, weights=distance;, score=0.964 total time=   1.0s\n",
      "[CV 2/5] END leaf_size=100, n_neighbors=1, weights=distance;, score=0.962 total time=   1.0s\n",
      "[CV 3/5] END leaf_size=100, n_neighbors=1, weights=distance;, score=0.964 total time=   1.0s\n",
      "[CV 4/5] END leaf_size=100, n_neighbors=1, weights=distance;, score=0.961 total time=   1.0s\n",
      "[CV 5/5] END leaf_size=100, n_neighbors=1, weights=distance;, score=0.963 total time=   1.0s\n",
      "[CV 1/5] END leaf_size=100, n_neighbors=3, weights=uniform;, score=0.981 total time=   1.3s\n",
      "[CV 2/5] END leaf_size=100, n_neighbors=3, weights=uniform;, score=0.979 total time=   1.2s\n",
      "[CV 3/5] END leaf_size=100, n_neighbors=3, weights=uniform;, score=0.980 total time=   1.2s\n",
      "[CV 4/5] END leaf_size=100, n_neighbors=3, weights=uniform;, score=0.981 total time=   1.2s\n",
      "[CV 5/5] END leaf_size=100, n_neighbors=3, weights=uniform;, score=0.979 total time=   1.2s\n",
      "[CV 1/5] END leaf_size=100, n_neighbors=3, weights=distance;, score=0.978 total time=   1.1s\n",
      "[CV 2/5] END leaf_size=100, n_neighbors=3, weights=distance;, score=0.978 total time=   1.1s\n",
      "[CV 3/5] END leaf_size=100, n_neighbors=3, weights=distance;, score=0.977 total time=   1.2s\n",
      "[CV 4/5] END leaf_size=100, n_neighbors=3, weights=distance;, score=0.976 total time=   1.1s\n",
      "[CV 5/5] END leaf_size=100, n_neighbors=3, weights=distance;, score=0.978 total time=   1.1s\n",
      "[CV 1/5] END leaf_size=100, n_neighbors=5, weights=uniform;, score=0.981 total time=   1.8s\n",
      "[CV 2/5] END leaf_size=100, n_neighbors=5, weights=uniform;, score=0.981 total time=   1.7s\n",
      "[CV 3/5] END leaf_size=100, n_neighbors=5, weights=uniform;, score=0.981 total time=   1.9s\n",
      "[CV 4/5] END leaf_size=100, n_neighbors=5, weights=uniform;, score=0.981 total time=   1.7s\n",
      "[CV 5/5] END leaf_size=100, n_neighbors=5, weights=uniform;, score=0.981 total time=   1.8s\n",
      "[CV 1/5] END leaf_size=100, n_neighbors=5, weights=distance;, score=0.981 total time=   1.9s\n",
      "[CV 2/5] END leaf_size=100, n_neighbors=5, weights=distance;, score=0.980 total time=   1.6s\n",
      "[CV 3/5] END leaf_size=100, n_neighbors=5, weights=distance;, score=0.980 total time=   1.6s\n",
      "[CV 4/5] END leaf_size=100, n_neighbors=5, weights=distance;, score=0.980 total time=   1.4s\n",
      "[CV 5/5] END leaf_size=100, n_neighbors=5, weights=distance;, score=0.980 total time=   1.4s\n",
      "[CV 1/5] END leaf_size=100, n_neighbors=7, weights=uniform;, score=0.981 total time=   1.8s\n",
      "[CV 2/5] END leaf_size=100, n_neighbors=7, weights=uniform;, score=0.981 total time=   1.9s\n",
      "[CV 3/5] END leaf_size=100, n_neighbors=7, weights=uniform;, score=0.981 total time=   1.7s\n",
      "[CV 4/5] END leaf_size=100, n_neighbors=7, weights=uniform;, score=0.981 total time=   1.5s\n",
      "[CV 5/5] END leaf_size=100, n_neighbors=7, weights=uniform;, score=0.981 total time=   1.6s\n",
      "[CV 1/5] END leaf_size=100, n_neighbors=7, weights=distance;, score=0.981 total time=   1.7s\n",
      "[CV 2/5] END leaf_size=100, n_neighbors=7, weights=distance;, score=0.980 total time=   1.6s\n",
      "[CV 3/5] END leaf_size=100, n_neighbors=7, weights=distance;, score=0.980 total time=   1.5s\n",
      "[CV 4/5] END leaf_size=100, n_neighbors=7, weights=distance;, score=0.981 total time=   1.4s\n",
      "[CV 5/5] END leaf_size=100, n_neighbors=7, weights=distance;, score=0.981 total time=   1.4s\n",
      "[CV 1/5] END leaf_size=100, n_neighbors=9, weights=uniform;, score=0.981 total time=   1.7s\n",
      "[CV 2/5] END leaf_size=100, n_neighbors=9, weights=uniform;, score=0.981 total time=   1.6s\n",
      "[CV 3/5] END leaf_size=100, n_neighbors=9, weights=uniform;, score=0.981 total time=   1.6s\n",
      "[CV 4/5] END leaf_size=100, n_neighbors=9, weights=uniform;, score=0.981 total time=   1.4s\n",
      "[CV 5/5] END leaf_size=100, n_neighbors=9, weights=uniform;, score=0.981 total time=   1.4s\n",
      "[CV 1/5] END leaf_size=100, n_neighbors=9, weights=distance;, score=0.981 total time=   1.5s\n",
      "[CV 2/5] END leaf_size=100, n_neighbors=9, weights=distance;, score=0.981 total time=   1.5s\n",
      "[CV 3/5] END leaf_size=100, n_neighbors=9, weights=distance;, score=0.980 total time=   1.4s\n",
      "[CV 4/5] END leaf_size=100, n_neighbors=9, weights=distance;, score=0.981 total time=   1.3s\n",
      "[CV 5/5] END leaf_size=100, n_neighbors=9, weights=distance;, score=0.981 total time=   1.3s\n",
      "[CV 1/5] END leaf_size=100, n_neighbors=11, weights=uniform;, score=0.981 total time=   1.6s\n",
      "[CV 2/5] END leaf_size=100, n_neighbors=11, weights=uniform;, score=0.981 total time=   1.6s\n",
      "[CV 3/5] END leaf_size=100, n_neighbors=11, weights=uniform;, score=0.981 total time=   1.6s\n",
      "[CV 4/5] END leaf_size=100, n_neighbors=11, weights=uniform;, score=0.981 total time=   1.5s\n",
      "[CV 5/5] END leaf_size=100, n_neighbors=11, weights=uniform;, score=0.981 total time=   1.6s\n",
      "[CV 1/5] END leaf_size=100, n_neighbors=11, weights=distance;, score=0.981 total time=   2.4s\n",
      "[CV 2/5] END leaf_size=100, n_neighbors=11, weights=distance;, score=0.981 total time=   1.8s\n",
      "[CV 3/5] END leaf_size=100, n_neighbors=11, weights=distance;, score=0.981 total time=   1.7s\n",
      "[CV 4/5] END leaf_size=100, n_neighbors=11, weights=distance;, score=0.981 total time=   2.3s\n",
      "[CV 5/5] END leaf_size=100, n_neighbors=11, weights=distance;, score=0.981 total time=   2.1s\n",
      "[CV 1/5] END leaf_size=100, n_neighbors=13, weights=uniform;, score=0.981 total time=   1.9s\n",
      "[CV 2/5] END leaf_size=100, n_neighbors=13, weights=uniform;, score=0.981 total time=   1.9s\n",
      "[CV 3/5] END leaf_size=100, n_neighbors=13, weights=uniform;, score=0.981 total time=   2.0s\n",
      "[CV 4/5] END leaf_size=100, n_neighbors=13, weights=uniform;, score=0.981 total time=   1.6s\n",
      "[CV 5/5] END leaf_size=100, n_neighbors=13, weights=uniform;, score=0.981 total time=   1.7s\n",
      "[CV 1/5] END leaf_size=100, n_neighbors=13, weights=distance;, score=0.981 total time=   1.8s\n",
      "[CV 2/5] END leaf_size=100, n_neighbors=13, weights=distance;, score=0.981 total time=   1.7s\n",
      "[CV 3/5] END leaf_size=100, n_neighbors=13, weights=distance;, score=0.981 total time=   1.6s\n"
     ]
    },
    {
     "name": "stdout",
     "output_type": "stream",
     "text": [
      "[CV 4/5] END leaf_size=100, n_neighbors=13, weights=distance;, score=0.981 total time=   1.4s\n",
      "[CV 5/5] END leaf_size=100, n_neighbors=13, weights=distance;, score=0.981 total time=   1.5s\n",
      "[CV 1/5] END leaf_size=100, n_neighbors=15, weights=uniform;, score=0.981 total time=   1.9s\n",
      "[CV 2/5] END leaf_size=100, n_neighbors=15, weights=uniform;, score=0.981 total time=   1.8s\n",
      "[CV 3/5] END leaf_size=100, n_neighbors=15, weights=uniform;, score=0.981 total time=   1.7s\n",
      "[CV 4/5] END leaf_size=100, n_neighbors=15, weights=uniform;, score=0.981 total time=   1.6s\n",
      "[CV 5/5] END leaf_size=100, n_neighbors=15, weights=uniform;, score=0.981 total time=   1.6s\n",
      "[CV 1/5] END leaf_size=100, n_neighbors=15, weights=distance;, score=0.981 total time=   1.8s\n",
      "[CV 2/5] END leaf_size=100, n_neighbors=15, weights=distance;, score=0.981 total time=   1.6s\n",
      "[CV 3/5] END leaf_size=100, n_neighbors=15, weights=distance;, score=0.981 total time=   1.6s\n",
      "[CV 4/5] END leaf_size=100, n_neighbors=15, weights=distance;, score=0.981 total time=   1.4s\n",
      "[CV 5/5] END leaf_size=100, n_neighbors=15, weights=distance;, score=0.981 total time=   1.4s\n",
      "[CV 1/5] END leaf_size=100, n_neighbors=17, weights=uniform;, score=0.981 total time=   1.7s\n",
      "[CV 2/5] END leaf_size=100, n_neighbors=17, weights=uniform;, score=0.981 total time=   1.8s\n",
      "[CV 3/5] END leaf_size=100, n_neighbors=17, weights=uniform;, score=0.981 total time=   1.7s\n",
      "[CV 4/5] END leaf_size=100, n_neighbors=17, weights=uniform;, score=0.981 total time=   1.5s\n",
      "[CV 5/5] END leaf_size=100, n_neighbors=17, weights=uniform;, score=0.981 total time=   1.6s\n",
      "[CV 1/5] END leaf_size=100, n_neighbors=17, weights=distance;, score=0.981 total time=   1.8s\n",
      "[CV 2/5] END leaf_size=100, n_neighbors=17, weights=distance;, score=0.981 total time=   1.6s\n",
      "[CV 3/5] END leaf_size=100, n_neighbors=17, weights=distance;, score=0.981 total time=   1.8s\n",
      "[CV 4/5] END leaf_size=100, n_neighbors=17, weights=distance;, score=0.981 total time=   1.5s\n",
      "[CV 5/5] END leaf_size=100, n_neighbors=17, weights=distance;, score=0.981 total time=   1.5s\n",
      "[CV 1/5] END leaf_size=100, n_neighbors=19, weights=uniform;, score=0.981 total time=   1.9s\n",
      "[CV 2/5] END leaf_size=100, n_neighbors=19, weights=uniform;, score=0.981 total time=   1.6s\n",
      "[CV 3/5] END leaf_size=100, n_neighbors=19, weights=uniform;, score=0.981 total time=   1.8s\n",
      "[CV 4/5] END leaf_size=100, n_neighbors=19, weights=uniform;, score=0.981 total time=   1.5s\n",
      "[CV 5/5] END leaf_size=100, n_neighbors=19, weights=uniform;, score=0.981 total time=   1.5s\n",
      "[CV 1/5] END leaf_size=100, n_neighbors=19, weights=distance;, score=0.981 total time=   1.6s\n",
      "[CV 2/5] END leaf_size=100, n_neighbors=19, weights=distance;, score=0.981 total time=   1.6s\n",
      "[CV 3/5] END leaf_size=100, n_neighbors=19, weights=distance;, score=0.981 total time=   1.5s\n",
      "[CV 4/5] END leaf_size=100, n_neighbors=19, weights=distance;, score=0.981 total time=   1.4s\n",
      "[CV 5/5] END leaf_size=100, n_neighbors=19, weights=distance;, score=0.981 total time=   1.4s\n",
      "[CV 1/5] END leaf_size=500, n_neighbors=1, weights=uniform;, score=0.964 total time=   1.1s\n",
      "[CV 2/5] END leaf_size=500, n_neighbors=1, weights=uniform;, score=0.962 total time=   1.0s\n",
      "[CV 3/5] END leaf_size=500, n_neighbors=1, weights=uniform;, score=0.964 total time=   1.1s\n",
      "[CV 4/5] END leaf_size=500, n_neighbors=1, weights=uniform;, score=0.961 total time=   1.1s\n",
      "[CV 5/5] END leaf_size=500, n_neighbors=1, weights=uniform;, score=0.963 total time=   1.2s\n",
      "[CV 1/5] END leaf_size=500, n_neighbors=1, weights=distance;, score=0.964 total time=   1.1s\n",
      "[CV 2/5] END leaf_size=500, n_neighbors=1, weights=distance;, score=0.962 total time=   1.1s\n",
      "[CV 3/5] END leaf_size=500, n_neighbors=1, weights=distance;, score=0.964 total time=   1.1s\n",
      "[CV 4/5] END leaf_size=500, n_neighbors=1, weights=distance;, score=0.961 total time=   1.0s\n",
      "[CV 5/5] END leaf_size=500, n_neighbors=1, weights=distance;, score=0.963 total time=   1.0s\n",
      "[CV 1/5] END leaf_size=500, n_neighbors=3, weights=uniform;, score=0.981 total time=   1.3s\n",
      "[CV 2/5] END leaf_size=500, n_neighbors=3, weights=uniform;, score=0.979 total time=   1.3s\n",
      "[CV 3/5] END leaf_size=500, n_neighbors=3, weights=uniform;, score=0.980 total time=   1.3s\n",
      "[CV 4/5] END leaf_size=500, n_neighbors=3, weights=uniform;, score=0.981 total time=   1.3s\n",
      "[CV 5/5] END leaf_size=500, n_neighbors=3, weights=uniform;, score=0.979 total time=   1.3s\n",
      "[CV 1/5] END leaf_size=500, n_neighbors=3, weights=distance;, score=0.978 total time=   1.1s\n",
      "[CV 2/5] END leaf_size=500, n_neighbors=3, weights=distance;, score=0.978 total time=   1.1s\n",
      "[CV 3/5] END leaf_size=500, n_neighbors=3, weights=distance;, score=0.977 total time=   1.1s\n",
      "[CV 4/5] END leaf_size=500, n_neighbors=3, weights=distance;, score=0.976 total time=   1.2s\n",
      "[CV 5/5] END leaf_size=500, n_neighbors=3, weights=distance;, score=0.978 total time=   1.2s\n",
      "[CV 1/5] END leaf_size=500, n_neighbors=5, weights=uniform;, score=0.981 total time=   1.8s\n",
      "[CV 2/5] END leaf_size=500, n_neighbors=5, weights=uniform;, score=0.981 total time=   1.7s\n",
      "[CV 3/5] END leaf_size=500, n_neighbors=5, weights=uniform;, score=0.981 total time=   1.7s\n",
      "[CV 4/5] END leaf_size=500, n_neighbors=5, weights=uniform;, score=0.981 total time=   1.5s\n",
      "[CV 5/5] END leaf_size=500, n_neighbors=5, weights=uniform;, score=0.981 total time=   1.5s\n",
      "[CV 1/5] END leaf_size=500, n_neighbors=5, weights=distance;, score=0.981 total time=   1.6s\n",
      "[CV 2/5] END leaf_size=500, n_neighbors=5, weights=distance;, score=0.980 total time=   1.6s\n",
      "[CV 3/5] END leaf_size=500, n_neighbors=5, weights=distance;, score=0.980 total time=   1.5s\n",
      "[CV 4/5] END leaf_size=500, n_neighbors=5, weights=distance;, score=0.980 total time=   1.4s\n",
      "[CV 5/5] END leaf_size=500, n_neighbors=5, weights=distance;, score=0.980 total time=   1.4s\n",
      "[CV 1/5] END leaf_size=500, n_neighbors=7, weights=uniform;, score=0.981 total time=   1.7s\n",
      "[CV 2/5] END leaf_size=500, n_neighbors=7, weights=uniform;, score=0.981 total time=   1.7s\n",
      "[CV 3/5] END leaf_size=500, n_neighbors=7, weights=uniform;, score=0.981 total time=   1.6s\n",
      "[CV 4/5] END leaf_size=500, n_neighbors=7, weights=uniform;, score=0.981 total time=   1.5s\n",
      "[CV 5/5] END leaf_size=500, n_neighbors=7, weights=uniform;, score=0.981 total time=   1.5s\n",
      "[CV 1/5] END leaf_size=500, n_neighbors=7, weights=distance;, score=0.981 total time=   1.8s\n",
      "[CV 2/5] END leaf_size=500, n_neighbors=7, weights=distance;, score=0.980 total time=   1.6s\n",
      "[CV 3/5] END leaf_size=500, n_neighbors=7, weights=distance;, score=0.980 total time=   1.7s\n",
      "[CV 4/5] END leaf_size=500, n_neighbors=7, weights=distance;, score=0.981 total time=   1.7s\n",
      "[CV 5/5] END leaf_size=500, n_neighbors=7, weights=distance;, score=0.981 total time=   1.6s\n",
      "[CV 1/5] END leaf_size=500, n_neighbors=9, weights=uniform;, score=0.981 total time=   1.8s\n",
      "[CV 2/5] END leaf_size=500, n_neighbors=9, weights=uniform;, score=0.981 total time=   1.8s\n",
      "[CV 3/5] END leaf_size=500, n_neighbors=9, weights=uniform;, score=0.981 total time=   1.6s\n",
      "[CV 4/5] END leaf_size=500, n_neighbors=9, weights=uniform;, score=0.981 total time=   1.6s\n",
      "[CV 5/5] END leaf_size=500, n_neighbors=9, weights=uniform;, score=0.981 total time=   1.5s\n",
      "[CV 1/5] END leaf_size=500, n_neighbors=9, weights=distance;, score=0.981 total time=   1.6s\n",
      "[CV 2/5] END leaf_size=500, n_neighbors=9, weights=distance;, score=0.981 total time=   1.6s\n",
      "[CV 3/5] END leaf_size=500, n_neighbors=9, weights=distance;, score=0.980 total time=   2.2s\n",
      "[CV 4/5] END leaf_size=500, n_neighbors=9, weights=distance;, score=0.981 total time=   1.5s\n",
      "[CV 5/5] END leaf_size=500, n_neighbors=9, weights=distance;, score=0.981 total time=   1.6s\n",
      "[CV 1/5] END leaf_size=500, n_neighbors=11, weights=uniform;, score=0.981 total time=   1.7s\n",
      "[CV 2/5] END leaf_size=500, n_neighbors=11, weights=uniform;, score=0.981 total time=   1.7s\n",
      "[CV 3/5] END leaf_size=500, n_neighbors=11, weights=uniform;, score=0.981 total time=   1.7s\n",
      "[CV 4/5] END leaf_size=500, n_neighbors=11, weights=uniform;, score=0.981 total time=   1.6s\n",
      "[CV 5/5] END leaf_size=500, n_neighbors=11, weights=uniform;, score=0.981 total time=   1.7s\n",
      "[CV 1/5] END leaf_size=500, n_neighbors=11, weights=distance;, score=0.981 total time=   1.8s\n",
      "[CV 2/5] END leaf_size=500, n_neighbors=11, weights=distance;, score=0.981 total time=   1.9s\n"
     ]
    },
    {
     "name": "stdout",
     "output_type": "stream",
     "text": [
      "[CV 3/5] END leaf_size=500, n_neighbors=11, weights=distance;, score=0.981 total time=   1.6s\n",
      "[CV 4/5] END leaf_size=500, n_neighbors=11, weights=distance;, score=0.981 total time=   1.6s\n",
      "[CV 5/5] END leaf_size=500, n_neighbors=11, weights=distance;, score=0.981 total time=   1.6s\n",
      "[CV 1/5] END leaf_size=500, n_neighbors=13, weights=uniform;, score=0.981 total time=   1.9s\n",
      "[CV 2/5] END leaf_size=500, n_neighbors=13, weights=uniform;, score=0.981 total time=   1.8s\n",
      "[CV 3/5] END leaf_size=500, n_neighbors=13, weights=uniform;, score=0.981 total time=   1.8s\n",
      "[CV 4/5] END leaf_size=500, n_neighbors=13, weights=uniform;, score=0.981 total time=   1.7s\n",
      "[CV 5/5] END leaf_size=500, n_neighbors=13, weights=uniform;, score=0.981 total time=   1.7s\n",
      "[CV 1/5] END leaf_size=500, n_neighbors=13, weights=distance;, score=0.981 total time=   1.8s\n",
      "[CV 2/5] END leaf_size=500, n_neighbors=13, weights=distance;, score=0.981 total time=   1.7s\n",
      "[CV 3/5] END leaf_size=500, n_neighbors=13, weights=distance;, score=0.981 total time=   1.6s\n",
      "[CV 4/5] END leaf_size=500, n_neighbors=13, weights=distance;, score=0.981 total time=   1.4s\n",
      "[CV 5/5] END leaf_size=500, n_neighbors=13, weights=distance;, score=0.981 total time=   1.5s\n",
      "[CV 1/5] END leaf_size=500, n_neighbors=15, weights=uniform;, score=0.981 total time=   1.8s\n",
      "[CV 2/5] END leaf_size=500, n_neighbors=15, weights=uniform;, score=0.981 total time=   1.8s\n",
      "[CV 3/5] END leaf_size=500, n_neighbors=15, weights=uniform;, score=0.981 total time=   1.8s\n",
      "[CV 4/5] END leaf_size=500, n_neighbors=15, weights=uniform;, score=0.981 total time=   1.5s\n",
      "[CV 5/5] END leaf_size=500, n_neighbors=15, weights=uniform;, score=0.981 total time=   1.5s\n",
      "[CV 1/5] END leaf_size=500, n_neighbors=15, weights=distance;, score=0.981 total time=   1.6s\n",
      "[CV 2/5] END leaf_size=500, n_neighbors=15, weights=distance;, score=0.981 total time=   1.6s\n",
      "[CV 3/5] END leaf_size=500, n_neighbors=15, weights=distance;, score=0.981 total time=   1.6s\n",
      "[CV 4/5] END leaf_size=500, n_neighbors=15, weights=distance;, score=0.981 total time=   1.5s\n",
      "[CV 5/5] END leaf_size=500, n_neighbors=15, weights=distance;, score=0.981 total time=   1.6s\n",
      "[CV 1/5] END leaf_size=500, n_neighbors=17, weights=uniform;, score=0.981 total time=   1.8s\n",
      "[CV 2/5] END leaf_size=500, n_neighbors=17, weights=uniform;, score=0.981 total time=   1.7s\n",
      "[CV 3/5] END leaf_size=500, n_neighbors=17, weights=uniform;, score=0.981 total time=   1.9s\n",
      "[CV 4/5] END leaf_size=500, n_neighbors=17, weights=uniform;, score=0.981 total time=   1.5s\n",
      "[CV 5/5] END leaf_size=500, n_neighbors=17, weights=uniform;, score=0.981 total time=   1.5s\n",
      "[CV 1/5] END leaf_size=500, n_neighbors=17, weights=distance;, score=0.981 total time=   1.6s\n",
      "[CV 2/5] END leaf_size=500, n_neighbors=17, weights=distance;, score=0.981 total time=   1.6s\n",
      "[CV 3/5] END leaf_size=500, n_neighbors=17, weights=distance;, score=0.981 total time=   1.5s\n",
      "[CV 4/5] END leaf_size=500, n_neighbors=17, weights=distance;, score=0.981 total time=   1.4s\n",
      "[CV 5/5] END leaf_size=500, n_neighbors=17, weights=distance;, score=0.981 total time=   1.4s\n",
      "[CV 1/5] END leaf_size=500, n_neighbors=19, weights=uniform;, score=0.981 total time=   1.7s\n",
      "[CV 2/5] END leaf_size=500, n_neighbors=19, weights=uniform;, score=0.981 total time=   1.6s\n",
      "[CV 3/5] END leaf_size=500, n_neighbors=19, weights=uniform;, score=0.981 total time=   1.6s\n",
      "[CV 4/5] END leaf_size=500, n_neighbors=19, weights=uniform;, score=0.981 total time=   1.5s\n",
      "[CV 5/5] END leaf_size=500, n_neighbors=19, weights=uniform;, score=0.981 total time=   1.5s\n",
      "[CV 1/5] END leaf_size=500, n_neighbors=19, weights=distance;, score=0.981 total time=   1.9s\n",
      "[CV 2/5] END leaf_size=500, n_neighbors=19, weights=distance;, score=0.981 total time=   1.6s\n",
      "[CV 3/5] END leaf_size=500, n_neighbors=19, weights=distance;, score=0.981 total time=   1.6s\n",
      "[CV 4/5] END leaf_size=500, n_neighbors=19, weights=distance;, score=0.981 total time=   1.4s\n",
      "[CV 5/5] END leaf_size=500, n_neighbors=19, weights=distance;, score=0.981 total time=   1.5s\n"
     ]
    },
    {
     "data": {
      "text/plain": [
       "GridSearchCV(estimator=KNeighborsClassifier(),\n",
       "             param_grid={'leaf_size': [10, 50, 100, 500],\n",
       "                         'n_neighbors': [1, 3, 5, 7, 9, 11, 13, 15, 17, 19],\n",
       "                         'weights': ['uniform', 'distance']},\n",
       "             verbose=3)"
      ]
     },
     "execution_count": 42,
     "metadata": {},
     "output_type": "execute_result"
    }
   ],
   "source": [
    "grid_clf.fit(X_train_scaled, y_train)"
   ]
  },
  {
   "cell_type": "code",
   "execution_count": null,
   "id": "945f7c32",
   "metadata": {},
   "outputs": [],
   "source": [
    "print(grid_clf.best_params_)\n",
    "print(grid_clf.best_score_)"
   ]
  },
  {
   "cell_type": "code",
   "execution_count": null,
   "id": "639cad4e",
   "metadata": {},
   "outputs": [],
   "source": [
    "param_grid = {\n",
    "    'n_neighbors': np.arange(1,20,2),\n",
    "    'weights': ['uniform', 'distance'],\n",
    "    'leaf_size': np.arange(1, 500)\n",
    "}\n",
    "from sklearn.model_selection import RandomizedSearchCV\n",
    "random_clf = RandomizedSearchCV(model, param_grid, random_state=0, verbose=3)\n",
    "random_clf.fit(X_train, y_train)\n",
    "print(random_clf.best_params_)"
   ]
  },
  {
   "cell_type": "code",
   "execution_count": 44,
   "id": "300c8aa4",
   "metadata": {},
   "outputs": [
    {
     "name": "stdout",
     "output_type": "stream",
     "text": [
      "              precision    recall  f1-score   support\n",
      "\n",
      "           0       0.98      1.00      0.99      7140\n",
      "           1       0.00      0.00      0.00       127\n",
      "\n",
      "    accuracy                           0.98      7267\n",
      "   macro avg       0.49      0.50      0.50      7267\n",
      "weighted avg       0.97      0.98      0.97      7267\n",
      "\n"
     ]
    },
    {
     "name": "stderr",
     "output_type": "stream",
     "text": [
      "/Users/novakradovic/opt/anaconda3/envs/PythonData/lib/python3.6/site-packages/sklearn/metrics/_classification.py:1248: UndefinedMetricWarning: Precision and F-score are ill-defined and being set to 0.0 in labels with no predicted samples. Use `zero_division` parameter to control this behavior.\n",
      "  _warn_prf(average, modifier, msg_start, len(result))\n",
      "/Users/novakradovic/opt/anaconda3/envs/PythonData/lib/python3.6/site-packages/sklearn/metrics/_classification.py:1248: UndefinedMetricWarning: Precision and F-score are ill-defined and being set to 0.0 in labels with no predicted samples. Use `zero_division` parameter to control this behavior.\n",
      "  _warn_prf(average, modifier, msg_start, len(result))\n",
      "/Users/novakradovic/opt/anaconda3/envs/PythonData/lib/python3.6/site-packages/sklearn/metrics/_classification.py:1248: UndefinedMetricWarning: Precision and F-score are ill-defined and being set to 0.0 in labels with no predicted samples. Use `zero_division` parameter to control this behavior.\n",
      "  _warn_prf(average, modifier, msg_start, len(result))\n"
     ]
    }
   ],
   "source": [
    "predictions = grid_clf.predict(X_test)\n",
    "print(classification_report(y_test, predictions\n",
    "                            ))"
   ]
  },
  {
   "cell_type": "code",
   "execution_count": 45,
   "id": "2f135b0c",
   "metadata": {},
   "outputs": [],
   "source": [
    "from sklearn.decomposition import PCA\n",
    "pca = PCA(n_components = .9)\n",
    "data_scaled = StandardScaler().fit_transform(df)\n",
    "\n",
    "model_pca = pca.fit_transform(data_scaled)\n",
    "\n",
    "df_pca = pd.DataFrame(data = model_pca)"
   ]
  },
  {
   "cell_type": "code",
   "execution_count": 48,
   "id": "f6efe330",
   "metadata": {},
   "outputs": [
    {
     "data": {
      "image/png": "[encoded data removed]",
      "text/plain": [
       "<Figure size 432x288 with 1 Axes>"
      ]
     },
     "metadata": {
      "needs_background": "light"
     },
     "output_type": "display_data"
    }
   ],
   "source": [
    "from sklearn.cluster import KMeans\n",
    "\n",
    "inertia = []\n",
    "k = list(range(1, 21))\n",
    "\n",
    "# Calculate the inertia for the range of k values\n",
    "for i in k:\n",
    "    km = KMeans(n_clusters=i, random_state=42)\n",
    "    km.fit(df_pca)\n",
    "    inertia.append(km.inertia_)\n",
    "\n",
    "# Creating the Elbow Curve\n",
    "elbow_data = {\"k\": k, \"inertia\": inertia}\n",
    "df_elbow = pd.DataFrame(elbow_data)\n",
    "\n",
    "plt.plot(df_elbow['k'], df_elbow['inertia'])\n",
    "plt.xticks(list(range(11)))\n",
    "plt.title('Elbow Curve')\n",
    "plt.xlabel('Number of clusters')\n",
    "plt.ylabel('Inertia')\n",
    "plt.show()"
   ]
  },
  {
   "cell_type": "code",
   "execution_count": 42,
   "id": "10ab918a",
   "metadata": {},
   "outputs": [],
   "source": [
    "from sklearn.manifold import TSNE\n",
    "scaled_features = scaler.fit_transform(X_train_scaled)\n",
    "tsne = TSNE(learning_rate=250)\n",
    "tsne_features = tsne.fit_transform(scaled_features)"
   ]
  },
  {
   "cell_type": "code",
   "execution_count": 43,
   "id": "db66bee7",
   "metadata": {},
   "outputs": [
    {
     "data": {
      "text/plain": [
       "(23252, 2)"
      ]
     },
     "execution_count": 43,
     "metadata": {},
     "output_type": "execute_result"
    }
   ],
   "source": [
    "tsne_features.shape"
   ]
  },
  {
   "cell_type": "code",
   "execution_count": 45,
   "id": "dda1f7b4",
   "metadata": {},
   "outputs": [
    {
     "data": {
      "image/png": "[encoded data removed]",
      "text/plain": [
       "<Figure size 432x288 with 1 Axes>"
      ]
     },
     "metadata": {
      "needs_background": "light"
     },
     "output_type": "display_data"
    }
   ],
   "source": [
    "plt.scatter(tsne_features[:,0], tsne_features[:,1])\n",
    "plt.show()"
   ]
  },
  {
   "cell_type": "code",
   "execution_count": 47,
   "id": "c5dc1b95",
   "metadata": {},
   "outputs": [],
   "source": [
    "def create_model(hp):\n",
    "    nn_model = tf.keras.models.Sequential()\n",
    "\n",
    "    # Allow kerastuner to decide which activation function to use in hidden layers\n",
    "    activation = hp.Choice('activation',['relu','tanh','sigmoid'])\n",
    "    \n",
    "    # Allow kerastuner to decide number of neurons in first layer\n",
    "    nn_model.add(tf.keras.layers.Dense(units=hp.Int('first_units',\n",
    "        min_value=1,\n",
    "        max_value=10,\n",
    "        step=2), activation=activation, input_dim=16))\n",
    "\n",
    "    # Allow kerastuner to decide number of hidden layers and neurons in hidden layers\n",
    "    for i in range(hp.Int('num_layers', 1, 6)):\n",
    "        nn_model.add(tf.keras.layers.Dense(units=hp.Int('units_' + str(i),\n",
    "            min_value=1,\n",
    "            max_value=10,\n",
    "            step=2),\n",
    "            activation=activation))\n",
    "    \n",
    "    nn_model.add(tf.keras.layers.Dense(units=1, activation=\"sigmoid\"))\n",
    "\n",
    "    # Compile the model\n",
    "    nn_model.compile(loss=\"binary_crossentropy\", optimizer='adam', metrics=[\"accuracy\"])\n",
    "    \n",
    "    return nn_model"
   ]
  },
  {
   "cell_type": "code",
   "execution_count": 48,
   "id": "01553a08",
   "metadata": {},
   "outputs": [
    {
     "name": "stderr",
     "output_type": "stream",
     "text": [
      "/Users/novakradovic/opt/anaconda3/envs/PythonData/lib/python3.6/site-packages/ipykernel_launcher.py:1: DeprecationWarning: `import kerastuner` is deprecated, please use `import keras_tuner`.\n",
      "  \"\"\"Entry point for launching an IPython kernel.\n"
     ]
    }
   ],
   "source": [
    "import kerastuner as kt\n",
    "\n",
    "tuner = kt.Hyperband(\n",
    "    create_model,\n",
    "    objective=\"val_accuracy\",\n",
    "    max_epochs=20,\n",
    "    hyperband_iterations=2)"
   ]
  },
  {
   "cell_type": "code",
   "execution_count": 49,
   "id": "29709d1c",
   "metadata": {},
   "outputs": [
    {
     "name": "stdout",
     "output_type": "stream",
     "text": [
      "Trial 60 Complete [00h 00m 14s]\n",
      "val_accuracy: 0.9814209342002869\n",
      "\n",
      "Best val_accuracy So Far: 0.9814209342002869\n",
      "Total elapsed time: 00h 06m 20s\n",
      "INFO:tensorflow:Oracle triggered exit\n"
     ]
    }
   ],
   "source": [
    "tuner.search(X_train_scaled,y_train,epochs=20,validation_data=(X_test_scaled,y_test))"
   ]
  },
  {
   "cell_type": "code",
   "execution_count": 61,
   "id": "4afe1f8e",
   "metadata": {},
   "outputs": [
    {
     "data": {
      "text/plain": [
       "{'activation': 'sigmoid',\n",
       " 'first_units': 7,\n",
       " 'num_layers': 4,\n",
       " 'units_0': 3,\n",
       " 'tuner/epochs': 3,\n",
       " 'tuner/initial_epoch': 0,\n",
       " 'tuner/bracket': 2,\n",
       " 'tuner/round': 0,\n",
       " 'units_1': 1,\n",
       " 'units_2': 1,\n",
       " 'units_3': 1}"
      ]
     },
     "execution_count": 61,
     "metadata": {},
     "output_type": "execute_result"
    }
   ],
   "source": [
    "top_model = tuner.get_best_hyperparameters(1)[0]\n",
    "top_model.values"
   ]
  },
  {
   "cell_type": "code",
   "execution_count": 52,
   "id": "8895be08",
   "metadata": {},
   "outputs": [
    {
     "ename": "AttributeError",
     "evalue": "'list' object has no attribute 'evaluate'",
     "output_type": "error",
     "traceback": [
      "\u001b[0;31m---------------------------------------------------------------------------\u001b[0m",
      "\u001b[0;31mAttributeError\u001b[0m                            Traceback (most recent call last)",
      "\u001b[0;32m<ipython-input-52-47c347f8ba09>\u001b[0m in \u001b[0;36m<module>\u001b[0;34m\u001b[0m\n\u001b[0;32m----> 1\u001b[0;31m \u001b[0mmodel_loss\u001b[0m\u001b[0;34m,\u001b[0m \u001b[0mmodel_accuracy\u001b[0m \u001b[0;34m=\u001b[0m \u001b[0mtop_model\u001b[0m\u001b[0;34m.\u001b[0m\u001b[0mevaluate\u001b[0m\u001b[0;34m(\u001b[0m\u001b[0mX_test_scaled\u001b[0m\u001b[0;34m,\u001b[0m\u001b[0my_test\u001b[0m\u001b[0;34m,\u001b[0m\u001b[0mverbose\u001b[0m\u001b[0;34m=\u001b[0m\u001b[0;36m2\u001b[0m\u001b[0;34m)\u001b[0m\u001b[0;34m\u001b[0m\u001b[0;34m\u001b[0m\u001b[0m\n\u001b[0m\u001b[1;32m      2\u001b[0m \u001b[0mprint\u001b[0m\u001b[0;34m(\u001b[0m\u001b[0;34mf\"Loss: {model_loss}, Accuracy: {model_accuracy}\"\u001b[0m\u001b[0;34m)\u001b[0m\u001b[0;34m\u001b[0m\u001b[0;34m\u001b[0m\u001b[0m\n",
      "\u001b[0;31mAttributeError\u001b[0m: 'list' object has no attribute 'evaluate'"
     ]
    }
   ],
   "source": [
    "model_loss, model_accuracy = top_model.evaluate(X_test_scaled,y_test,verbose=2)\n",
    "print(f\"Loss: {model_loss}, Accuracy: {model_accuracy}\")"
   ]
  }
 ],
 "metadata": {
  "kernelspec": {
   "display_name": "Python 3",
   "language": "python",
   "name": "python3"
  },
  "language_info": {
   "codemirror_mode": {
    "name": "ipython",
    "version": 3
   },
   "file_extension": ".py",
   "mimetype": "text/x-python",
   "name": "python",
   "nbconvert_exporter": "python",
   "pygments_lexer": "ipython3",
   "version": "3.6.10"
  }
 },
 "nbformat": 4,
 "nbformat_minor": 5
}
